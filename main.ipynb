{
 "cells": [
  {
   "cell_type": "code",
   "execution_count": 1,
   "metadata": {},
   "outputs": [],
   "source": [
    "from preprocessing import get_model_dataset, create_train_test, min_max_scale, df_to_xy, read_file, lag_features\n",
    "from lstm import create_model\n",
    "import numpy as np\n",
    "import matplotlib.pyplot as plt\n",
    "from sklearn.preprocessing import MinMaxScaler, StandardScaler"
   ]
  },
  {
   "cell_type": "code",
   "execution_count": 2,
   "metadata": {},
   "outputs": [
    {
     "name": "stdout",
     "output_type": "stream",
     "text": [
      "         Unnamed: 0  Quote_date Expire_date  Underlying_last  Strike      Ask  \\\n",
      "0           1354913  2019-01-02  2019-01-04          2509.98   800.0  1711.10   \n",
      "1           1354914  2019-01-02  2019-01-04          2509.98   900.0  1611.40   \n",
      "2           1354915  2019-01-02  2019-01-04          2509.98  1000.0  1511.40   \n",
      "3           1354916  2019-01-02  2019-01-04          2509.98  1050.0  1462.19   \n",
      "4           1354917  2019-01-02  2019-01-04          2509.98  1100.0  1412.20   \n",
      "...             ...         ...         ...              ...     ...      ...   \n",
      "5128605     6526904  2021-12-31  2026-12-18          4766.39  8400.0    71.70   \n",
      "5128606     6526905  2021-12-31  2026-12-18          4766.39  8600.0    63.60   \n",
      "5128607     6526906  2021-12-31  2026-12-18          4766.39  8800.0    55.70   \n",
      "5128608     6526907  2021-12-31  2026-12-18          4766.39  9000.0   119.80   \n",
      "5128609     6526908  2021-12-31  2026-12-18          4766.39  9200.0    41.20   \n",
      "\n",
      "             Bid  Bid_strike  Ask_strike  Moneyness   Ttl  Volatility     R  \n",
      "0        1703.00    2.128750    2.138875   3.137475     2    0.202726  2.40  \n",
      "1        1603.59    1.781767    1.790444   2.788867     2    0.202726  2.40  \n",
      "2        1503.60    1.503600    1.511400   2.509980     2    0.202726  2.40  \n",
      "3        1454.40    1.385143    1.392562   2.390457     2    0.202726  2.40  \n",
      "4        1404.40    1.276727    1.283818   2.281800     2    0.202726  2.40  \n",
      "...          ...         ...         ...        ...   ...         ...   ...  \n",
      "5128605    34.90    0.004155    0.008536   0.567427  1813    0.136456  1.26  \n",
      "5128606    29.60    0.003442    0.007395   0.554231  1813    0.136456  1.26  \n",
      "5128607    24.90    0.002830    0.006330   0.541635  1813    0.136456  1.26  \n",
      "5128608    20.80    0.002311    0.013311   0.529599  1813    0.136456  1.26  \n",
      "5128609    17.20    0.001870    0.004478   0.518086  1813    0.136456  1.26  \n",
      "\n",
      "[5128610 rows x 13 columns]\n",
      "<class 'pandas.core.frame.DataFrame'>\n",
      "RangeIndex: 5128610 entries, 0 to 5128609\n",
      "Data columns (total 13 columns):\n",
      " #   Column           Dtype  \n",
      "---  ------           -----  \n",
      " 0   Unnamed: 0       int64  \n",
      " 1   Quote_date       object \n",
      " 2   Expire_date      object \n",
      " 3   Underlying_last  float64\n",
      " 4   Strike           float64\n",
      " 5   Ask              float64\n",
      " 6   Bid              float64\n",
      " 7   Bid_strike       float64\n",
      " 8   Ask_strike       float64\n",
      " 9   Moneyness        float64\n",
      " 10  Ttl              int64  \n",
      " 11  Volatility       float64\n",
      " 12  R                float64\n",
      "dtypes: float64(9), int64(2), object(2)\n",
      "memory usage: 508.7+ MB\n",
      "         Unnamed: 0  Quote_date Expire_date  Underlying_last  Strike      Ask  \\\n",
      "0           1354913  2019-01-02  2019-01-04          2509.98   800.0  1711.10   \n",
      "1           1354914  2019-01-02  2019-01-04          2509.98   900.0  1611.40   \n",
      "2           1354915  2019-01-02  2019-01-04          2509.98  1000.0  1511.40   \n",
      "3           1354916  2019-01-02  2019-01-04          2509.98  1050.0  1462.19   \n",
      "4           1354917  2019-01-02  2019-01-04          2509.98  1100.0  1412.20   \n",
      "...             ...         ...         ...              ...     ...      ...   \n",
      "5128485     6526784  2021-12-31  2024-12-20          4766.39  8400.0   300.00   \n",
      "5128486     6526785  2021-12-31  2024-12-20          4766.39  8600.0   300.00   \n",
      "5128487     6526786  2021-12-31  2024-12-20          4766.39  8800.0   300.90   \n",
      "5128488     6526787  2021-12-31  2024-12-20          4766.39  9000.0   300.00   \n",
      "5128489     6526788  2021-12-31  2024-12-20          4766.39  9200.0   300.00   \n",
      "\n",
      "             Bid  Bid_strike  Ask_strike  Moneyness   Ttl  Volatility     R  \n",
      "0        1703.00    2.128750    2.138875   3.137475     2    0.202726  2.40  \n",
      "1        1603.59    1.781767    1.790444   2.788867     2    0.202726  2.40  \n",
      "2        1503.60    1.503600    1.511400   2.509980     2    0.202726  2.40  \n",
      "3        1454.40    1.385143    1.392562   2.390457     2    0.202726  2.40  \n",
      "4        1404.40    1.276727    1.283818   2.281800     2    0.202726  2.40  \n",
      "...          ...         ...         ...        ...   ...         ...   ...  \n",
      "5128485     0.00    0.000000    0.035714   0.567427  1085    0.136456  0.97  \n",
      "5128486     0.00    0.000000    0.034884   0.554231  1085    0.136456  0.97  \n",
      "5128487     0.90    0.000102    0.034193   0.541635  1085    0.136456  0.97  \n",
      "5128488     0.00    0.000000    0.033333   0.529599  1085    0.136456  0.97  \n",
      "5128489     0.00    0.000000    0.032609   0.518086  1085    0.136456  0.97  \n",
      "\n",
      "[5123390 rows x 13 columns]\n"
     ]
    }
   ],
   "source": [
    "first_year = 2019\n",
    "last_year = 2021\n",
    "file = f\"./data/processed_data/{first_year}-{last_year}.csv\"\n",
    "\n",
    "df_read = read_file(file)\n",
    "print(df_read)\n",
    "df_read.info()\n",
    "print(df_read[df_read[\"Ttl\"] <= 1089])"
   ]
  },
  {
   "cell_type": "code",
   "execution_count": null,
   "metadata": {},
   "outputs": [],
   "source": [
    "features = [\"Moneyness\", \"Ttl\", \"R\", \"Volatility\"]\n",
    "seq_length = 5\n",
    "num_features = len(features)\n",
    "\n",
    "df_read_lags = lag_features(df_read, features, seq_length)\n",
    "\n",
    "df_train_orginal, df_test_orginal = create_train_test(df_read_lags, \"2021-01-01\")\n",
    "\n",
    "train_x_org, train_y_org, = df_to_xy(df_train_orginal, num_features, seq_length)\n",
    "test_x_org, test_y_org = df_to_xy(df_test_orginal, num_features, seq_length)\n",
    "\n",
    "train_x_scaled, test_x_scaled = min_max_scale(train_x_org, test_x_org)\n",
    "train_y_scaled, test_y_scaled = min_max_scale(train_y_org, test_y_org)\n",
    "\n",
    "shuffle = np.random.permutation(len(train_x_scaled))\n",
    "train_x_scaled, train_y_scaled = train_x_scaled[shuffle], train_y_scaled[shuffle]\n",
    "\n",
    "train_x_scaled = np.reshape(train_x_scaled, (len(train_x_scaled), seq_length, num_features))\n",
    "test_x_scaled = np.reshape(test_x_scaled, (len(test_x_scaled), seq_length, num_features))\n",
    "\n",
    "print(f\"Train_x shape: {train_x_scaled.shape}, train_y shape: {train_y_scaled.shape}\")\n",
    "print(f\"Test_x shape: {test_x_scaled.shape}, test_y shape: {test_y_scaled.shape}\")"
   ]
  },
  {
   "cell_type": "code",
   "execution_count": null,
   "metadata": {},
   "outputs": [],
   "source": [
    "plt.plot(range(1,len(df_read[\"Bid\"])+1), df_read.sort_values([\"Bid\", \"Ask\"], ascending = True)[\"Bid\"])"
   ]
  },
  {
   "cell_type": "code",
   "execution_count": null,
   "metadata": {},
   "outputs": [],
   "source": [
    "plt.plot(range(1,len(train_y_scaled[:,:1])+1), np.sort(train_y_scaled[:,:1], axis = 0))"
   ]
  },
  {
   "cell_type": "code",
   "execution_count": null,
   "metadata": {},
   "outputs": [],
   "source": [
    "from keras.callbacks import EarlyStopping\n",
    "config = {\n",
    "    \"units\": 64,\n",
    "    \"dropout\": 0.1,\n",
    "    \"recurrent_dropout\": 0.1,\n",
    "    \"learning_rate\": 0.001,\n",
    "    \"layers\": 5,\n",
    "    \"seq_length\": seq_length,\n",
    "    \"num_features\": num_features,\n",
    "    \"bn_momentum\" : 0.1\n",
    "}\n",
    "\n",
    "def trainer(train_x, train_y, model):\n",
    "    epochs = 100\n",
    "    minibatch_size = 4096\n",
    "\n",
    "    early_stopping = EarlyStopping(\n",
    "        monitor='loss',\n",
    "        mode='min',\n",
    "        min_delta=1e-7,\n",
    "        patience=10,\n",
    "    )\n",
    "\n",
    "    model.fit(\n",
    "        train_x,\n",
    "        train_y,\n",
    "        batch_size = minibatch_size,\n",
    "        epochs = epochs,\n",
    "        callbacks = [early_stopping]\n",
    "    )\n",
    "\n",
    "model = create_model(config)\n",
    "model.summary()\n",
    "\n",
    "trainer(train_x_scaled, train_y_scaled, model)"
   ]
  },
  {
   "cell_type": "code",
   "execution_count": null,
   "metadata": {},
   "outputs": [],
   "source": [
    "def prediction(df_test, test_x, model, train_y_org, train_y_scaled):\n",
    "    predictions = np.array(model(test_x))\n",
    "    df_test[\"Raw_pred_bid\"] = predictions[:, :1]\n",
    "    df_test[\"Scaled_bid\"] = train_y_scaled[:, :1]\n",
    "    df_test[\"Raw_mae_bid\"] = abs(df_test[\"Raw_pred_bid\"] - df_test[\"Scaled_bid\"] )\n",
    "    scaler = MinMaxScaler().fit(train_y_org)\n",
    "    predictions = scaler.inverse_transform(predictions)\n",
    "    bid, ask = predictions[:, :1], predictions[:, 1:]\n",
    "    df_test[\"Prediction_bid_strike\"] = bid\n",
    "    df_test[\"Prediction_ask_strike\"] = ask\n",
    "    df_test[\"Prediction_bid\"] = df_test[\"Prediction_bid_strike\"] * df_test[\"Strike\"]\n",
    "    df_test[\"Prediction_ask\"] = df_test[\"Prediction_ask_strike\"] * df_test[\"Strike\"]\n",
    "    df_test[\"MAE_bid\"] = abs(df_test[\"Bid\"] - df_test[\"Prediction_bid\"])\n",
    "    df_test[\"MAE_ask\"] = abs(df_test[\"Ask\"] - df_test[\"Prediction_ask\"])\n",
    "    return df_test\n",
    "\n",
    "df_test = prediction(df_train_orginal, train_x_scaled, model, train_y_org, train_y_scaled)\n",
    "\n",
    "df_test.info()\n",
    "print(df_test.head())"
   ]
  },
  {
   "cell_type": "code",
   "execution_count": null,
   "metadata": {},
   "outputs": [],
   "source": [
    "print(df_test.head(20)[[\"Bid\", \"Ask\", \"Prediction_bid\", \"Prediction_ask\", \"MAE_bid\", \"MAE_ask\"]])"
   ]
  },
  {
   "cell_type": "code",
   "execution_count": null,
   "metadata": {},
   "outputs": [],
   "source": [
    "print(f\"MAE: {df_test['MAE_bid'].mean()}\")\n",
    "plt.scatter(df_test[\"Bid\"], df_test[\"MAE_bid\"])\n",
    "plt.show()"
   ]
  },
  {
   "cell_type": "code",
   "execution_count": null,
   "metadata": {},
   "outputs": [],
   "source": [
    "print(f\"MAE: {df_test['Raw_mae_bid'].mean()}\")\n",
    "plt.scatter(train_y_scaled[:,:1], df_test[\"Raw_mae_bid\"])\n",
    "plt.show()"
   ]
  },
  {
   "cell_type": "code",
   "execution_count": null,
   "metadata": {},
   "outputs": [],
   "source": [
    "print(f\"MAE: {df_test['MAE_ask'].mean()}\")\n",
    "plt.scatter(df_test[\"Ask\"], df_test[\"MAE_ask\"])\n",
    "plt.show()"
   ]
  },
  {
   "cell_type": "code",
   "execution_count": null,
   "metadata": {},
   "outputs": [],
   "source": [
    "plt.scatter(df_train_orginal[\"Strike\"], df_train_orginal[\"Moneyness\"])\n",
    "plt.show()"
   ]
  }
 ],
 "metadata": {
  "kernelspec": {
   "display_name": "Python 3.9.4 64-bit",
   "language": "python",
   "name": "python3"
  },
  "language_info": {
   "codemirror_mode": {
    "name": "ipython",
    "version": 3
   },
   "file_extension": ".py",
   "mimetype": "text/x-python",
   "name": "python",
   "nbconvert_exporter": "python",
   "pygments_lexer": "ipython3",
   "version": "3.9.4"
  },
  "orig_nbformat": 4,
  "vscode": {
   "interpreter": {
    "hash": "6d22c5043c0ee61c8547bd88adb0f85d3d6a0a630c1da4282026f99271dac814"
   }
  }
 },
 "nbformat": 4,
 "nbformat_minor": 2
}
