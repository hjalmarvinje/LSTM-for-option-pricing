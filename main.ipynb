{
 "cells": [
  {
   "cell_type": "code",
   "execution_count": null,
   "metadata": {},
   "outputs": [
    {
     "name": "stderr",
     "output_type": "stream",
     "text": [
      "Failed to detect the name of this notebook, you can set it manually with the WANDB_NOTEBOOK_NAME environment variable to enable code saving.\n",
      "\u001b[34m\u001b[1mwandb\u001b[0m: Currently logged in as: \u001b[33mvinje\u001b[0m (\u001b[33mavogadro\u001b[0m). Use \u001b[1m`wandb login --relogin`\u001b[0m to force relogin\n"
     ]
    },
    {
     "data": {
      "text/html": [
       "Tracking run with wandb version 0.13.5"
      ],
      "text/plain": [
       "<IPython.core.display.HTML object>"
      ]
     },
     "metadata": {},
     "output_type": "display_data"
    },
    {
     "data": {
      "text/html": [
       "Run data is saved locally in <code>/Users/hjalmarvinje/Documents/LSTM for option pricing/wandb/run-20221108_153245-3gcemh5f</code>"
      ],
      "text/plain": [
       "<IPython.core.display.HTML object>"
      ]
     },
     "metadata": {},
     "output_type": "display_data"
    },
    {
     "data": {
      "text/html": [
       "Syncing run <strong><a href=\"https://wandb.ai/avogadro/LSTM%20option%20pricing/runs/3gcemh5f\" target=\"_blank\">bright-butterfly-46</a></strong> to <a href=\"https://wandb.ai/avogadro/LSTM%20option%20pricing\" target=\"_blank\">Weights & Biases</a> (<a href=\"https://wandb.me/run\" target=\"_blank\">docs</a>)<br/>"
      ],
      "text/plain": [
       "<IPython.core.display.HTML object>"
      ]
     },
     "metadata": {},
     "output_type": "display_data"
    },
    {
     "data": {
      "text/html": [
       "<button onClick=\"this.nextSibling.style.display='block';this.style.display='none';\">Display W&B run</button><iframe src=\"https://wandb.ai/avogadro/LSTM%20option%20pricing/runs/3gcemh5f?jupyter=true\" style=\"border:none;width:100%;height:420px;display:none;\"></iframe>"
      ],
      "text/plain": [
       "<wandb.sdk.wandb_run.Run at 0x7faefd03baf0>"
      ]
     },
     "execution_count": 1,
     "metadata": {},
     "output_type": "execute_result"
    }
   ],
   "source": [
    "from preprocessing import get_model_dataset, create_train_test, min_max_scale, df_to_xy, read_file, lag_features\n",
    "from lstm import create_model\n",
    "import numpy as np\n",
    "import matplotlib.pyplot as plt\n",
    "from sklearn.preprocessing import MinMaxScaler, StandardScaler"
   ]
  },
  {
   "cell_type": "code",
   "execution_count": null,
   "metadata": {},
   "outputs": [],
   "source": [
    "first_year = 2019\n",
    "last_year = 2021\n",
    "file = f\"./data/processed_data/{first_year}-{last_year}.csv\"\n",
    "\n",
    "df_read = read_file(file)\n",
    "print(df_read)\n",
    "df_read.info()\n",
    "print(df_read)\n",
    "print(df_read[\"Ttl\"].max())"
   ]
  },
  {
   "cell_type": "code",
   "execution_count": null,
   "metadata": {},
   "outputs": [],
   "source": [
    "tests = [10000, 1586, 1086, 365*2, 365, 180, 90, 60, 30, 15, 0]\n",
    "for test in tests:\n",
    "    print('Count Ttl >', test, ':', df_read[\"Ttl\"][df_read['Ttl'] > test].count())"
   ]
  },
  {
   "cell_type": "code",
   "execution_count": null,
   "metadata": {},
   "outputs": [],
   "source": [
    "tests = [50, 25, 10, 5, 2, 1.5, 1, 0.5, 0]\n",
    "print(df_read[\"Moneyness\"].max())\n",
    "print(df_read[\"Moneyness\"].min())\n",
    "for test in tests:\n",
    "    print('Moneyness Ttl >', test, ':', df_read[\"Moneyness\"][df_read['Moneyness'] > test].count() / df_read[\"Moneyness\"].count() * 100)"
   ]
  },
  {
   "cell_type": "code",
   "execution_count": null,
   "metadata": {},
   "outputs": [],
   "source": [
    "features = [\"Moneyness\", \"Ttl\", \"R\", \"Volatility\"]\n",
    "seq_length = 5\n",
    "num_features = len(features)\n",
    "\n",
    "df_read_lags = lag_features(df_read, features, seq_length)\n",
    "\n",
    "df_train_orginal, df_test_orginal = create_train_test(df_read_lags, \"2021-01-01\")\n",
    "\n",
    "train_x_org, train_y_org, = df_to_xy(df_train_orginal, num_features, seq_length)\n",
    "test_x_org, test_y_org = df_to_xy(df_test_orginal, num_features, seq_length)\n",
    "\n",
    "train_x_scaled, test_x_scaled = min_max_scale(train_x_org, test_x_org)\n",
    "train_y_scaled, test_y_scaled = min_max_scale(train_y_org, test_y_org)\n",
    "\n",
    "shuffle = np.random.permutation(len(train_x_scaled))\n",
    "train_x_scaled, train_y_scaled = train_x_scaled[shuffle], train_y_scaled[shuffle]\n",
    "\n",
    "train_x_scaled = np.reshape(train_x_scaled, (len(train_x_scaled), seq_length, num_features))\n",
    "test_x_scaled = np.reshape(test_x_scaled, (len(test_x_scaled), seq_length, num_features))\n",
    "\n",
    "print(f\"Train_x shape: {train_x_scaled.shape}, train_y shape: {train_y_scaled.shape}\")\n",
    "print(f\"Test_x shape: {test_x_scaled.shape}, test_y shape: {test_y_scaled.shape}\")"
   ]
  },
  {
   "cell_type": "code",
   "execution_count": null,
   "metadata": {},
   "outputs": [],
   "source": [
    "plt.plot(range(1,len(df_read[\"Bid\"])+1), df_read.sort_values([\"Bid\", \"Ask\"], ascending = True)[\"Bid\"])"
   ]
  },
  {
   "cell_type": "code",
   "execution_count": null,
   "metadata": {},
   "outputs": [],
   "source": [
    "plt.plot(range(1,len(train_y_scaled[:,:1])+1), np.sort(train_y_scaled[:,:1], axis = 0))"
   ]
  },
  {
   "cell_type": "code",
   "execution_count": null,
   "metadata": {},
   "outputs": [],
   "source": [
    "from keras.callbacks import EarlyStopping\n",
    "config = {\n",
    "    \"units\": 64,\n",
    "    \"dropout\": 0.1,\n",
    "    \"recurrent_dropout\": 0.1,\n",
    "    \"learning_rate\": 0.001,\n",
    "    \"layers\": 5,\n",
    "    \"seq_length\": seq_length,\n",
    "    \"num_features\": num_features,\n",
    "    \"bn_momentum\" : 0.1\n",
    "}\n",
    "\n",
    "def trainer(train_x, train_y, model):\n",
    "    epochs = 100\n",
    "    minibatch_size = 4096\n",
    "\n",
    "    early_stopping = EarlyStopping(\n",
    "        monitor='loss',\n",
    "        mode='min',\n",
    "        min_delta=1e-7,\n",
    "        patience=10,\n",
    "    )\n",
    "\n",
    "    model.fit(\n",
    "        train_x,\n",
    "        train_y,\n",
    "        batch_size = minibatch_size,\n",
    "        epochs = epochs,\n",
    "        callbacks = [early_stopping]\n",
    "    )\n",
    "\n",
    "model = create_model(config)\n",
    "model.summary()\n",
    "\n",
    "wandb.agent(sweep_id=sweep_id, function=model)\n",
    "\n",
    "trainer(train_x_scaled, train_y_scaled, model)"
   ]
  },
  {
   "cell_type": "code",
   "execution_count": null,
   "metadata": {},
   "outputs": [],
   "source": [
    "def prediction(df_test, test_x, model, train_y_org, train_y_scaled):\n",
    "    predictions = np.array(model(test_x))\n",
    "    df_test[\"Raw_pred_bid\"] = predictions[:, :1]\n",
    "    df_test[\"Scaled_bid\"] = train_y_scaled[:, :1]\n",
    "    df_test[\"Raw_mae_bid\"] = abs(df_test[\"Raw_pred_bid\"] - df_test[\"Scaled_bid\"] )\n",
    "    scaler = MinMaxScaler().fit(train_y_org)\n",
    "    predictions = scaler.inverse_transform(predictions)\n",
    "    bid, ask = predictions[:, :1], predictions[:, 1:]\n",
    "    df_test[\"Prediction_bid_strike\"] = bid\n",
    "    df_test[\"Prediction_ask_strike\"] = ask\n",
    "    df_test[\"Prediction_bid\"] = df_test[\"Prediction_bid_strike\"] * df_test[\"Strike\"]\n",
    "    df_test[\"Prediction_ask\"] = df_test[\"Prediction_ask_strike\"] * df_test[\"Strike\"]\n",
    "    df_test[\"MAE_bid\"] = abs(df_test[\"Bid\"] - df_test[\"Prediction_bid\"])\n",
    "    df_test[\"MAE_ask\"] = abs(df_test[\"Ask\"] - df_test[\"Prediction_ask\"])\n",
    "    return df_test\n",
    "\n",
    "df_test = prediction(df_train_orginal, train_x_scaled, model, train_y_org, train_y_scaled)\n",
    "\n",
    "df_test.info()\n",
    "print(df_test.head())"
   ]
  },
  {
   "cell_type": "code",
   "execution_count": null,
   "metadata": {},
   "outputs": [],
   "source": [
    "print(df_test.head(20)[[\"Bid\", \"Ask\", \"Prediction_bid\", \"Prediction_ask\", \"MAE_bid\", \"MAE_ask\"]])"
   ]
  },
  {
   "cell_type": "code",
   "execution_count": null,
   "metadata": {},
   "outputs": [],
   "source": [
    "print(f\"MAE: {df_test['MAE_bid'].mean()}\")\n",
    "plt.scatter(df_test[\"Bid\"], df_test[\"MAE_bid\"])\n",
    "plt.show()"
   ]
  },
  {
   "cell_type": "code",
   "execution_count": null,
   "metadata": {},
   "outputs": [],
   "source": [
    "print(f\"MAE: {df_test['Raw_mae_bid'].mean()}\")\n",
    "plt.scatter(train_y_scaled[:,:1], df_test[\"Raw_mae_bid\"])\n",
    "plt.show()"
   ]
  },
  {
   "cell_type": "code",
   "execution_count": null,
   "metadata": {},
   "outputs": [],
   "source": [
    "print(f\"MAE: {df_test['MAE_ask'].mean()}\")\n",
    "plt.scatter(df_test[\"Ask\"], df_test[\"MAE_ask\"])\n",
    "plt.show()"
   ]
  },
  {
   "cell_type": "code",
   "execution_count": null,
   "metadata": {},
   "outputs": [],
   "source": [
    "plt.scatter(df_train_orginal[\"Strike\"], df_train_orginal[\"Moneyness\"])\n",
    "plt.show()"
   ]
  }
 ],
 "metadata": {
  "kernelspec": {
   "display_name": "Python 3.8.1 64-bit",
   "language": "python",
   "name": "python3"
  },
  "language_info": {
   "codemirror_mode": {
    "name": "ipython",
    "version": 3
   },
   "file_extension": ".py",
   "mimetype": "text/x-python",
   "name": "python",
   "nbconvert_exporter": "python",
   "pygments_lexer": "ipython3",
   "version": "3.8.1"
  },
  "orig_nbformat": 4,
  "vscode": {
   "interpreter": {
    "hash": "aee8b7b246df8f9039afb4144a1f6fd8d2ca17a180786b69acc140d282b71a49"
   }
  }
 },
 "nbformat": 4,
 "nbformat_minor": 2
}
