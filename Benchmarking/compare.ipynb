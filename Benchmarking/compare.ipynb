{
 "cells": [
  {
   "cell_type": "code",
   "execution_count": 21,
   "metadata": {},
   "outputs": [],
   "source": [
    "from math import log, sqrt, pi, exp\n",
    "from scipy.stats import norm\n",
    "import pandas as pd\n",
    "import tensorflow as tf"
   ]
  },
  {
   "cell_type": "code",
   "execution_count": 5,
   "metadata": {},
   "outputs": [],
   "source": [
    "def read_file(file):\n",
    "    \"\"\"Read a single file and return a dataframe\"\"\"\n",
    "    return pd.read_csv(file, skipinitialspace=True)"
   ]
  },
  {
   "cell_type": "code",
   "execution_count": 22,
   "metadata": {},
   "outputs": [],
   "source": [
    "df_options = read_file(\"data/benchmark_with_Pred_Naive_and_BS.csv\")"
   ]
  },
  {
   "cell_type": "code",
   "execution_count": 23,
   "metadata": {},
   "outputs": [],
   "source": [
    "df_low_money = df_options[df_options[\"Underlying_last\"] / df_options[\"Strike\"] < 0.97]\n",
    "df_low_money.name = \"<0.97\"\n",
    "df_mid_money = df_options[(df_options[\"Underlying_last\"] / df_options[\"Strike\"]).between(0.97, 1.03, inclusive=True)]\n",
    "df_mid_money.name = \"0.97-1.03\"\n",
    "df_high_money = df_options[df_options[\"Underlying_last\"] / df_options[\"Strike\"] > 1.03]\n",
    "df_high_money.name = \">1.03\""
   ]
  },
  {
   "cell_type": "code",
   "execution_count": 26,
   "metadata": {},
   "outputs": [
    {
     "name": "stderr",
     "output_type": "stream",
     "text": [
      "<ipython-input-26-3e712a2da552>:5: UserWarning: Boolean Series key will be reindexed to match DataFrame index.\n",
      "  df_temp = dataframex[(df_options[\"Ttl\"]).between(i, i + 89, inclusive=True)]\n",
      "<ipython-input-26-3e712a2da552>:5: UserWarning: Boolean Series key will be reindexed to match DataFrame index.\n",
      "  df_temp = dataframex[(df_options[\"Ttl\"]).between(i, i + 89, inclusive=True)]\n",
      "<ipython-input-26-3e712a2da552>:5: UserWarning: Boolean Series key will be reindexed to match DataFrame index.\n",
      "  df_temp = dataframex[(df_options[\"Ttl\"]).between(i, i + 89, inclusive=True)]\n",
      "<ipython-input-26-3e712a2da552>:5: UserWarning: Boolean Series key will be reindexed to match DataFrame index.\n",
      "  df_temp = dataframex[(df_options[\"Ttl\"]).between(i, i + 89, inclusive=True)]\n",
      "<ipython-input-26-3e712a2da552>:5: UserWarning: Boolean Series key will be reindexed to match DataFrame index.\n",
      "  df_temp = dataframex[(df_options[\"Ttl\"]).between(i, i + 89, inclusive=True)]\n",
      "<ipython-input-26-3e712a2da552>:5: UserWarning: Boolean Series key will be reindexed to match DataFrame index.\n",
      "  df_temp = dataframex[(df_options[\"Ttl\"]).between(i, i + 89, inclusive=True)]\n",
      "<ipython-input-26-3e712a2da552>:5: UserWarning: Boolean Series key will be reindexed to match DataFrame index.\n",
      "  df_temp = dataframex[(df_options[\"Ttl\"]).between(i, i + 89, inclusive=True)]\n",
      "<ipython-input-26-3e712a2da552>:5: UserWarning: Boolean Series key will be reindexed to match DataFrame index.\n",
      "  df_temp = dataframex[(df_options[\"Ttl\"]).between(i, i + 89, inclusive=True)]\n",
      "<ipython-input-26-3e712a2da552>:5: UserWarning: Boolean Series key will be reindexed to match DataFrame index.\n",
      "  df_temp = dataframex[(df_options[\"Ttl\"]).between(i, i + 89, inclusive=True)]\n",
      "<ipython-input-26-3e712a2da552>:5: UserWarning: Boolean Series key will be reindexed to match DataFrame index.\n",
      "  df_temp = dataframex[(df_options[\"Ttl\"]).between(i, i + 89, inclusive=True)]\n",
      "<ipython-input-26-3e712a2da552>:5: UserWarning: Boolean Series key will be reindexed to match DataFrame index.\n",
      "  df_temp = dataframex[(df_options[\"Ttl\"]).between(i, i + 89, inclusive=True)]\n",
      "<ipython-input-26-3e712a2da552>:5: UserWarning: Boolean Series key will be reindexed to match DataFrame index.\n",
      "  df_temp = dataframex[(df_options[\"Ttl\"]).between(i, i + 89, inclusive=True)]\n",
      "<ipython-input-26-3e712a2da552>:5: UserWarning: Boolean Series key will be reindexed to match DataFrame index.\n",
      "  df_temp = dataframex[(df_options[\"Ttl\"]).between(i, i + 89, inclusive=True)]\n",
      "<ipython-input-26-3e712a2da552>:5: UserWarning: Boolean Series key will be reindexed to match DataFrame index.\n",
      "  df_temp = dataframex[(df_options[\"Ttl\"]).between(i, i + 89, inclusive=True)]\n",
      "<ipython-input-26-3e712a2da552>:5: UserWarning: Boolean Series key will be reindexed to match DataFrame index.\n",
      "  df_temp = dataframex[(df_options[\"Ttl\"]).between(i, i + 89, inclusive=True)]\n",
      "<ipython-input-26-3e712a2da552>:5: UserWarning: Boolean Series key will be reindexed to match DataFrame index.\n",
      "  df_temp = dataframex[(df_options[\"Ttl\"]).between(i, i + 89, inclusive=True)]\n",
      "<ipython-input-26-3e712a2da552>:5: UserWarning: Boolean Series key will be reindexed to match DataFrame index.\n",
      "  df_temp = dataframex[(df_options[\"Ttl\"]).between(i, i + 89, inclusive=True)]\n",
      "<ipython-input-26-3e712a2da552>:5: UserWarning: Boolean Series key will be reindexed to match DataFrame index.\n",
      "  df_temp = dataframex[(df_options[\"Ttl\"]).between(i, i + 89, inclusive=True)]\n",
      "<ipython-input-26-3e712a2da552>:5: UserWarning: Boolean Series key will be reindexed to match DataFrame index.\n",
      "  df_temp = dataframex[(df_options[\"Ttl\"]).between(i, i + 89, inclusive=True)]\n",
      "<ipython-input-26-3e712a2da552>:5: UserWarning: Boolean Series key will be reindexed to match DataFrame index.\n",
      "  df_temp = dataframex[(df_options[\"Ttl\"]).between(i, i + 89, inclusive=True)]\n",
      "<ipython-input-26-3e712a2da552>:5: UserWarning: Boolean Series key will be reindexed to match DataFrame index.\n",
      "  df_temp = dataframex[(df_options[\"Ttl\"]).between(i, i + 89, inclusive=True)]\n",
      "<ipython-input-26-3e712a2da552>:5: UserWarning: Boolean Series key will be reindexed to match DataFrame index.\n",
      "  df_temp = dataframex[(df_options[\"Ttl\"]).between(i, i + 89, inclusive=True)]\n",
      "<ipython-input-26-3e712a2da552>:5: UserWarning: Boolean Series key will be reindexed to match DataFrame index.\n",
      "  df_temp = dataframex[(df_options[\"Ttl\"]).between(i, i + 89, inclusive=True)]\n",
      "<ipython-input-26-3e712a2da552>:5: UserWarning: Boolean Series key will be reindexed to match DataFrame index.\n",
      "  df_temp = dataframex[(df_options[\"Ttl\"]).between(i, i + 89, inclusive=True)]\n",
      "<ipython-input-26-3e712a2da552>:5: UserWarning: Boolean Series key will be reindexed to match DataFrame index.\n",
      "  df_temp = dataframex[(df_options[\"Ttl\"]).between(i, i + 89, inclusive=True)]\n",
      "<ipython-input-26-3e712a2da552>:5: UserWarning: Boolean Series key will be reindexed to match DataFrame index.\n",
      "  df_temp = dataframex[(df_options[\"Ttl\"]).between(i, i + 89, inclusive=True)]\n",
      "<ipython-input-26-3e712a2da552>:5: UserWarning: Boolean Series key will be reindexed to match DataFrame index.\n",
      "  df_temp = dataframex[(df_options[\"Ttl\"]).between(i, i + 89, inclusive=True)]\n",
      "<ipython-input-26-3e712a2da552>:5: UserWarning: Boolean Series key will be reindexed to match DataFrame index.\n",
      "  df_temp = dataframex[(df_options[\"Ttl\"]).between(i, i + 89, inclusive=True)]\n",
      "<ipython-input-26-3e712a2da552>:5: UserWarning: Boolean Series key will be reindexed to match DataFrame index.\n",
      "  df_temp = dataframex[(df_options[\"Ttl\"]).between(i, i + 89, inclusive=True)]\n",
      "<ipython-input-26-3e712a2da552>:5: UserWarning: Boolean Series key will be reindexed to match DataFrame index.\n",
      "  df_temp = dataframex[(df_options[\"Ttl\"]).between(i, i + 89, inclusive=True)]\n"
     ]
    }
   ],
   "source": [
    "df = pd.DataFrame(columns=['Moneyness', 'Maturity', 'B-S', 'Naive', 'LSTM'])\n",
    "for dataframex in [df_low_money, df_mid_money, df_high_money]:\n",
    "    i = 1\n",
    "    for days in range(10):\n",
    "        df_temp = dataframex[(df_options[\"Ttl\"]).between(i, i + 89, inclusive=True)]\n",
    "        bs = sqrt(tf.keras.metrics.mean_squared_error(df_temp[\"Price\"], df_temp[\"BS\"]))\n",
    "        naive = sqrt(tf.keras.metrics.mean_squared_error(df_temp[\"Price\"], df_temp[\"Naive\"]))\n",
    "        lstm = sqrt(tf.keras.metrics.mean_squared_error(df_temp[\"Price\"], df_temp[\"Prediction\"]))\n",
    "        df.loc[len(df.index)] = [dataframex.name, str(i) + \"-\" + str(i + 89), bs, naive, lstm]\n",
    "        i = i + 90"
   ]
  },
  {
   "cell_type": "code",
   "execution_count": 27,
   "metadata": {},
   "outputs": [
    {
     "name": "stdout",
     "output_type": "stream",
     "text": [
      "    Moneyness Maturity         B-S      Naive       LSTM\n",
      "0       <0.97     1-90    4.204846   2.823519  17.463075\n",
      "1       <0.97   91-180   13.669220   6.051504  11.031143\n",
      "2       <0.97  181-270   20.239733   5.928463  11.565058\n",
      "3       <0.97  271-360   29.471541  10.963838  17.533759\n",
      "4       <0.97  361-450   38.887352  13.215093  20.913672\n",
      "5       <0.97  451-540   47.104881  14.513897  17.966305\n",
      "6       <0.97  541-630   53.419363  18.022719  33.112971\n",
      "7       <0.97  631-720   56.501549  17.037032  24.690590\n",
      "8       <0.97  721-810  101.021216  16.439628  60.525703\n",
      "9       <0.97  811-900   86.392530  12.816688  15.634637\n",
      "10  0.97-1.03     1-90   16.223921  16.951330  49.107860\n",
      "11  0.97-1.03   91-180   44.846009  15.509885  18.408163\n",
      "12  0.97-1.03  181-270   69.023797  15.983753  20.180332\n",
      "13  0.97-1.03  271-360   86.402735  17.682173  26.617325\n",
      "14  0.97-1.03  361-450  101.910640  17.036606  29.832996\n",
      "15  0.97-1.03  451-540  113.318677  17.786849  26.519897\n",
      "16  0.97-1.03  541-630  121.726903  19.025779  47.805319\n",
      "17  0.97-1.03  631-720  117.734043  17.767103  29.268106\n",
      "18  0.97-1.03  721-810  186.466255  24.005504  82.247335\n",
      "19  0.97-1.03  811-900  161.045680  18.724668  18.421907\n",
      "20      >1.03     1-90   13.188847  31.631645  25.723869\n",
      "21      >1.03   91-180   38.978311  28.534587  18.174437\n",
      "22      >1.03  181-270   49.457264  29.664117  23.780593\n",
      "23      >1.03  271-360   67.914796  40.799749  34.547324\n",
      "24      >1.03  361-450   74.990757  34.076757  35.859493\n",
      "25      >1.03  451-540   84.945447  49.279567  45.295420\n",
      "26      >1.03  541-630   91.470063  56.142435  53.349120\n",
      "27      >1.03  631-720  100.201702  63.785797  59.389387\n",
      "28      >1.03  721-810  121.877830  38.247238  81.171206\n",
      "29      >1.03  811-900  113.186271  28.778353  47.861218\n"
     ]
    }
   ],
   "source": [
    "print(df)"
   ]
  },
  {
   "cell_type": "code",
   "execution_count": 16,
   "metadata": {},
   "outputs": [],
   "source": [
    "# Write to file\n",
    "df_options.to_csv('data/benchmark_with_Naive_and_BS.csv', encoding='utf-8', index=False)"
   ]
  },
  {
   "cell_type": "code",
   "execution_count": 30,
   "metadata": {},
   "outputs": [],
   "source": [
    "with open('results.tex', 'w') as tf:\n",
    "     tf.write(df.to_latex())"
   ]
  }
 ],
 "metadata": {
  "kernelspec": {
   "display_name": "Python 3.8.1 64-bit",
   "language": "python",
   "name": "python3"
  },
  "language_info": {
   "codemirror_mode": {
    "name": "ipython",
    "version": 3
   },
   "file_extension": ".py",
   "mimetype": "text/x-python",
   "name": "python",
   "nbconvert_exporter": "python",
   "pygments_lexer": "ipython3",
   "version": "3.8.1"
  },
  "orig_nbformat": 4,
  "vscode": {
   "interpreter": {
    "hash": "0adcc2737ebf6a4a119f135174df96668767fca1ef1112612db5ecadf2b6d608"
   }
  }
 },
 "nbformat": 4,
 "nbformat_minor": 2
}
