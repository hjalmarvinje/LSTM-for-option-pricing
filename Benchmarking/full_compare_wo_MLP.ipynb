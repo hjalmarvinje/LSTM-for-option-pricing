{
 "cells": [
  {
   "cell_type": "code",
   "execution_count": 19,
   "metadata": {},
   "outputs": [],
   "source": [
    "#Imports\n",
    "from math import log, sqrt, pi, exp\n",
    "from scipy.stats import norm\n",
    "import pandas as pd\n",
    "import tensorflow as tf\n",
    "import numpy as np\n",
    "\n",
    "def read_file(file):\n",
    "    \"\"\"Read a single file and return a dataframe\"\"\"\n",
    "    return pd.read_csv(file, skipinitialspace=True)"
   ]
  },
  {
   "cell_type": "code",
   "execution_count": 20,
   "metadata": {},
   "outputs": [],
   "source": [
    "# Black-Scholes formula for call options\n",
    "def d1(S,K,T,r,sigma):\n",
    "    x1 = S.apply(lambda x : log(x)) - K.apply(lambda x : log(x))\n",
    "    x2 = (r + ((sigma.apply(lambda x : x**2)) / 2)) * T\n",
    "    x3 = sigma * T.apply(lambda x: sqrt(x))\n",
    "    return  (x1 + x2) / x3\n",
    "\n",
    "def d2(S,K,T,r,sigma):\n",
    "    return d1(S,K,T,r,sigma) - sigma * T.apply(lambda x : sqrt(x))  \n",
    "\n",
    "def bs_call(S,K,T,r,sigma):\n",
    "    T = T/365\n",
    "    r = r/100\n",
    "    return S * d1(S,K,T,r,sigma).apply(lambda x : norm.cdf(x)) - K * (-r*T).apply(lambda x : exp(x)) * d2(S,K,T,r,sigma).apply(lambda x : norm.cdf(x))"
   ]
  },
  {
   "cell_type": "code",
   "execution_count": 21,
   "metadata": {},
   "outputs": [],
   "source": [
    "#Insert file with LSTM predictions\n",
    "df_options = read_file(\"data/2021_december_predictions_11-24_13-50.csv\")\n",
    "#Calculating BS and add column\n",
    "df_options[\"B-S\"] = bs_call(df_options[\"Underlying_last\"], df_options[\"Strike\"], df_options[\"Ttl\"], df_options[\"R\"], df_options[\"Volatility\"])\n",
    "#Cleaning\n",
    "df_options = df_options[[\"Quote_date\", \"Underlying_last\", \"Strike\", \"Ttl\", \"Volatility\", \"R\", \"Price\", \"B-S\", \"Prediction\"]]\n",
    "df_options = df_options.rename(columns={\"Prediction\":\"LSTM\"})"
   ]
  },
  {
   "cell_type": "markdown",
   "metadata": {},
   "source": [
    "Creating table"
   ]
  },
  {
   "cell_type": "code",
   "execution_count": 22,
   "metadata": {},
   "outputs": [],
   "source": [
    "df_low_money = df_options[df_options[\"Underlying_last\"] / df_options[\"Strike\"] < 0.97]\n",
    "df_low_money.name = \"<0.97\"\n",
    "df_mid_money = df_options[(df_options[\"Underlying_last\"] / df_options[\"Strike\"]).between(0.97, 1.03, inclusive=True)]\n",
    "df_mid_money.name = \"0.97-1.03\"\n",
    "df_high_money = df_options[df_options[\"Underlying_last\"] / df_options[\"Strike\"] > 1.03]\n",
    "df_high_money.name = \">1.03\""
   ]
  },
  {
   "cell_type": "code",
   "execution_count": 24,
   "metadata": {},
   "outputs": [
    {
     "name": "stderr",
     "output_type": "stream",
     "text": [
      "<ipython-input-24-5769fde4d2ba>:5: UserWarning: Boolean Series key will be reindexed to match DataFrame index.\n",
      "  df_temp = dataframex[(df_options[\"Ttl\"]).between(i, i + days, inclusive=True)]\n",
      "<ipython-input-24-5769fde4d2ba>:5: UserWarning: Boolean Series key will be reindexed to match DataFrame index.\n",
      "  df_temp = dataframex[(df_options[\"Ttl\"]).between(i, i + days, inclusive=True)]\n",
      "<ipython-input-24-5769fde4d2ba>:5: UserWarning: Boolean Series key will be reindexed to match DataFrame index.\n",
      "  df_temp = dataframex[(df_options[\"Ttl\"]).between(i, i + days, inclusive=True)]\n",
      "<ipython-input-24-5769fde4d2ba>:5: UserWarning: Boolean Series key will be reindexed to match DataFrame index.\n",
      "  df_temp = dataframex[(df_options[\"Ttl\"]).between(i, i + days, inclusive=True)]\n",
      "<ipython-input-24-5769fde4d2ba>:5: UserWarning: Boolean Series key will be reindexed to match DataFrame index.\n",
      "  df_temp = dataframex[(df_options[\"Ttl\"]).between(i, i + days, inclusive=True)]\n",
      "<ipython-input-24-5769fde4d2ba>:5: UserWarning: Boolean Series key will be reindexed to match DataFrame index.\n",
      "  df_temp = dataframex[(df_options[\"Ttl\"]).between(i, i + days, inclusive=True)]\n",
      "<ipython-input-24-5769fde4d2ba>:5: UserWarning: Boolean Series key will be reindexed to match DataFrame index.\n",
      "  df_temp = dataframex[(df_options[\"Ttl\"]).between(i, i + days, inclusive=True)]\n",
      "<ipython-input-24-5769fde4d2ba>:5: UserWarning: Boolean Series key will be reindexed to match DataFrame index.\n",
      "  df_temp = dataframex[(df_options[\"Ttl\"]).between(i, i + days, inclusive=True)]\n",
      "<ipython-input-24-5769fde4d2ba>:5: UserWarning: Boolean Series key will be reindexed to match DataFrame index.\n",
      "  df_temp = dataframex[(df_options[\"Ttl\"]).between(i, i + days, inclusive=True)]\n",
      "<ipython-input-24-5769fde4d2ba>:5: UserWarning: Boolean Series key will be reindexed to match DataFrame index.\n",
      "  df_temp = dataframex[(df_options[\"Ttl\"]).between(i, i + days, inclusive=True)]\n",
      "<ipython-input-24-5769fde4d2ba>:5: UserWarning: Boolean Series key will be reindexed to match DataFrame index.\n",
      "  df_temp = dataframex[(df_options[\"Ttl\"]).between(i, i + days, inclusive=True)]\n",
      "<ipython-input-24-5769fde4d2ba>:5: UserWarning: Boolean Series key will be reindexed to match DataFrame index.\n",
      "  df_temp = dataframex[(df_options[\"Ttl\"]).between(i, i + days, inclusive=True)]\n",
      "<ipython-input-24-5769fde4d2ba>:5: UserWarning: Boolean Series key will be reindexed to match DataFrame index.\n",
      "  df_temp = dataframex[(df_options[\"Ttl\"]).between(i, i + days, inclusive=True)]\n",
      "<ipython-input-24-5769fde4d2ba>:5: UserWarning: Boolean Series key will be reindexed to match DataFrame index.\n",
      "  df_temp = dataframex[(df_options[\"Ttl\"]).between(i, i + days, inclusive=True)]\n",
      "<ipython-input-24-5769fde4d2ba>:5: UserWarning: Boolean Series key will be reindexed to match DataFrame index.\n",
      "  df_temp = dataframex[(df_options[\"Ttl\"]).between(i, i + days, inclusive=True)]\n",
      "<ipython-input-24-5769fde4d2ba>:5: UserWarning: Boolean Series key will be reindexed to match DataFrame index.\n",
      "  df_temp = dataframex[(df_options[\"Ttl\"]).between(i, i + days, inclusive=True)]\n",
      "<ipython-input-24-5769fde4d2ba>:5: UserWarning: Boolean Series key will be reindexed to match DataFrame index.\n",
      "  df_temp = dataframex[(df_options[\"Ttl\"]).between(i, i + days, inclusive=True)]\n",
      "<ipython-input-24-5769fde4d2ba>:5: UserWarning: Boolean Series key will be reindexed to match DataFrame index.\n",
      "  df_temp = dataframex[(df_options[\"Ttl\"]).between(i, i + days, inclusive=True)]\n"
     ]
    }
   ],
   "source": [
    "df_RSME = pd.DataFrame(columns=['Moneyness', 'Maturity', 'BS','LSTM'])\n",
    "for dataframex in [df_low_money, df_mid_money, df_high_money]:\n",
    "    i = 1\n",
    "    for days in [89,90,90,180,180,455]:\n",
    "        df_temp = dataframex[(df_options[\"Ttl\"]).between(i, i + days, inclusive=True)]\n",
    "        bs = sqrt(tf.keras.metrics.mean_squared_error(df_temp[\"Price\"], df_temp[\"B-S\"]))\n",
    "        lstm = sqrt(tf.keras.metrics.mean_squared_error(df_temp[\"Price\"], df_temp[\"LSTM\"]))\n",
    "        df_RSME.loc[len(df_RSME.index)] = [dataframex.name, str(i) + \"-\" + str(i + days), bs, lstm]\n",
    "        i = i + days"
   ]
  },
  {
   "cell_type": "markdown",
   "metadata": {},
   "source": [
    "Writing model"
   ]
  },
  {
   "cell_type": "code",
   "execution_count": 25,
   "metadata": {},
   "outputs": [],
   "source": [
    "with open('december_results_RSME.tex', 'w') as tf:\n",
    "     tf.write(df_RSME.to_latex(index=False))"
   ]
  }
 ],
 "metadata": {
  "kernelspec": {
   "display_name": "Python 3.11.0 64-bit",
   "language": "python",
   "name": "python3"
  },
  "language_info": {
   "codemirror_mode": {
    "name": "ipython",
    "version": 3
   },
   "file_extension": ".py",
   "mimetype": "text/x-python",
   "name": "python",
   "nbconvert_exporter": "python",
   "pygments_lexer": "ipython3",
   "version": "3.11.0"
  },
  "orig_nbformat": 4,
  "vscode": {
   "interpreter": {
    "hash": "20e40d8fc09a6690434ad602c7eb2d8de15d36ec466bfbfb0de97c7c540d7363"
   }
  }
 },
 "nbformat": 4,
 "nbformat_minor": 2
}
