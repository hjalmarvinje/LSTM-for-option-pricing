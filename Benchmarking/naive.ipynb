{
 "cells": [
  {
   "cell_type": "markdown",
   "metadata": {},
   "source": [
    "Run #1 in order of benchmarking\n",
    "\n",
    "This file processes the existing processed datafile, adds laggs and filters for 2021, and then removes some columns, then returns the file in the benchmark folder. This file is later used by the BS file."
   ]
  },
  {
   "cell_type": "code",
   "execution_count": 8,
   "metadata": {},
   "outputs": [],
   "source": [
    "#TODO : Unable to import these functions in parent directory\n",
    "\n",
    "def lag_features(df, features, seq_length):\n",
    "    \"\"\"Transforms a raw 2D dataframe of option data into 2D dataframe ofsequence data.\n",
    "    Last 2 indexes per sequence are bid and ask price. The len(features)*seq_length\n",
    "    features before are sequences of features\"\"\"\n",
    "    df = df.sort_values([\"Expire_date\", \"Strike\", \"Ttl\"], ascending = [True, True, False])\n",
    "    \n",
    "    # Adding lag for naive benchmarking\n",
    "    df[\"Naive\"] = df[\"Price\"].shift(1)\n",
    "\n",
    "    for step in range(seq_length)[::-1]:\n",
    "        for feature in features:\n",
    "            df[feature + \"-\" + str(step)] = df[feature].shift(step)\n",
    "    \n",
    "    df[\"Check_strike\"] = df[\"Strike\"] == df[\"Strike\"].shift(seq_length-1)\n",
    "    df[\"Check_expire\"] = df[\"Expire_date\"] == df[\"Expire_date\"].shift(seq_length-1)\n",
    "    df = df[(df[\"Check_strike\"] == True) & (df[\"Check_expire\"] == True)]\n",
    "    df = df.drop([\"Check_strike\", \"Check_expire\"], axis=1)\n",
    "    #df[[\"Bid_strike_last\", \"Ask_strike_last\"]] = df[[\"Bid_strike\", \"Ask_strike\"]]\n",
    "    #df[[\"Bid_last\", \"Ask_last\"]] = df[[\"Bid\", \"Ask\"]]\n",
    "    df[\"Price_last\"] = df[\"Price\"]\n",
    "    df = df.sort_values([\"Quote_date\"], ascending = [True])\n",
    "    return df\n",
    "\n",
    "    \n",
    "def read_file(file):\n",
    "    \"\"\"Read a single file and return a dataframe\"\"\"\n",
    "    return pd.read_csv(file, skipinitialspace=True)\n",
    "\n",
    "\n",
    "\n",
    "from math import log, sqrt, pi, exp\n",
    "from scipy.stats import norm\n",
    "import pandas as pd\n",
    "import tensorflow as tf"
   ]
  },
  {
   "cell_type": "code",
   "execution_count": 9,
   "metadata": {},
   "outputs": [],
   "source": [
    "first_year = 2019\n",
    "last_year = 2021\n",
    "file = f\"../data/processed_data/{first_year}-{last_year}_underlying-strike_only-price.csv\"\n",
    "df_options = read_file(file)"
   ]
  },
  {
   "cell_type": "code",
   "execution_count": 10,
   "metadata": {},
   "outputs": [],
   "source": [
    "features = [\"Underlying_last\", \"Strike\", \"Ttl\", \"Volatility\", \"R\"]\n",
    "seq_length = 5\n",
    "num_features = len(features)\n",
    "num_outputs = 1\n",
    "\n",
    "df_options = lag_features(df_options, features, seq_length)"
   ]
  },
  {
   "cell_type": "code",
   "execution_count": 11,
   "metadata": {},
   "outputs": [],
   "source": [
    "df_options = df_options[[\"Quote_date\", \"Underlying_last\", \"Strike\", \"Ttl\", \"Volatility\", \"R\", \"Price\", \"Naive\"]]\n",
    "df_options['Quote_date'] = pd.to_datetime(df_options.Quote_date, format='%Y-%m-%d')\n",
    "df_options = df_options[df_options.Quote_date.dt.year == 2021]\n",
    "\n",
    "# To be used for testing on for faster computing\n",
    "#df_options_short = df_options[df_options[\"Quote_date\"] == \"2021-01-06\"]"
   ]
  },
  {
   "cell_type": "code",
   "execution_count": 12,
   "metadata": {},
   "outputs": [
    {
     "name": "stdout",
     "output_type": "stream",
     "text": [
      "        Quote_date  Underlying_last  Strike  Ttl  Volatility     R     Price  \\\n",
      "3102998 2021-01-04          3701.38  2800.0  144    0.185353  0.09   919.600   \n",
      "3103091 2021-01-04          3701.38  3950.0  144    0.185353  0.09    69.045   \n",
      "3104380 2021-01-04          3701.38  2400.0  438    0.185353  0.10  1310.100   \n",
      "3104484 2021-01-04          3701.38  1500.0  529    0.185353  0.10  2143.910   \n",
      "3097922 2021-01-04          3701.38  3625.0    2    0.185353  0.09    84.595   \n",
      "\n",
      "            Naive  \n",
      "3102998   970.450  \n",
      "3103091    80.350  \n",
      "3104380  1362.445  \n",
      "3104484  2197.200  \n",
      "3097922   139.010  \n"
     ]
    }
   ],
   "source": [
    "print(df_options.head())"
   ]
  },
  {
   "cell_type": "code",
   "execution_count": 13,
   "metadata": {},
   "outputs": [],
   "source": [
    "mse_bs = tf.keras.metrics.mean_squared_error(\n",
    "    df_options[\"Price\"], df_options[\"Naive\"]\n",
    ")"
   ]
  },
  {
   "cell_type": "code",
   "execution_count": 14,
   "metadata": {},
   "outputs": [
    {
     "name": "stdout",
     "output_type": "stream",
     "text": [
      "MSE:  tf.Tensor(764.9342226363356, shape=(), dtype=float64)\n",
      "RMSE:  27.657444253515827\n"
     ]
    }
   ],
   "source": [
    "print(\"MSE: \", mse_bs)\n",
    "print(\"RMSE: \", sqrt(mse_bs))"
   ]
  },
  {
   "cell_type": "code",
   "execution_count": 15,
   "metadata": {},
   "outputs": [],
   "source": [
    "# Write to file\n",
    "df_options.to_csv('benchmark_with_naive.csv', encoding='utf-8', index=False)"
   ]
  }
 ],
 "metadata": {
  "kernelspec": {
   "display_name": "Python 3.8.1 64-bit",
   "language": "python",
   "name": "python3"
  },
  "language_info": {
   "codemirror_mode": {
    "name": "ipython",
    "version": 3
   },
   "file_extension": ".py",
   "mimetype": "text/x-python",
   "name": "python",
   "nbconvert_exporter": "python",
   "pygments_lexer": "ipython3",
   "version": "3.8.1"
  },
  "orig_nbformat": 4,
  "vscode": {
   "interpreter": {
    "hash": "0adcc2737ebf6a4a119f135174df96668767fca1ef1112612db5ecadf2b6d608"
   }
  }
 },
 "nbformat": 4,
 "nbformat_minor": 2
}
