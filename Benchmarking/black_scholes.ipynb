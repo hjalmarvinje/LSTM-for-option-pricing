{
 "cells": [
  {
   "cell_type": "markdown",
   "metadata": {},
   "source": [
    "#2 Run\n",
    "This file takes in the file written as a .csv from naive.ipynb. The output is used by compare.ipynb"
   ]
  },
  {
   "cell_type": "code",
   "execution_count": 6,
   "metadata": {},
   "outputs": [],
   "source": [
    "from math import log, sqrt, pi, exp\n",
    "from scipy.stats import norm\n",
    "import pandas as pd\n",
    "import tensorflow as tf"
   ]
  },
  {
   "cell_type": "code",
   "execution_count": 7,
   "metadata": {},
   "outputs": [],
   "source": [
    "def read_file(file):\n",
    "    \"\"\"Read a single file and return a dataframe\"\"\"\n",
    "    return pd.read_csv(file, skipinitialspace=True)"
   ]
  },
  {
   "cell_type": "code",
   "execution_count": 8,
   "metadata": {},
   "outputs": [],
   "source": [
    "df_options = read_file(\"data/benchmark_with_pred_naive.csv\")"
   ]
  },
  {
   "cell_type": "code",
   "execution_count": 9,
   "metadata": {},
   "outputs": [],
   "source": [
    "# Black-Scholes formula for call options\n",
    "def d1(S,K,T,r,sigma):\n",
    "    x1 = S.apply(lambda x : log(x)) - K.apply(lambda x : log(x))\n",
    "    x2 = (r + ((sigma.apply(lambda x : x**2)) / 2)) * T\n",
    "    x3 = sigma * T.apply(lambda x: sqrt(x))\n",
    "    return  (x1 + x2) / x3\n",
    "\n",
    "def d2(S,K,T,r,sigma):\n",
    "    return d1(S,K,T,r,sigma) - sigma * T.apply(lambda x : sqrt(x))  \n",
    "\n",
    "def bs_call(S,K,T,r,sigma):\n",
    "    T = T/365\n",
    "    r = r/100\n",
    "    return S * d1(S,K,T,r,sigma).apply(lambda x : norm.cdf(x)) - K * (-r*T).apply(lambda x : exp(x)) * d2(S,K,T,r,sigma).apply(lambda x : norm.cdf(x))"
   ]
  },
  {
   "cell_type": "code",
   "execution_count": 10,
   "metadata": {},
   "outputs": [],
   "source": [
    "df_options[\"BS\"] = bs_call(df_options[\"Underlying_last\"], df_options[\"Strike\"], df_options[\"Ttl\"], df_options[\"R\"], df_options[\"Volatility\"])\n"
   ]
  },
  {
   "cell_type": "code",
   "execution_count": 11,
   "metadata": {},
   "outputs": [
    {
     "name": "stdout",
     "output_type": "stream",
     "text": [
      "   Quote_date  Underlying_last  Strike  Ttl  Volatility     R     Price  \\\n",
      "0  2021-01-08          3824.45  1000.0    3    0.186024  0.08  2826.250   \n",
      "1  2021-01-08          3824.45  3860.0   49    0.186024  0.08    75.200   \n",
      "2  2021-01-08          3824.45  3865.0   49    0.186024  0.08    72.955   \n",
      "3  2021-01-08          3824.45  3870.0   49    0.186024  0.08    70.550   \n",
      "4  2021-01-08          3824.45  3875.0   49    0.186024  0.08    67.495   \n",
      "\n",
      "      Naive   Prediction           BS  \n",
      "0  2803.855  2774.402600  2824.456575  \n",
      "1    67.900    69.269806    87.819989  \n",
      "2    65.210    66.548515    85.672920  \n",
      "3    63.055    63.835953    83.563047  \n",
      "4    60.500    61.140602    81.490186  \n"
     ]
    }
   ],
   "source": [
    "print(df_options.head())"
   ]
  },
  {
   "cell_type": "code",
   "execution_count": 12,
   "metadata": {},
   "outputs": [],
   "source": [
    "mse_bs = tf.keras.metrics.mean_squared_error(\n",
    "    df_options[\"Price\"], df_options[\"BS\"]\n",
    ")"
   ]
  },
  {
   "cell_type": "code",
   "execution_count": 13,
   "metadata": {},
   "outputs": [
    {
     "name": "stdout",
     "output_type": "stream",
     "text": [
      "MSE:  tf.Tensor(1430.597686425085, shape=(), dtype=float64)\n",
      "RMSE:  37.82324267464498\n"
     ]
    }
   ],
   "source": [
    "print(\"MSE: \", mse_bs)\n",
    "print(\"RMSE: \", sqrt(mse_bs))"
   ]
  },
  {
   "cell_type": "code",
   "execution_count": 14,
   "metadata": {},
   "outputs": [],
   "source": [
    "# Write to file\n",
    "df_options.to_csv('data/benchmark_with_Pred_Naive_and_BS.csv', encoding='utf-8', index=False)"
   ]
  }
 ],
 "metadata": {
  "kernelspec": {
   "display_name": "Python 3.8.1 64-bit",
   "language": "python",
   "name": "python3"
  },
  "language_info": {
   "codemirror_mode": {
    "name": "ipython",
    "version": 3
   },
   "file_extension": ".py",
   "mimetype": "text/x-python",
   "name": "python",
   "nbconvert_exporter": "python",
   "pygments_lexer": "ipython3",
   "version": "3.8.1"
  },
  "orig_nbformat": 4,
  "vscode": {
   "interpreter": {
    "hash": "0adcc2737ebf6a4a119f135174df96668767fca1ef1112612db5ecadf2b6d608"
   }
  }
 },
 "nbformat": 4,
 "nbformat_minor": 2
}
