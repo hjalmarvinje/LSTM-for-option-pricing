{
 "cells": [
  {
   "cell_type": "code",
   "execution_count": 26,
   "metadata": {},
   "outputs": [
    {
     "data": {
      "text/plain": [
       "True"
      ]
     },
     "execution_count": 26,
     "metadata": {},
     "output_type": "execute_result"
    }
   ],
   "source": [
    "from preprocessing import get_model_dataset, create_train_test, min_max_scale, df_to_xy\n",
    "from trainer import trainer\n",
    "import numpy as np\n",
    "import matplotlib.pyplot as plt\n",
    "\n",
    "# Hyperparameter tuning\n",
    "\n",
    "\n",
    "import wandb\n",
    "from wandb.keras import WandbCallback\n",
    "import os\n",
    "os.environ[\"WANDB_NOTEBOOK_NAME\"] = \"/Users/hjalmarvinje/Documents/LSTM for option pricing\"\n",
    "wandb.login()"
   ]
  },
  {
   "cell_type": "code",
   "execution_count": 7,
   "metadata": {},
   "outputs": [
    {
     "name": "stdout",
     "output_type": "stream",
     "text": [
      "        Quote_date Expire_date  Underlying_last   Strike  Moneyness    Ask  \\\n",
      "725110  2022-05-09  2022-05-10          3993.26   3100.0   1.288148  893.3   \n",
      "725111  2022-05-09  2022-05-10          3993.26   3200.0   1.247894  792.9   \n",
      "725112  2022-05-09  2022-05-10          3993.26   3300.0   1.210079  692.2   \n",
      "725113  2022-05-09  2022-05-10          3993.26   3400.0   1.174488  592.2   \n",
      "725114  2022-05-09  2022-05-10          3993.26   3500.0   1.140931  493.0   \n",
      "...            ...         ...              ...      ...        ...    ...   \n",
      "1533707 2022-09-30  2026-12-18          3589.70   8800.0   0.407920   31.4   \n",
      "1533708 2022-09-30  2026-12-18          3589.70   9000.0   0.398856   29.5   \n",
      "1533709 2022-09-30  2026-12-18          3589.70   9200.0   0.390185   16.2   \n",
      "1533710 2022-09-30  2026-12-18          3589.70   9600.0   0.373927   24.5   \n",
      "1533711 2022-09-30  2026-12-18          3589.70  10000.0   0.358970   21.8   \n",
      "\n",
      "           Bid   Ttl  Volatility     R  \n",
      "725110   886.3     1    0.233070  0.92  \n",
      "725111   785.4     1    0.233070  0.92  \n",
      "725112   685.8     1    0.233070  0.92  \n",
      "725113   585.4     1    0.233070  0.92  \n",
      "725114   485.9     1    0.233070  0.92  \n",
      "...        ...   ...         ...   ...  \n",
      "1533707   10.0  1540    0.234276  3.33  \n",
      "1533708    6.1  1540    0.234276  3.33  \n",
      "1533709   11.2  1540    0.234276  3.33  \n",
      "1533710    3.3  1540    0.234276  3.33  \n",
      "1533711    7.3  1540    0.234276  3.33  \n",
      "\n",
      "[776381 rows x 10 columns]\n",
      "<class 'pandas.core.frame.DataFrame'>\n",
      "Int64Index: 776381 entries, 725110 to 1533711\n",
      "Data columns (total 10 columns):\n",
      " #   Column           Non-Null Count   Dtype         \n",
      "---  ------           --------------   -----         \n",
      " 0   Quote_date       776381 non-null  datetime64[ns]\n",
      " 1   Expire_date      776381 non-null  datetime64[ns]\n",
      " 2   Underlying_last  776381 non-null  float64       \n",
      " 3   Strike           776381 non-null  float64       \n",
      " 4   Moneyness        776381 non-null  float64       \n",
      " 5   Ask              776381 non-null  float64       \n",
      " 6   Bid              776381 non-null  float64       \n",
      " 7   Ttl              776381 non-null  int64         \n",
      " 8   Volatility       776381 non-null  float64       \n",
      " 9   R                776381 non-null  float64       \n",
      "dtypes: datetime64[ns](2), float64(7), int64(1)\n",
      "memory usage: 65.2 MB\n"
     ]
    }
   ],
   "source": [
    "# Load dataset\n",
    "path_opt = \"./data/options/\"\n",
    "filenames_opt = [\"spx_eod_\" + str(year) + (str(month) if month >= 10 else \"0\"+str(month)) + \".txt\" for year in range(2022, 2022) for month in range(1, 13)] + [\"spx_eod_2022\" + (str(month) if month >= 10 else \"0\" + str(month)) + \".txt\" for month in range(1, 10)]\n",
    "path_r = \"./data/rates/\"\n",
    "filenames_r = [\"yield-curve-rates-2022.csv\", \"yield-curve-rates-1990-2021.csv\"]\n",
    "\n",
    "df_read = get_model_dataset(path_opt, filenames_opt, path_r, filenames_r, True)\n",
    "print(df_read)\n",
    "df_read.info()"
   ]
  },
  {
   "cell_type": "code",
   "execution_count": 27,
   "metadata": {},
   "outputs": [
    {
     "name": "stdout",
     "output_type": "stream",
     "text": [
      "Train_x shape: (519593, 5, 4), train_y shape: (519593, 2)\n",
      "Test_x shape: (121672, 5, 4), test_y shape: (121672, 2)\n"
     ]
    }
   ],
   "source": [
    "# Splitting dataset\n",
    "features = [\"Moneyness\", \"Ttl\", \"R\", \"Volatility\"]\n",
    "seq_length = 5\n",
    "num_features = 4\n",
    "\n",
    "df_train_orginal, df_test_orginal = create_train_test(df_read, features,  \"2022-09-01\", 5)\n",
    "\n",
    "train_x_org, train_y_org, = df_to_xy(df_train_orginal, num_features, seq_length)\n",
    "test_x_org, test_y_org = df_to_xy(df_test_orginal, num_features, seq_length)\n",
    "\n",
    "train_x_scaled, test_x_scaled = min_max_scale(train_x_org, test_x_org)\n",
    "train_y_scaled, test_y_scaled = min_max_scale(train_y_org, test_y_org)\n",
    "\n",
    "train_x_scaled = np.reshape(train_x_scaled, (len(train_x_scaled), seq_length, num_features))\n",
    "test_x_scaled = np.reshape(test_x_scaled, (len(test_x_scaled), seq_length, num_features))\n",
    "\n",
    "print(f\"Train_x shape: {train_x_scaled.shape}, train_y shape: {train_y_scaled.shape}\")\n",
    "print(f\"Test_x shape: {test_x_scaled.shape}, test_y shape: {test_y_scaled.shape}\")"
   ]
  },
  {
   "cell_type": "code",
   "execution_count": 34,
   "metadata": {},
   "outputs": [],
   "source": [
    "sweep_configuration = {\n",
    "    'method': 'bayes',\n",
    "    'name': 'sweep10',\n",
    "    'metric': {\n",
    "        'goal': 'minimize', \n",
    "        'name': 'val_loss'\n",
    "\t\t},\n",
    "    'parameters': {\n",
    "        \"units\": {'values': [8, 12, 20, 40, 80]},\n",
    "        \"dropout\": {\"distribution\": \"uniform\",\n",
    "            'max': 0.5, 'min': 0.00001},\n",
    "        \"recurrent_dropout\": {\n",
    "            \"distribution\": \"uniform\",\n",
    "            'max': 0.5, 'min': 0.00001},\n",
    "        \"lr\": {\n",
    "            \"distribution\": \"uniform\",\n",
    "            'max': 0.01, 'min': 0.00001},\n",
    "        \"layers\": {'values': [2, 4, 7]},\n",
    "        \"epochs\": {'values': [50,100,500]},\n",
    "        \"minibatch_size\": {'values': [512, 1024, 2048]}\n",
    "    }\n",
    "}\n"
   ]
  },
  {
   "cell_type": "code",
   "execution_count": 38,
   "metadata": {},
   "outputs": [
    {
     "name": "stdout",
     "output_type": "stream",
     "text": [
      "Create sweep with ID: ioxqmc3k\n",
      "Sweep URL: https://wandb.ai/avogadro/LSTM%20option%20pricing/sweeps/ioxqmc3k\n"
     ]
    }
   ],
   "source": [
    "# Initialize sweep and creating sweepID\n",
    "### sweep_id = wandb.sweep(sweep=sweep_configuration, project=\"LSTM option pricing\")\n",
    "#sweep8: sweep_id = 7finyjz4\n",
    "#sweep10 \n",
    "sweep_id = \"ioxqmc3k\""
   ]
  },
  {
   "cell_type": "code",
   "execution_count": 30,
   "metadata": {},
   "outputs": [],
   "source": [
    "from keras.models import Sequential\n",
    "from keras.layers import Dense, LSTM, Input\n",
    "from keras import backend as K\n",
    "from tensorflow.keras.optimizers import Adam\n",
    "import keras as KER\n",
    "from sklearn.model_selection import train_test_split\n",
    "from keras.activations import linear, relu"
   ]
  },
  {
   "cell_type": "code",
   "execution_count": 31,
   "metadata": {},
   "outputs": [],
   "source": [
    "def create_model(config):\n",
    "  \"\"\"Builds an LSTM model of minimum 2 layers sequentially from a given config dictionary\"\"\"\n",
    "  model = Sequential()\n",
    "\n",
    "\n",
    "  seq_length = 5\n",
    "  num_features =  4\n",
    "  model.add(LSTM(\n",
    "    units = config.units,\n",
    "    activation = linear,\n",
    "    input_shape = (seq_length, num_features),\n",
    "    dropout = config.dropout,\n",
    "    recurrent_dropout = config.recurrent_dropout,\n",
    "    return_sequences = True\n",
    "  )) \n",
    "\n",
    "  for i in range(config.layers - 2):\n",
    "    model.add(LSTM(\n",
    "    units = config.units,\n",
    "    activation = linear,\n",
    "    dropout = config.dropout,\n",
    "    recurrent_dropout = config.recurrent_dropout,\n",
    "    return_sequences = True\n",
    "  ))\n",
    "\n",
    "  model.add(LSTM(\n",
    "    units = config.units,\n",
    "    activation = linear,\n",
    "    dropout = config.dropout,\n",
    "    recurrent_dropout = config.recurrent_dropout,\n",
    "    return_sequences = False\n",
    "  ))\n",
    "\n",
    "  model.add(Dense(\n",
    "    units = 2,\n",
    "    activation = relu\n",
    "  ))  \n",
    "\n",
    "  model.compile(\n",
    "    optimizer = Adam(\n",
    "      learning_rate = config.lr\n",
    "    ),\n",
    "    loss = \"mse\",\n",
    "    metrics = [\"accuracy\"]\n",
    "  )\n",
    "\n",
    "  return model"
   ]
  },
  {
   "cell_type": "code",
   "execution_count": 32,
   "metadata": {},
   "outputs": [],
   "source": [
    "from keras.callbacks import EarlyStopping\n",
    "\n",
    "\n",
    "def trainer(train_x = train_x_scaled, train_y = train_y_scaled, config = None):\n",
    "    # Initialize a new wandb run\n",
    "    with wandb.init(config=sweep_configuration):\n",
    "\n",
    "        # If called by wandb.agent, as below,\n",
    "        # this config will be set by Sweep Controller\n",
    "        config = wandb.config\n",
    "\n",
    "        model = create_model(config)\n",
    "        \n",
    "        minibatch_size = config.minibatch_size\n",
    "\n",
    "        early_stopping = EarlyStopping(\n",
    "            monitor='loss',\n",
    "            mode='min',\n",
    "            min_delta=1e-4,\n",
    "            patience=10,\n",
    "        )\n",
    "        \n",
    "        wandb_callback = WandbCallback(\n",
    "            monitor='val_loss',\n",
    "            mode='min',\n",
    "            save_model=False\n",
    "        )\n",
    "\n",
    "        model.fit(\n",
    "            train_x,\n",
    "            train_y,\n",
    "            batch_size = minibatch_size,\n",
    "            validation_split = 0.2,\n",
    "            epochs = config.epochs,\n",
    "            callbacks = [early_stopping, wandb_callback] \n",
    "        )\n",
    "        \n"
   ]
  },
  {
   "cell_type": "code",
   "execution_count": 39,
   "metadata": {},
   "outputs": [
    {
     "name": "stderr",
     "output_type": "stream",
     "text": [
      "\u001b[34m\u001b[1mwandb\u001b[0m: Agent Starting Run: lcr0co0x with config:\n",
      "\u001b[34m\u001b[1mwandb\u001b[0m: \tdropout: 0.476704967922829\n",
      "\u001b[34m\u001b[1mwandb\u001b[0m: \tepochs: 50\n",
      "\u001b[34m\u001b[1mwandb\u001b[0m: \tlayers: 7\n",
      "\u001b[34m\u001b[1mwandb\u001b[0m: \tlr: 0.00929512227852874\n",
      "\u001b[34m\u001b[1mwandb\u001b[0m: \tminibatch_size: 2048\n",
      "\u001b[34m\u001b[1mwandb\u001b[0m: \trecurrent_dropout: 0.48433080647861143\n",
      "\u001b[34m\u001b[1mwandb\u001b[0m: \tunits: 20\n"
     ]
    },
    {
     "data": {
      "text/html": [
       "Tracking run with wandb version 0.13.5"
      ],
      "text/plain": [
       "<IPython.core.display.HTML object>"
      ]
     },
     "metadata": {},
     "output_type": "display_data"
    },
    {
     "data": {
      "text/html": [
       "Run data is saved locally in <code>/Users/hjalmarvinje/Documents/LSTM for option pricing/wandb/run-20221111_170017-lcr0co0x</code>"
      ],
      "text/plain": [
       "<IPython.core.display.HTML object>"
      ]
     },
     "metadata": {},
     "output_type": "display_data"
    },
    {
     "data": {
      "text/html": [
       "Syncing run <strong><a href=\"https://wandb.ai/avogadro/LSTM%20option%20pricing/runs/lcr0co0x\" target=\"_blank\">feasible-sweep-1</a></strong> to <a href=\"https://wandb.ai/avogadro/LSTM%20option%20pricing\" target=\"_blank\">Weights & Biases</a> (<a href=\"https://wandb.me/run\" target=\"_blank\">docs</a>)<br/>Sweep page:  <a href=\"https://wandb.ai/avogadro/LSTM%20option%20pricing/sweeps/ioxqmc3k\" target=\"_blank\">https://wandb.ai/avogadro/LSTM%20option%20pricing/sweeps/ioxqmc3k</a>"
      ],
      "text/plain": [
       "<IPython.core.display.HTML object>"
      ]
     },
     "metadata": {},
     "output_type": "display_data"
    },
    {
     "name": "stdout",
     "output_type": "stream",
     "text": [
      "Epoch 1/50\n",
      "203/203 [==============================] - 80s 300ms/step - loss: 0.0220 - accuracy: 0.6236 - val_loss: 0.0396 - val_accuracy: 0.7323\n",
      "Epoch 2/50\n",
      " 43/203 [=====>........................] - ETA: 30s - loss: 0.0201 - accuracy: 0.6907"
     ]
    }
   ],
   "source": [
    "wandb.agent(sweep_id=sweep_id, function=trainer, project=\"LSTM option pricing\", count = 50)"
   ]
  }
 ],
 "metadata": {
  "kernelspec": {
   "display_name": "Python 3.8.1 64-bit",
   "language": "python",
   "name": "python3"
  },
  "language_info": {
   "codemirror_mode": {
    "name": "ipython",
    "version": 3
   },
   "file_extension": ".py",
   "mimetype": "text/x-python",
   "name": "python",
   "nbconvert_exporter": "python",
   "pygments_lexer": "ipython3",
   "version": "3.8.1"
  },
  "orig_nbformat": 4,
  "vscode": {
   "interpreter": {
    "hash": "aee8b7b246df8f9039afb4144a1f6fd8d2ca17a180786b69acc140d282b71a49"
   }
  }
 },
 "nbformat": 4,
 "nbformat_minor": 2
}
