{
 "cells": [
  {
   "cell_type": "code",
   "execution_count": 1,
   "metadata": {},
   "outputs": [
    {
     "name": "stderr",
     "output_type": "stream",
     "text": [
      "WARNING: You are using pip version 21.1.2; however, version 22.3.1 is available.\n",
      "You should consider upgrading via the 'c:\\users\\erlend\\appdata\\local\\programs\\python\\python39\\python.exe -m pip install --upgrade pip' command.\n"
     ]
    }
   ],
   "source": [
    "!pip install -q wandb"
   ]
  },
  {
   "cell_type": "code",
   "execution_count": 1,
   "metadata": {},
   "outputs": [
    {
     "name": "stderr",
     "output_type": "stream",
     "text": [
      "\u001b[34m\u001b[1mwandb\u001b[0m: Currently logged in as: \u001b[33merlendrygg\u001b[0m (\u001b[33mavogadro\u001b[0m). Use \u001b[1m`wandb login --relogin`\u001b[0m to force relogin\n",
      "\u001b[34m\u001b[1mwandb\u001b[0m: \u001b[33mWARNING\u001b[0m If you're specifying your api key in code, ensure this code is not shared publicly.\n",
      "\u001b[34m\u001b[1mwandb\u001b[0m: \u001b[33mWARNING\u001b[0m Consider setting the WANDB_API_KEY environment variable, or running `wandb login` from the command line.\n",
      "\u001b[34m\u001b[1mwandb\u001b[0m: Appending key for api.wandb.ai to your netrc file: C:\\Users\\Erlend/.netrc\n"
     ]
    },
    {
     "data": {
      "text/plain": [
       "True"
      ]
     },
     "execution_count": 1,
     "metadata": {},
     "output_type": "execute_result"
    }
   ],
   "source": [
    "from preprocessing import create_train_test, min_max_scale, df_to_xy, read_file, lag_features\n",
    "import numpy as np\n",
    "import matplotlib.pyplot as plt\n",
    "from sklearn.preprocessing import MinMaxScaler\n",
    "\n",
    "# Hyperparameter tuning\n",
    "\n",
    "\n",
    "import wandb\n",
    "from wandb.keras import WandbCallback\n",
    "import os\n",
    "os.environ[\"WANDB_NOTEBOOK_NAME\"] = \"C:/Users/Erlend/Google Drive/NTNU/5. Klasse/Prosjektoppgave/Git folder/LSTM-for-option-pricing\"\n",
    "wandb.login(key = \"3cae81eb56be3190be5bb48c571e69933071df69\")"
   ]
  },
  {
   "cell_type": "code",
   "execution_count": 2,
   "metadata": {},
   "outputs": [],
   "source": [
    "#Variables\n",
    "first_year = 2019\n",
    "last_year = 2021\n",
    "split_date =\"2021-01-01\"\n",
    "\n",
    "epochs = 300\n",
    "\n",
    "features = [\"Moneyness\", \"Ttl\", \"R\", \"Volatility\"]\n",
    "seq_length = 5\n",
    "num_features = len(features)\n",
    "\n"
   ]
  },
  {
   "cell_type": "code",
   "execution_count": 3,
   "metadata": {},
   "outputs": [
    {
     "name": "stdout",
     "output_type": "stream",
     "text": [
      "         Unnamed: 0  Quote_date Expire_date  Underlying_last  Strike      Ask  \\\n",
      "0           1354913  2019-01-02  2019-01-04          2509.98   800.0  1711.10   \n",
      "1           1354914  2019-01-02  2019-01-04          2509.98   900.0  1611.40   \n",
      "2           1354915  2019-01-02  2019-01-04          2509.98  1000.0  1511.40   \n",
      "3           1354916  2019-01-02  2019-01-04          2509.98  1050.0  1462.19   \n",
      "4           1354917  2019-01-02  2019-01-04          2509.98  1100.0  1412.20   \n",
      "...             ...         ...         ...              ...     ...      ...   \n",
      "5123793     6521988  2021-12-31  2024-12-20          4766.39  8400.0   300.00   \n",
      "5123794     6521989  2021-12-31  2024-12-20          4766.39  8600.0   300.00   \n",
      "5123795     6521990  2021-12-31  2024-12-20          4766.39  8800.0   300.90   \n",
      "5123796     6521991  2021-12-31  2024-12-20          4766.39  9000.0   300.00   \n",
      "5123797     6521992  2021-12-31  2024-12-20          4766.39  9200.0   300.00   \n",
      "\n",
      "             Bid  Bid_strike  Ask_strike  Moneyness   Ttl  Volatility     R  \n",
      "0        1703.00    2.128750    2.138875   3.137475     2    0.202726  2.40  \n",
      "1        1603.59    1.781767    1.790444   2.788867     2    0.202726  2.40  \n",
      "2        1503.60    1.503600    1.511400   2.509980     2    0.202726  2.40  \n",
      "3        1454.40    1.385143    1.392562   2.390457     2    0.202726  2.40  \n",
      "4        1404.40    1.276727    1.283818   2.281800     2    0.202726  2.40  \n",
      "...          ...         ...         ...        ...   ...         ...   ...  \n",
      "5123793     0.00    0.000000    0.035714   0.567427  1085    0.136456  0.97  \n",
      "5123794     0.00    0.000000    0.034884   0.554231  1085    0.136456  0.97  \n",
      "5123795     0.90    0.000102    0.034193   0.541635  1085    0.136456  0.97  \n",
      "5123796     0.00    0.000000    0.033333   0.529599  1085    0.136456  0.97  \n",
      "5123797     0.00    0.000000    0.032609   0.518086  1085    0.136456  0.97  \n",
      "\n",
      "[5123798 rows x 13 columns]\n",
      "<class 'pandas.core.frame.DataFrame'>\n",
      "RangeIndex: 5123798 entries, 0 to 5123797\n",
      "Data columns (total 13 columns):\n",
      " #   Column           Dtype  \n",
      "---  ------           -----  \n",
      " 0   Unnamed: 0       int64  \n",
      " 1   Quote_date       object \n",
      " 2   Expire_date      object \n",
      " 3   Underlying_last  float64\n",
      " 4   Strike           float64\n",
      " 5   Ask              float64\n",
      " 6   Bid              float64\n",
      " 7   Bid_strike       float64\n",
      " 8   Ask_strike       float64\n",
      " 9   Moneyness        float64\n",
      " 10  Ttl              int64  \n",
      " 11  Volatility       float64\n",
      " 12  R                float64\n",
      "dtypes: float64(9), int64(2), object(2)\n",
      "memory usage: 508.2+ MB\n",
      "         Unnamed: 0  Quote_date Expire_date  Underlying_last  Strike      Ask  \\\n",
      "0           1354913  2019-01-02  2019-01-04          2509.98   800.0  1711.10   \n",
      "1           1354914  2019-01-02  2019-01-04          2509.98   900.0  1611.40   \n",
      "2           1354915  2019-01-02  2019-01-04          2509.98  1000.0  1511.40   \n",
      "3           1354916  2019-01-02  2019-01-04          2509.98  1050.0  1462.19   \n",
      "4           1354917  2019-01-02  2019-01-04          2509.98  1100.0  1412.20   \n",
      "...             ...         ...         ...              ...     ...      ...   \n",
      "5123793     6521988  2021-12-31  2024-12-20          4766.39  8400.0   300.00   \n",
      "5123794     6521989  2021-12-31  2024-12-20          4766.39  8600.0   300.00   \n",
      "5123795     6521990  2021-12-31  2024-12-20          4766.39  8800.0   300.90   \n",
      "5123796     6521991  2021-12-31  2024-12-20          4766.39  9000.0   300.00   \n",
      "5123797     6521992  2021-12-31  2024-12-20          4766.39  9200.0   300.00   \n",
      "\n",
      "             Bid  Bid_strike  Ask_strike  Moneyness   Ttl  Volatility     R  \n",
      "0        1703.00    2.128750    2.138875   3.137475     2    0.202726  2.40  \n",
      "1        1603.59    1.781767    1.790444   2.788867     2    0.202726  2.40  \n",
      "2        1503.60    1.503600    1.511400   2.509980     2    0.202726  2.40  \n",
      "3        1454.40    1.385143    1.392562   2.390457     2    0.202726  2.40  \n",
      "4        1404.40    1.276727    1.283818   2.281800     2    0.202726  2.40  \n",
      "...          ...         ...         ...        ...   ...         ...   ...  \n",
      "5123793     0.00    0.000000    0.035714   0.567427  1085    0.136456  0.97  \n",
      "5123794     0.00    0.000000    0.034884   0.554231  1085    0.136456  0.97  \n",
      "5123795     0.90    0.000102    0.034193   0.541635  1085    0.136456  0.97  \n",
      "5123796     0.00    0.000000    0.033333   0.529599  1085    0.136456  0.97  \n",
      "5123797     0.00    0.000000    0.032609   0.518086  1085    0.136456  0.97  \n",
      "\n",
      "[5123798 rows x 13 columns]\n"
     ]
    }
   ],
   "source": [
    "file = f\"./data/processed_data/{first_year}-{last_year}.csv\"\n",
    "\n",
    "df_read = read_file(file)\n",
    "print(df_read)\n",
    "df_read.info()\n",
    "print(df_read)"
   ]
  },
  {
   "cell_type": "code",
   "execution_count": 4,
   "metadata": {},
   "outputs": [
    {
     "name": "stdout",
     "output_type": "stream",
     "text": [
      "Train_x shape: (2785226, 5, 4), train_y shape: (2785226, 2)\n",
      "Test_x shape: (1845482, 5, 4), test_y shape: (1845482, 2)\n"
     ]
    }
   ],
   "source": [
    "# Splitting dataset\n",
    "\n",
    "df_read_lags = lag_features(df_read, features, seq_length)\n",
    "\n",
    "df_train_orginal, df_test_orginal = create_train_test(df_read_lags, split_date)\n",
    "\n",
    "train_x_org, train_y_org, = df_to_xy(df_train_orginal, num_features, seq_length)\n",
    "test_x_org, test_y_org = df_to_xy(df_test_orginal, num_features, seq_length)\n",
    "\n",
    "train_x_scaled, test_x_scaled = min_max_scale(train_x_org, test_x_org)\n",
    "train_y_scaled, test_y_scaled = min_max_scale(train_y_org, test_y_org)\n",
    "\n",
    "train_x_scaled = np.reshape(train_x_scaled, (len(train_x_scaled), seq_length, num_features))\n",
    "test_x_scaled = np.reshape(test_x_scaled, (len(test_x_scaled), seq_length, num_features))\n",
    "\n",
    "print(f\"Train_x shape: {train_x_scaled.shape}, train_y shape: {train_y_scaled.shape}\")\n",
    "print(f\"Test_x shape: {test_x_scaled.shape}, test_y shape: {test_y_scaled.shape}\")"
   ]
  },
  {
   "cell_type": "code",
   "execution_count": 5,
   "metadata": {},
   "outputs": [],
   "source": [
    "sweep_configuration = {\n",
    "    'method': 'bayes',\n",
    "    'name': 'Erlend-test-2',\n",
    "    'metric': {\n",
    "        'goal': 'minimize', \n",
    "        'name': 'val_loss'\n",
    "\t\t},\n",
    "    'parameters': {\n",
    "        \"units\": {'values': [20, 40, 60, 80]},\n",
    "        \"input_dropout\": {\"distribution\": \"uniform\",\n",
    "            'max': 0.4, 'min': 0},\n",
    "        \"recurrent_dropout\": {\n",
    "            \"distribution\": \"uniform\",\n",
    "            'max': 0.4, 'min': 0},\n",
    "        \"output_dropout\": {\n",
    "            \"distribution\": \"uniform\",\n",
    "            'max': 0.4, 'min': 0},\n",
    "        \"lr\": {\n",
    "            \"distribution\": \"uniform\",\n",
    "            'max': 0.01, 'min': 0.00001},\n",
    "        \"clip_norm\": {\n",
    "            \"distribution\": \"uniform\",\n",
    "            'max': 1, 'min': 0.00001},\n",
    "        \"layers\": {'values': [2, 3, 4, 5]},\n",
    "        \"minibatch_size\": {'values': [512, 1024, 2048, 4096]}\n",
    "    }\n",
    "}\n"
   ]
  },
  {
   "cell_type": "code",
   "execution_count": 7,
   "metadata": {},
   "outputs": [],
   "source": [
    "# Initialize sweep and creating sweepID\n",
    "#sweep_id = wandb.sweep(sweep=sweep_configuration, project=\"LSTM option pricing\")\n",
    "#sweep8: sweep_id = 7finyjz4\n",
    "#sweep10 \n",
    "sweep_id = \"iysyrskx\""
   ]
  },
  {
   "cell_type": "code",
   "execution_count": 8,
   "metadata": {},
   "outputs": [],
   "source": [
    "from keras.models import Sequential\n",
    "from keras.layers import Dense, LSTM, Input, Dropout\n",
    "from keras import backend as K\n",
    "from tensorflow.keras.optimizers import Adam\n",
    "import keras as KER\n",
    "from sklearn.model_selection import train_test_split\n",
    "from keras.activations import linear, relu"
   ]
  },
  {
   "cell_type": "code",
   "execution_count": 9,
   "metadata": {},
   "outputs": [],
   "source": [
    "def create_model(config):\n",
    "  \"\"\"Builds an LSTM model of minimum 2 layers sequentially from a given config dictionary\"\"\"\n",
    "  model = Sequential()\n",
    "\n",
    "\n",
    "  seq_length = 5\n",
    "  num_features =  4\n",
    "  model.add(LSTM(\n",
    "    units = config.units,\n",
    "    activation = relu,\n",
    "    input_shape = (seq_length, num_features),\n",
    "    dropout = config.input_dropout,\n",
    "    recurrent_dropout = config.recurrent_dropout,\n",
    "    return_sequences = True\n",
    "  )) \n",
    "\n",
    "  model.add(Dropout(\n",
    "    rate=config.output_dropout)\n",
    "  )\n",
    "\n",
    "  for i in range(config.layers - 2):\n",
    "    model.add(LSTM(\n",
    "      units = config.units,\n",
    "      activation = relu,\n",
    "      dropout = config.input_dropout,\n",
    "      recurrent_dropout = config.recurrent_dropout,\n",
    "      return_sequences = True))\n",
    "    \n",
    "    model.add(Dropout(\n",
    "      rate=config.output_dropout)\n",
    "    )\n",
    "\n",
    "  model.add(LSTM(\n",
    "    units = config.units,\n",
    "    activation = relu,\n",
    "    dropout = config.input_dropout,\n",
    "    recurrent_dropout = config.recurrent_dropout,\n",
    "    return_sequences = False\n",
    "  ))\n",
    "\n",
    "  model.add(Dropout(\n",
    "    rate=config.output_dropout)\n",
    "  )\n",
    "\n",
    "  model.add(Dense(\n",
    "    units = 2,\n",
    "    activation = relu\n",
    "  ))  \n",
    "\n",
    "  model.compile(\n",
    "    optimizer = Adam(\n",
    "      learning_rate = config.lr,\n",
    "      clipnorm = config.clip_norm\n",
    "    ),\n",
    "    loss = \"mse\",\n",
    "    metrics = [\"accuracy\"]\n",
    "  )\n",
    "\n",
    "  return model"
   ]
  },
  {
   "cell_type": "code",
   "execution_count": 10,
   "metadata": {},
   "outputs": [],
   "source": [
    "from keras.callbacks import EarlyStopping\n",
    "\n",
    "\n",
    "def trainer(train_x = train_x_scaled, train_y = train_y_scaled, config = None):\n",
    "    # Initialize a new wandb run\n",
    "    with wandb.init(config=sweep_configuration):\n",
    "\n",
    "        # If called by wandb.agent, as below,\n",
    "        # this config will be set by Sweep Controller\n",
    "        config = wandb.config\n",
    "\n",
    "        model = create_model(config)\n",
    "\n",
    "        early_stopping = EarlyStopping(\n",
    "            monitor='val_loss',\n",
    "            mode='min',\n",
    "            min_delta=1e-6,\n",
    "            patience=10,\n",
    "        )\n",
    "        \n",
    "        wandb_callback = WandbCallback(\n",
    "            monitor='val_loss',\n",
    "            mode='min',\n",
    "            save_model=False\n",
    "        )\n",
    "\n",
    "        shuffle = np.random.permutation(len(train_x))\n",
    "        train_x, train_y = train_x[shuffle], train_y[shuffle]\n",
    "        model.fit(\n",
    "            train_x,\n",
    "            train_y,\n",
    "            batch_size = config.minibatch_size,\n",
    "            validation_split = 0.3,\n",
    "            epochs = epochs,\n",
    "            callbacks = [early_stopping, wandb_callback] \n",
    "        )\n",
    "        \n"
   ]
  },
  {
   "cell_type": "code",
   "execution_count": 11,
   "metadata": {},
   "outputs": [
    {
     "name": "stderr",
     "output_type": "stream",
     "text": [
      "\u001b[34m\u001b[1mwandb\u001b[0m: Agent Starting Run: 2xe4uajq with config:\n",
      "\u001b[34m\u001b[1mwandb\u001b[0m: \tclip_norm: 0.819431820115507\n",
      "\u001b[34m\u001b[1mwandb\u001b[0m: \tdropout: 0.2274176002660815\n",
      "\u001b[34m\u001b[1mwandb\u001b[0m: \tlayers: 3\n",
      "\u001b[34m\u001b[1mwandb\u001b[0m: \tlr: 0.004020372903708056\n",
      "\u001b[34m\u001b[1mwandb\u001b[0m: \tminibatch_size: 1024\n",
      "\u001b[34m\u001b[1mwandb\u001b[0m: \trecurrent_dropout: 0.33975860608965225\n",
      "\u001b[34m\u001b[1mwandb\u001b[0m: \tunits: 60\n"
     ]
    },
    {
     "data": {
      "text/html": [
       "Tracking run with wandb version 0.13.5"
      ],
      "text/plain": [
       "<IPython.core.display.HTML object>"
      ]
     },
     "metadata": {},
     "output_type": "display_data"
    },
    {
     "data": {
      "text/html": [
       "Run data is saved locally in <code>c:\\Users\\Erlend\\Google Drive\\NTNU\\5. Klasse\\Prosjektoppgave\\Git folder\\LSTM-for-option-pricing\\wandb\\run-20221112_130137-2xe4uajq</code>"
      ],
      "text/plain": [
       "<IPython.core.display.HTML object>"
      ]
     },
     "metadata": {},
     "output_type": "display_data"
    },
    {
     "data": {
      "text/html": [
       "Syncing run <strong><a href=\"https://wandb.ai/avogadro/LSTM%20option%20pricing/runs/2xe4uajq\" target=\"_blank\">comfy-sweep-1</a></strong> to <a href=\"https://wandb.ai/avogadro/LSTM%20option%20pricing\" target=\"_blank\">Weights & Biases</a> (<a href=\"https://wandb.me/run\" target=\"_blank\">docs</a>)<br/>Sweep page:  <a href=\"https://wandb.ai/avogadro/LSTM%20option%20pricing/sweeps/iysyrskx\" target=\"_blank\">https://wandb.ai/avogadro/LSTM%20option%20pricing/sweeps/iysyrskx</a>"
      ],
      "text/plain": [
       "<IPython.core.display.HTML object>"
      ]
     },
     "metadata": {},
     "output_type": "display_data"
    },
    {
     "name": "stdout",
     "output_type": "stream",
     "text": [
      "Epoch 1/300\n",
      "1904/1904 [==============================] - 234s 119ms/step - loss: 6.0237e-05 - accuracy: 0.5826 - val_loss: 6.3704e-05 - val_accuracy: 0.3874\n",
      "Epoch 2/300\n",
      "1904/1904 [==============================] - 252s 132ms/step - loss: 1.2342e-05 - accuracy: 0.5791 - val_loss: 6.7742e-05 - val_accuracy: 0.8760\n",
      "Epoch 3/300\n",
      "1904/1904 [==============================] - 494s 259ms/step - loss: 1.1919e-05 - accuracy: 0.5968 - val_loss: 6.2639e-05 - val_accuracy: 0.4972\n",
      "Epoch 4/300\n",
      "1904/1904 [==============================] - 446s 234ms/step - loss: 1.0112e-05 - accuracy: 0.6035 - val_loss: 6.6294e-05 - val_accuracy: 0.7631\n",
      "Epoch 5/300\n",
      "1904/1904 [==============================] - 201s 105ms/step - loss: 1.0277e-05 - accuracy: 0.6173 - val_loss: 6.3263e-05 - val_accuracy: 0.3916\n",
      "Epoch 6/300\n",
      "1904/1904 [==============================] - 219s 115ms/step - loss: 9.0461e-06 - accuracy: 0.6459 - val_loss: 6.3458e-05 - val_accuracy: 0.5076\n",
      "Epoch 7/300\n",
      " 299/1904 [===>..........................] - ETA: 2:49 - loss: 8.4069e-06 - accuracy: 0.6243"
     ]
    }
   ],
   "source": [
    "wandb.agent(sweep_id=sweep_id, function=trainer, project=\"LSTM option pricing\", count = 3)"
   ]
  }
 ],
 "metadata": {
  "kernelspec": {
   "display_name": "Python 3.9.4 64-bit",
   "language": "python",
   "name": "python3"
  },
  "language_info": {
   "codemirror_mode": {
    "name": "ipython",
    "version": 3
   },
   "file_extension": ".py",
   "mimetype": "text/x-python",
   "name": "python",
   "nbconvert_exporter": "python",
   "pygments_lexer": "ipython3",
   "version": "3.9.4"
  },
  "orig_nbformat": 4,
  "vscode": {
   "interpreter": {
    "hash": "6d22c5043c0ee61c8547bd88adb0f85d3d6a0a630c1da4282026f99271dac814"
   }
  }
 },
 "nbformat": 4,
 "nbformat_minor": 2
}
