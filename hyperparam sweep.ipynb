{
 "cells": [
  {
   "cell_type": "code",
   "execution_count": 2,
   "metadata": {},
   "outputs": [
    {
     "data": {
      "text/plain": [
       "True"
      ]
     },
     "execution_count": 2,
     "metadata": {},
     "output_type": "execute_result"
    }
   ],
   "source": [
    "from preprocessing import get_model_dataset, create_train_test, min_max_scale, df_to_xy\n",
    "from trainer import trainer\n",
    "import numpy as np\n",
    "import matplotlib.pyplot as plt\n",
    "\n",
    "# Hyperparameter tuning\n",
    "\n",
    "\n",
    "import wandb\n",
    "from wandb.keras import WandbCallback\n",
    "import os\n",
    "os.environ[\"WANDB_NOTEBOOK_NAME\"] = \"/Users/hjalmarvinje/Documents/LSTM for option pricing\"\n",
    "wandb.login()"
   ]
  },
  {
   "cell_type": "code",
   "execution_count": 3,
   "metadata": {},
   "outputs": [
    {
     "name": "stdout",
     "output_type": "stream",
     "text": [
      "        Quote_date Expire_date  Underlying_last   Strike  Moneyness    Ask  \\\n",
      "725110  2022-05-09  2022-05-10          3993.26   3100.0   1.288148  893.3   \n",
      "725111  2022-05-09  2022-05-10          3993.26   3200.0   1.247894  792.9   \n",
      "725112  2022-05-09  2022-05-10          3993.26   3300.0   1.210079  692.2   \n",
      "725113  2022-05-09  2022-05-10          3993.26   3400.0   1.174488  592.2   \n",
      "725114  2022-05-09  2022-05-10          3993.26   3500.0   1.140931  493.0   \n",
      "...            ...         ...              ...      ...        ...    ...   \n",
      "1533707 2022-09-30  2026-12-18          3589.70   8800.0   0.407920   31.4   \n",
      "1533708 2022-09-30  2026-12-18          3589.70   9000.0   0.398856   29.5   \n",
      "1533709 2022-09-30  2026-12-18          3589.70   9200.0   0.390185   16.2   \n",
      "1533710 2022-09-30  2026-12-18          3589.70   9600.0   0.373927   24.5   \n",
      "1533711 2022-09-30  2026-12-18          3589.70  10000.0   0.358970   21.8   \n",
      "\n",
      "           Bid   Ttl  Volatility     R  \n",
      "725110   886.3     1    0.233070  0.92  \n",
      "725111   785.4     1    0.233070  0.92  \n",
      "725112   685.8     1    0.233070  0.92  \n",
      "725113   585.4     1    0.233070  0.92  \n",
      "725114   485.9     1    0.233070  0.92  \n",
      "...        ...   ...         ...   ...  \n",
      "1533707   10.0  1540    0.234276  3.33  \n",
      "1533708    6.1  1540    0.234276  3.33  \n",
      "1533709   11.2  1540    0.234276  3.33  \n",
      "1533710    3.3  1540    0.234276  3.33  \n",
      "1533711    7.3  1540    0.234276  3.33  \n",
      "\n",
      "[776381 rows x 10 columns]\n",
      "<class 'pandas.core.frame.DataFrame'>\n",
      "Int64Index: 776381 entries, 725110 to 1533711\n",
      "Data columns (total 10 columns):\n",
      " #   Column           Non-Null Count   Dtype         \n",
      "---  ------           --------------   -----         \n",
      " 0   Quote_date       776381 non-null  datetime64[ns]\n",
      " 1   Expire_date      776381 non-null  datetime64[ns]\n",
      " 2   Underlying_last  776381 non-null  float64       \n",
      " 3   Strike           776381 non-null  float64       \n",
      " 4   Moneyness        776381 non-null  float64       \n",
      " 5   Ask              776381 non-null  float64       \n",
      " 6   Bid              776381 non-null  float64       \n",
      " 7   Ttl              776381 non-null  int64         \n",
      " 8   Volatility       776381 non-null  float64       \n",
      " 9   R                776381 non-null  float64       \n",
      "dtypes: datetime64[ns](2), float64(7), int64(1)\n",
      "memory usage: 65.2 MB\n"
     ]
    }
   ],
   "source": [
    "# Load dataset\n",
    "path_opt = \"./data/options/\"\n",
    "filenames_opt = [\"spx_eod_\" + str(year) + (str(month) if month >= 10 else \"0\"+str(month)) + \".txt\" for year in range(2022, 2022) for month in range(1, 13)] + [\"spx_eod_2022\" + (str(month) if month >= 10 else \"0\" + str(month)) + \".txt\" for month in range(1, 10)]\n",
    "path_r = \"./data/rates/\"\n",
    "filenames_r = [\"yield-curve-rates-2022.csv\", \"yield-curve-rates-1990-2021.csv\"]\n",
    "\n",
    "df_read = get_model_dataset(path_opt, filenames_opt, path_r, filenames_r, True)\n",
    "print(df_read)\n",
    "df_read.info()"
   ]
  },
  {
   "cell_type": "code",
   "execution_count": 4,
   "metadata": {},
   "outputs": [
    {
     "name": "stdout",
     "output_type": "stream",
     "text": [
      "Train_x shape: (519593, 5, 4), train_y shape: (519593, 2)\n",
      "Test_x shape: (121672, 5, 4), test_y shape: (121672, 2)\n"
     ]
    }
   ],
   "source": [
    "# Splitting dataset\n",
    "features = [\"Moneyness\", \"Ttl\", \"R\", \"Volatility\"]\n",
    "seq_length = 5\n",
    "num_features = 4\n",
    "\n",
    "df_train_orginal, df_test_orginal = create_train_test(df_read, features,  \"2022-09-01\", 5)\n",
    "\n",
    "train_x_org, train_y_org, = df_to_xy(df_train_orginal, num_features, seq_length)\n",
    "test_x_org, test_y_org = df_to_xy(df_test_orginal, num_features, seq_length)\n",
    "\n",
    "train_x_scaled, test_x_scaled = min_max_scale(train_x_org, test_x_org)\n",
    "train_y_scaled, test_y_scaled = min_max_scale(train_y_org, test_y_org)\n",
    "\n",
    "train_x_scaled = np.reshape(train_x_scaled, (len(train_x_scaled), seq_length, num_features))\n",
    "test_x_scaled = np.reshape(test_x_scaled, (len(test_x_scaled), seq_length, num_features))\n",
    "\n",
    "print(f\"Train_x shape: {train_x_scaled.shape}, train_y shape: {train_y_scaled.shape}\")\n",
    "print(f\"Test_x shape: {test_x_scaled.shape}, test_y shape: {test_y_scaled.shape}\")"
   ]
  },
  {
   "cell_type": "code",
   "execution_count": 5,
   "metadata": {},
   "outputs": [],
   "source": [
    "sweep_configuration = {\n",
    "    'method': 'random',\n",
    "    'name': 'sweep3',\n",
    "    'metric': {\n",
    "        'goal': 'minimize', \n",
    "        'name': 'loss'\n",
    "\t\t},\n",
    "    'parameters': {\n",
    "        \"units\": {'values': [75, 100, 200]},\n",
    "     }\n",
    "}"
   ]
  },
  {
   "cell_type": "code",
   "execution_count": 6,
   "metadata": {},
   "outputs": [
    {
     "name": "stdout",
     "output_type": "stream",
     "text": [
      "Create sweep with ID: qbomwqx6\n",
      "Sweep URL: https://wandb.ai/avogadro/LSTM%20option%20pricing/sweeps/qbomwqx6\n"
     ]
    }
   ],
   "source": [
    "# Initialize sweep and creating sweepID\n",
    "sweep_id = wandb.sweep(sweep=sweep_configuration, project=\"LSTM option pricing\")"
   ]
  },
  {
   "cell_type": "code",
   "execution_count": 7,
   "metadata": {},
   "outputs": [],
   "source": [
    "from keras.models import Sequential\n",
    "from keras.layers import Dense, LSTM, Input\n",
    "from keras import backend as K\n",
    "from tensorflow.keras.optimizers import Adam\n",
    "import keras as KER\n",
    "from sklearn.model_selection import train_test_split\n",
    "from keras.activations import linear, relu"
   ]
  },
  {
   "cell_type": "code",
   "execution_count": 14,
   "metadata": {},
   "outputs": [],
   "source": [
    "def create_model(config):\n",
    "  \"\"\"Builds an LSTM model of minimum 2 layers sequentially from a given config dictionary\"\"\"\n",
    "  model = Sequential()\n",
    "\n",
    "  model.add(LSTM(\n",
    "    units = config.units,\n",
    "    activation = linear,\n",
    "    input_shape = (config.seq_length, config.num_features),\n",
    "    dropout = config.dropout,\n",
    "    recurrent_dropout = config.recurrent_dropout,\n",
    "    return_sequences = True\n",
    "  )) \n",
    "\n",
    "  for i in range(config.layers - 2):\n",
    "    model.add(LSTM(\n",
    "    units = config.units,\n",
    "    activation = linear,\n",
    "    dropout = config.dropout,\n",
    "    recurrent_dropout = config.recurrent_dropout,\n",
    "    return_sequences = True\n",
    "  ))\n",
    "\n",
    "  model.add(LSTM(\n",
    "    units = config.units,\n",
    "    activation = linear,\n",
    "    dropout = config.dropout,\n",
    "    recurrent_dropout = config.recurrent_dropout,\n",
    "    return_sequences = False\n",
    "  ))\n",
    "\n",
    "  model.add(Dense(\n",
    "    units = 2,\n",
    "    activation = relu\n",
    "  ))  \n",
    "\n",
    "  model.compile(\n",
    "    optimizer = Adam(\n",
    "      learning_rate = config.lr\n",
    "    ),\n",
    "    loss = \"mse\",\n",
    "    metrics = [\"accuracy\"]\n",
    "  )\n",
    "\n",
    "  return model"
   ]
  },
  {
   "cell_type": "code",
   "execution_count": 15,
   "metadata": {},
   "outputs": [],
   "source": [
    "from keras.callbacks import EarlyStopping\n",
    "\n",
    "\n",
    "def trainer(train_x = train_x_scaled, train_y = train_y_scaled, config = None):\n",
    "    # Initialize a new wandb run\n",
    "    with wandb.init(config=sweep_configuration):\n",
    "\n",
    "        # If called by wandb.agent, as below,\n",
    "        # this config will be set by Sweep Controller\n",
    "        s_config = wandb.config\n",
    "\n",
    "        model = create_model(s_config, config)\n",
    "        \n",
    "        minibatch_size = 1024\n",
    "\n",
    "        early_stopping = EarlyStopping(\n",
    "            monitor='loss',\n",
    "            mode='min',\n",
    "            min_delta=1e-4,\n",
    "            patience=10,\n",
    "        )\n",
    "\n",
    "        model.fit(\n",
    "            train_x,\n",
    "            train_y,\n",
    "            batch_size = minibatch_size,\n",
    "            epochs = config.epochs,\n",
    "            callbacks = [early_stopping, WandbCallback()] \n",
    "        )\n",
    "        \n"
   ]
  },
  {
   "cell_type": "code",
   "execution_count": 16,
   "metadata": {},
   "outputs": [
    {
     "name": "stderr",
     "output_type": "stream",
     "text": [
      "Retry attempt failed:\n",
      "Traceback (most recent call last):\n",
      "  File \"/Library/Frameworks/Python.framework/Versions/3.8/lib/python3.8/site-packages/urllib3/connection.py\", line 156, in _new_conn\n",
      "    conn = connection.create_connection(\n",
      "  File \"/Library/Frameworks/Python.framework/Versions/3.8/lib/python3.8/site-packages/urllib3/util/connection.py\", line 61, in create_connection\n",
      "    for res in socket.getaddrinfo(host, port, family, socket.SOCK_STREAM):\n",
      "  File \"/Library/Frameworks/Python.framework/Versions/3.8/lib/python3.8/socket.py\", line 918, in getaddrinfo\n",
      "    for res in _socket.getaddrinfo(host, port, family, type, proto, flags):\n",
      "socket.gaierror: [Errno 8] nodename nor servname provided, or not known\n",
      "\n",
      "During handling of the above exception, another exception occurred:\n",
      "\n",
      "Traceback (most recent call last):\n",
      "  File \"/Library/Frameworks/Python.framework/Versions/3.8/lib/python3.8/site-packages/urllib3/connectionpool.py\", line 665, in urlopen\n",
      "    httplib_response = self._make_request(\n",
      "  File \"/Library/Frameworks/Python.framework/Versions/3.8/lib/python3.8/site-packages/urllib3/connectionpool.py\", line 376, in _make_request\n",
      "    self._validate_conn(conn)\n",
      "  File \"/Library/Frameworks/Python.framework/Versions/3.8/lib/python3.8/site-packages/urllib3/connectionpool.py\", line 994, in _validate_conn\n",
      "    conn.connect()\n",
      "  File \"/Library/Frameworks/Python.framework/Versions/3.8/lib/python3.8/site-packages/urllib3/connection.py\", line 300, in connect\n",
      "    conn = self._new_conn()\n",
      "  File \"/Library/Frameworks/Python.framework/Versions/3.8/lib/python3.8/site-packages/urllib3/connection.py\", line 168, in _new_conn\n",
      "    raise NewConnectionError(\n",
      "urllib3.exceptions.NewConnectionError: <urllib3.connection.VerifiedHTTPSConnection object at 0x7fa684fb3df0>: Failed to establish a new connection: [Errno 8] nodename nor servname provided, or not known\n",
      "\n",
      "During handling of the above exception, another exception occurred:\n",
      "\n",
      "Traceback (most recent call last):\n",
      "  File \"/Library/Frameworks/Python.framework/Versions/3.8/lib/python3.8/site-packages/requests/adapters.py\", line 439, in send\n",
      "    resp = conn.urlopen(\n",
      "  File \"/Library/Frameworks/Python.framework/Versions/3.8/lib/python3.8/site-packages/urllib3/connectionpool.py\", line 719, in urlopen\n",
      "    retries = retries.increment(\n",
      "  File \"/Library/Frameworks/Python.framework/Versions/3.8/lib/python3.8/site-packages/urllib3/util/retry.py\", line 436, in increment\n",
      "    raise MaxRetryError(_pool, url, error or ResponseError(cause))\n",
      "urllib3.exceptions.MaxRetryError: HTTPSConnectionPool(host='api.wandb.ai', port=443): Max retries exceeded with url: /graphql (Caused by NewConnectionError('<urllib3.connection.VerifiedHTTPSConnection object at 0x7fa684fb3df0>: Failed to establish a new connection: [Errno 8] nodename nor servname provided, or not known'))\n",
      "\n",
      "During handling of the above exception, another exception occurred:\n",
      "\n",
      "Traceback (most recent call last):\n",
      "  File \"/Library/Frameworks/Python.framework/Versions/3.8/lib/python3.8/site-packages/wandb/sdk/lib/retry.py\", line 113, in __call__\n",
      "    result = self._call_fn(*args, **kwargs)\n",
      "  File \"/Library/Frameworks/Python.framework/Versions/3.8/lib/python3.8/site-packages/wandb/sdk/internal/internal_api.py\", line 210, in execute\n",
      "    return self.client.execute(*args, **kwargs)  # type: ignore\n",
      "  File \"/Library/Frameworks/Python.framework/Versions/3.8/lib/python3.8/site-packages/wandb/vendor/gql-0.2.0/wandb_gql/client.py\", line 52, in execute\n",
      "    result = self._get_result(document, *args, **kwargs)\n",
      "  File \"/Library/Frameworks/Python.framework/Versions/3.8/lib/python3.8/site-packages/wandb/vendor/gql-0.2.0/wandb_gql/client.py\", line 60, in _get_result\n",
      "    return self.transport.execute(document, *args, **kwargs)\n",
      "  File \"/Library/Frameworks/Python.framework/Versions/3.8/lib/python3.8/site-packages/wandb/vendor/gql-0.2.0/wandb_gql/transport/requests.py\", line 38, in execute\n",
      "    request = requests.post(self.url, **post_args)\n",
      "  File \"/Library/Frameworks/Python.framework/Versions/3.8/lib/python3.8/site-packages/requests/api.py\", line 116, in post\n",
      "    return request('post', url, data=data, json=json, **kwargs)\n",
      "  File \"/Library/Frameworks/Python.framework/Versions/3.8/lib/python3.8/site-packages/requests/api.py\", line 60, in request\n",
      "    return session.request(method=method, url=url, **kwargs)\n",
      "  File \"/Library/Frameworks/Python.framework/Versions/3.8/lib/python3.8/site-packages/requests/sessions.py\", line 533, in request\n",
      "    resp = self.send(prep, **send_kwargs)\n",
      "  File \"/Library/Frameworks/Python.framework/Versions/3.8/lib/python3.8/site-packages/requests/sessions.py\", line 646, in send\n",
      "    r = adapter.send(request, **kwargs)\n",
      "  File \"/Library/Frameworks/Python.framework/Versions/3.8/lib/python3.8/site-packages/requests/adapters.py\", line 516, in send\n",
      "    raise ConnectionError(e, request=request)\n",
      "requests.exceptions.ConnectionError: HTTPSConnectionPool(host='api.wandb.ai', port=443): Max retries exceeded with url: /graphql (Caused by NewConnectionError('<urllib3.connection.VerifiedHTTPSConnection object at 0x7fa684fb3df0>: Failed to establish a new connection: [Errno 8] nodename nor servname provided, or not known'))\n",
      "\u001b[34m\u001b[1mwandb\u001b[0m: Network error (ConnectionError), entering retry loop.\n",
      "\u001b[34m\u001b[1mwandb\u001b[0m: Agent Starting Run: av3m4i24 with config:\n",
      "\u001b[34m\u001b[1mwandb\u001b[0m: \tdropout: 0.2\n",
      "\u001b[34m\u001b[1mwandb\u001b[0m: \tepochs: 1\n",
      "\u001b[34m\u001b[1mwandb\u001b[0m: \tlayers: 5\n",
      "\u001b[34m\u001b[1mwandb\u001b[0m: \tlr: 0.001\n",
      "\u001b[34m\u001b[1mwandb\u001b[0m: \tnum_features: 5\n",
      "\u001b[34m\u001b[1mwandb\u001b[0m: \toptimizer: sgd\n",
      "\u001b[34m\u001b[1mwandb\u001b[0m: \trecurrent_dropout: 0.05\n",
      "\u001b[34m\u001b[1mwandb\u001b[0m: \tseq_length: 15\n",
      "\u001b[34m\u001b[1mwandb\u001b[0m: \tunits: 75\n"
     ]
    },
    {
     "data": {
      "text/html": [
       "Tracking run with wandb version 0.13.5"
      ],
      "text/plain": [
       "<IPython.core.display.HTML object>"
      ]
     },
     "metadata": {},
     "output_type": "display_data"
    },
    {
     "data": {
      "text/html": [
       "Run data is saved locally in <code>/Users/hjalmarvinje/Documents/LSTM for option pricing/wandb/run-20221110_145029-av3m4i24</code>"
      ],
      "text/plain": [
       "<IPython.core.display.HTML object>"
      ]
     },
     "metadata": {},
     "output_type": "display_data"
    },
    {
     "data": {
      "text/html": [
       "Syncing run <strong><a href=\"https://wandb.ai/avogadro/LSTM%20option%20pricing/runs/av3m4i24\" target=\"_blank\">bumbling-sweep-6</a></strong> to <a href=\"https://wandb.ai/avogadro/LSTM%20option%20pricing\" target=\"_blank\">Weights & Biases</a> (<a href=\"https://wandb.me/run\" target=\"_blank\">docs</a>)<br/>Sweep page:  <a href=\"https://wandb.ai/avogadro/LSTM%20option%20pricing/sweeps/qbomwqx6\" target=\"_blank\">https://wandb.ai/avogadro/LSTM%20option%20pricing/sweeps/qbomwqx6</a>"
      ],
      "text/plain": [
       "<IPython.core.display.HTML object>"
      ]
     },
     "metadata": {},
     "output_type": "display_data"
    },
    {
     "name": "stdout",
     "output_type": "stream",
     "text": [
      "(config.seq_length, config.num_features), (15, 5)\n"
     ]
    },
    {
     "data": {
      "text/html": [
       "Waiting for W&B process to finish... <strong style=\"color:red\">(failed 1).</strong> Press Control-C to abort syncing."
      ],
      "text/plain": [
       "<IPython.core.display.HTML object>"
      ]
     },
     "metadata": {},
     "output_type": "display_data"
    },
    {
     "data": {
      "text/html": [
       "Synced <strong style=\"color:#cdcd00\">bumbling-sweep-6</strong>: <a href=\"https://wandb.ai/avogadro/LSTM%20option%20pricing/runs/av3m4i24\" target=\"_blank\">https://wandb.ai/avogadro/LSTM%20option%20pricing/runs/av3m4i24</a><br/>Synced 5 W&B file(s), 0 media file(s), 0 artifact file(s) and 0 other file(s)"
      ],
      "text/plain": [
       "<IPython.core.display.HTML object>"
      ]
     },
     "metadata": {},
     "output_type": "display_data"
    },
    {
     "data": {
      "text/html": [
       "Find logs at: <code>./wandb/run-20221110_145029-av3m4i24/logs</code>"
      ],
      "text/plain": [
       "<IPython.core.display.HTML object>"
      ]
     },
     "metadata": {},
     "output_type": "display_data"
    },
    {
     "name": "stderr",
     "output_type": "stream",
     "text": [
      "Run av3m4i24 errored: ValueError(\"in user code:\\n\\n    /Library/Frameworks/Python.framework/Versions/3.8/lib/python3.8/site-packages/keras/engine/training.py:853 train_function  *\\n        return step_function(self, iterator)\\n    /Library/Frameworks/Python.framework/Versions/3.8/lib/python3.8/site-packages/keras/engine/training.py:842 step_function  **\\n        outputs = model.distribute_strategy.run(run_step, args=(data,))\\n    /Library/Frameworks/Python.framework/Versions/3.8/lib/python3.8/site-packages/tensorflow/python/distribute/distribute_lib.py:1286 run\\n        return self._extended.call_for_each_replica(fn, args=args, kwargs=kwargs)\\n    /Library/Frameworks/Python.framework/Versions/3.8/lib/python3.8/site-packages/tensorflow/python/distribute/distribute_lib.py:2849 call_for_each_replica\\n        return self._call_for_each_replica(fn, args, kwargs)\\n    /Library/Frameworks/Python.framework/Versions/3.8/lib/python3.8/site-packages/tensorflow/python/distribute/distribute_lib.py:3632 _call_for_each_replica\\n        return fn(*args, **kwargs)\\n    /Library/Frameworks/Python.framework/Versions/3.8/lib/python3.8/site-packages/keras/engine/training.py:835 run_step  **\\n        outputs = model.train_step(data)\\n    /Library/Frameworks/Python.framework/Versions/3.8/lib/python3.8/site-packages/keras/engine/training.py:787 train_step\\n        y_pred = self(x, training=True)\\n    /Library/Frameworks/Python.framework/Versions/3.8/lib/python3.8/site-packages/keras/engine/base_layer.py:1020 __call__\\n        input_spec.assert_input_compatibility(self.input_spec, inputs, self.name)\\n    /Library/Frameworks/Python.framework/Versions/3.8/lib/python3.8/site-packages/keras/engine/input_spec.py:266 assert_input_compatibility\\n        raise ValueError('Input ' + str(input_index) +\\n\\n    ValueError: Input 0 is incompatible with layer sequential: expected shape=(None, None, 5), found shape=(None, 5, 4)\\n\")\n",
      "\u001b[34m\u001b[1mwandb\u001b[0m: \u001b[32m\u001b[41mERROR\u001b[0m Run av3m4i24 errored: ValueError(\"in user code:\\n\\n    /Library/Frameworks/Python.framework/Versions/3.8/lib/python3.8/site-packages/keras/engine/training.py:853 train_function  *\\n        return step_function(self, iterator)\\n    /Library/Frameworks/Python.framework/Versions/3.8/lib/python3.8/site-packages/keras/engine/training.py:842 step_function  **\\n        outputs = model.distribute_strategy.run(run_step, args=(data,))\\n    /Library/Frameworks/Python.framework/Versions/3.8/lib/python3.8/site-packages/tensorflow/python/distribute/distribute_lib.py:1286 run\\n        return self._extended.call_for_each_replica(fn, args=args, kwargs=kwargs)\\n    /Library/Frameworks/Python.framework/Versions/3.8/lib/python3.8/site-packages/tensorflow/python/distribute/distribute_lib.py:2849 call_for_each_replica\\n        return self._call_for_each_replica(fn, args, kwargs)\\n    /Library/Frameworks/Python.framework/Versions/3.8/lib/python3.8/site-packages/tensorflow/python/distribute/distribute_lib.py:3632 _call_for_each_replica\\n        return fn(*args, **kwargs)\\n    /Library/Frameworks/Python.framework/Versions/3.8/lib/python3.8/site-packages/keras/engine/training.py:835 run_step  **\\n        outputs = model.train_step(data)\\n    /Library/Frameworks/Python.framework/Versions/3.8/lib/python3.8/site-packages/keras/engine/training.py:787 train_step\\n        y_pred = self(x, training=True)\\n    /Library/Frameworks/Python.framework/Versions/3.8/lib/python3.8/site-packages/keras/engine/base_layer.py:1020 __call__\\n        input_spec.assert_input_compatibility(self.input_spec, inputs, self.name)\\n    /Library/Frameworks/Python.framework/Versions/3.8/lib/python3.8/site-packages/keras/engine/input_spec.py:266 assert_input_compatibility\\n        raise ValueError('Input ' + str(input_index) +\\n\\n    ValueError: Input 0 is incompatible with layer sequential: expected shape=(None, None, 5), found shape=(None, 5, 4)\\n\")\n",
      "\u001b[34m\u001b[1mwandb\u001b[0m: Agent Starting Run: qeb1cfzn with config:\n",
      "\u001b[34m\u001b[1mwandb\u001b[0m: \tdropout: 0.1\n",
      "\u001b[34m\u001b[1mwandb\u001b[0m: \tepochs: 5\n",
      "\u001b[34m\u001b[1mwandb\u001b[0m: \tlayers: 5\n",
      "\u001b[34m\u001b[1mwandb\u001b[0m: \tlr: 0.001\n",
      "\u001b[34m\u001b[1mwandb\u001b[0m: \tnum_features: 15\n",
      "\u001b[34m\u001b[1mwandb\u001b[0m: \toptimizer: sgd\n",
      "\u001b[34m\u001b[1mwandb\u001b[0m: \trecurrent_dropout: 0.05\n",
      "\u001b[34m\u001b[1mwandb\u001b[0m: \tseq_length: 15\n",
      "\u001b[34m\u001b[1mwandb\u001b[0m: \tunits: 100\n"
     ]
    },
    {
     "data": {
      "application/vnd.jupyter.widget-view+json": {
       "model_id": "4dbcae76d2e04ebe8c661bd5e9dc509d",
       "version_major": 2,
       "version_minor": 0
      },
      "text/plain": [
       "VBox(children=(Label(value='Waiting for wandb.init()...\\r'), FloatProgress(value=0.01683063431666672, max=1.0)…"
      ]
     },
     "metadata": {},
     "output_type": "display_data"
    },
    {
     "data": {
      "text/html": [
       "Tracking run with wandb version 0.13.5"
      ],
      "text/plain": [
       "<IPython.core.display.HTML object>"
      ]
     },
     "metadata": {},
     "output_type": "display_data"
    },
    {
     "data": {
      "text/html": [
       "Run data is saved locally in <code>/Users/hjalmarvinje/Documents/LSTM for option pricing/wandb/run-20221110_145046-qeb1cfzn</code>"
      ],
      "text/plain": [
       "<IPython.core.display.HTML object>"
      ]
     },
     "metadata": {},
     "output_type": "display_data"
    },
    {
     "data": {
      "text/html": [
       "Syncing run <strong><a href=\"https://wandb.ai/avogadro/LSTM%20option%20pricing/runs/qeb1cfzn\" target=\"_blank\">light-sweep-7</a></strong> to <a href=\"https://wandb.ai/avogadro/LSTM%20option%20pricing\" target=\"_blank\">Weights & Biases</a> (<a href=\"https://wandb.me/run\" target=\"_blank\">docs</a>)<br/>Sweep page:  <a href=\"https://wandb.ai/avogadro/LSTM%20option%20pricing/sweeps/qbomwqx6\" target=\"_blank\">https://wandb.ai/avogadro/LSTM%20option%20pricing/sweeps/qbomwqx6</a>"
      ],
      "text/plain": [
       "<IPython.core.display.HTML object>"
      ]
     },
     "metadata": {},
     "output_type": "display_data"
    },
    {
     "name": "stdout",
     "output_type": "stream",
     "text": [
      "(config.seq_length, config.num_features), (15, 15)\n",
      "Epoch 1/5\n"
     ]
    },
    {
     "data": {
      "text/html": [
       "Waiting for W&B process to finish... <strong style=\"color:red\">(failed 1).</strong> Press Control-C to abort syncing."
      ],
      "text/plain": [
       "<IPython.core.display.HTML object>"
      ]
     },
     "metadata": {},
     "output_type": "display_data"
    },
    {
     "data": {
      "application/vnd.jupyter.widget-view+json": {
       "model_id": "4e1d9016cc604f1bb027c48c926e0129",
       "version_major": 2,
       "version_minor": 0
      },
      "text/plain": [
       "VBox(children=(Label(value='0.001 MB of 0.001 MB uploaded (0.000 MB deduped)\\r'), FloatProgress(value=1.0, max…"
      ]
     },
     "metadata": {},
     "output_type": "display_data"
    },
    {
     "data": {
      "text/html": [
       "Synced <strong style=\"color:#cdcd00\">light-sweep-7</strong>: <a href=\"https://wandb.ai/avogadro/LSTM%20option%20pricing/runs/qeb1cfzn\" target=\"_blank\">https://wandb.ai/avogadro/LSTM%20option%20pricing/runs/qeb1cfzn</a><br/>Synced 5 W&B file(s), 0 media file(s), 0 artifact file(s) and 0 other file(s)"
      ],
      "text/plain": [
       "<IPython.core.display.HTML object>"
      ]
     },
     "metadata": {},
     "output_type": "display_data"
    },
    {
     "data": {
      "text/html": [
       "Find logs at: <code>./wandb/run-20221110_145046-qeb1cfzn/logs</code>"
      ],
      "text/plain": [
       "<IPython.core.display.HTML object>"
      ]
     },
     "metadata": {},
     "output_type": "display_data"
    },
    {
     "name": "stderr",
     "output_type": "stream",
     "text": [
      "Run qeb1cfzn errored: ValueError(\"in user code:\\n\\n    /Library/Frameworks/Python.framework/Versions/3.8/lib/python3.8/site-packages/keras/engine/training.py:853 train_function  *\\n        return step_function(self, iterator)\\n    /Library/Frameworks/Python.framework/Versions/3.8/lib/python3.8/site-packages/keras/engine/training.py:842 step_function  **\\n        outputs = model.distribute_strategy.run(run_step, args=(data,))\\n    /Library/Frameworks/Python.framework/Versions/3.8/lib/python3.8/site-packages/tensorflow/python/distribute/distribute_lib.py:1286 run\\n        return self._extended.call_for_each_replica(fn, args=args, kwargs=kwargs)\\n    /Library/Frameworks/Python.framework/Versions/3.8/lib/python3.8/site-packages/tensorflow/python/distribute/distribute_lib.py:2849 call_for_each_replica\\n        return self._call_for_each_replica(fn, args, kwargs)\\n    /Library/Frameworks/Python.framework/Versions/3.8/lib/python3.8/site-packages/tensorflow/python/distribute/distribute_lib.py:3632 _call_for_each_replica\\n        return fn(*args, **kwargs)\\n    /Library/Frameworks/Python.framework/Versions/3.8/lib/python3.8/site-packages/keras/engine/training.py:835 run_step  **\\n        outputs = model.train_step(data)\\n    /Library/Frameworks/Python.framework/Versions/3.8/lib/python3.8/site-packages/keras/engine/training.py:787 train_step\\n        y_pred = self(x, training=True)\\n    /Library/Frameworks/Python.framework/Versions/3.8/lib/python3.8/site-packages/keras/engine/base_layer.py:1020 __call__\\n        input_spec.assert_input_compatibility(self.input_spec, inputs, self.name)\\n    /Library/Frameworks/Python.framework/Versions/3.8/lib/python3.8/site-packages/keras/engine/input_spec.py:266 assert_input_compatibility\\n        raise ValueError('Input ' + str(input_index) +\\n\\n    ValueError: Input 0 is incompatible with layer sequential: expected shape=(None, None, 15), found shape=(None, 5, 4)\\n\")\n",
      "\u001b[34m\u001b[1mwandb\u001b[0m: \u001b[32m\u001b[41mERROR\u001b[0m Run qeb1cfzn errored: ValueError(\"in user code:\\n\\n    /Library/Frameworks/Python.framework/Versions/3.8/lib/python3.8/site-packages/keras/engine/training.py:853 train_function  *\\n        return step_function(self, iterator)\\n    /Library/Frameworks/Python.framework/Versions/3.8/lib/python3.8/site-packages/keras/engine/training.py:842 step_function  **\\n        outputs = model.distribute_strategy.run(run_step, args=(data,))\\n    /Library/Frameworks/Python.framework/Versions/3.8/lib/python3.8/site-packages/tensorflow/python/distribute/distribute_lib.py:1286 run\\n        return self._extended.call_for_each_replica(fn, args=args, kwargs=kwargs)\\n    /Library/Frameworks/Python.framework/Versions/3.8/lib/python3.8/site-packages/tensorflow/python/distribute/distribute_lib.py:2849 call_for_each_replica\\n        return self._call_for_each_replica(fn, args, kwargs)\\n    /Library/Frameworks/Python.framework/Versions/3.8/lib/python3.8/site-packages/tensorflow/python/distribute/distribute_lib.py:3632 _call_for_each_replica\\n        return fn(*args, **kwargs)\\n    /Library/Frameworks/Python.framework/Versions/3.8/lib/python3.8/site-packages/keras/engine/training.py:835 run_step  **\\n        outputs = model.train_step(data)\\n    /Library/Frameworks/Python.framework/Versions/3.8/lib/python3.8/site-packages/keras/engine/training.py:787 train_step\\n        y_pred = self(x, training=True)\\n    /Library/Frameworks/Python.framework/Versions/3.8/lib/python3.8/site-packages/keras/engine/base_layer.py:1020 __call__\\n        input_spec.assert_input_compatibility(self.input_spec, inputs, self.name)\\n    /Library/Frameworks/Python.framework/Versions/3.8/lib/python3.8/site-packages/keras/engine/input_spec.py:266 assert_input_compatibility\\n        raise ValueError('Input ' + str(input_index) +\\n\\n    ValueError: Input 0 is incompatible with layer sequential: expected shape=(None, None, 15), found shape=(None, 5, 4)\\n\")\n",
      "\u001b[34m\u001b[1mwandb\u001b[0m: Agent Starting Run: mg26d0e3 with config:\n",
      "\u001b[34m\u001b[1mwandb\u001b[0m: \tdropout: 0.1\n",
      "\u001b[34m\u001b[1mwandb\u001b[0m: \tepochs: 5\n",
      "\u001b[34m\u001b[1mwandb\u001b[0m: \tlayers: 5\n",
      "\u001b[34m\u001b[1mwandb\u001b[0m: \tlr: 0.01\n",
      "\u001b[34m\u001b[1mwandb\u001b[0m: \tnum_features: 15\n",
      "\u001b[34m\u001b[1mwandb\u001b[0m: \toptimizer: adam\n",
      "\u001b[34m\u001b[1mwandb\u001b[0m: \trecurrent_dropout: 0.05\n",
      "\u001b[34m\u001b[1mwandb\u001b[0m: \tseq_length: 5\n",
      "\u001b[34m\u001b[1mwandb\u001b[0m: \tunits: 100\n"
     ]
    },
    {
     "data": {
      "text/html": [
       "Tracking run with wandb version 0.13.5"
      ],
      "text/plain": [
       "<IPython.core.display.HTML object>"
      ]
     },
     "metadata": {},
     "output_type": "display_data"
    },
    {
     "data": {
      "text/html": [
       "Run data is saved locally in <code>/Users/hjalmarvinje/Documents/LSTM for option pricing/wandb/run-20221110_145103-mg26d0e3</code>"
      ],
      "text/plain": [
       "<IPython.core.display.HTML object>"
      ]
     },
     "metadata": {},
     "output_type": "display_data"
    },
    {
     "data": {
      "text/html": [
       "Syncing run <strong><a href=\"https://wandb.ai/avogadro/LSTM%20option%20pricing/runs/mg26d0e3\" target=\"_blank\">swept-sweep-8</a></strong> to <a href=\"https://wandb.ai/avogadro/LSTM%20option%20pricing\" target=\"_blank\">Weights & Biases</a> (<a href=\"https://wandb.me/run\" target=\"_blank\">docs</a>)<br/>Sweep page:  <a href=\"https://wandb.ai/avogadro/LSTM%20option%20pricing/sweeps/qbomwqx6\" target=\"_blank\">https://wandb.ai/avogadro/LSTM%20option%20pricing/sweeps/qbomwqx6</a>"
      ],
      "text/plain": [
       "<IPython.core.display.HTML object>"
      ]
     },
     "metadata": {},
     "output_type": "display_data"
    },
    {
     "name": "stdout",
     "output_type": "stream",
     "text": [
      "(config.seq_length, config.num_features), (5, 15)\n",
      "Epoch 1/5\n"
     ]
    },
    {
     "data": {
      "text/html": [
       "Waiting for W&B process to finish... <strong style=\"color:red\">(failed 1).</strong> Press Control-C to abort syncing."
      ],
      "text/plain": [
       "<IPython.core.display.HTML object>"
      ]
     },
     "metadata": {},
     "output_type": "display_data"
    },
    {
     "data": {
      "application/vnd.jupyter.widget-view+json": {
       "model_id": "b597c68009424fae99a0d624b698624c",
       "version_major": 2,
       "version_minor": 0
      },
      "text/plain": [
       "VBox(children=(Label(value='0.001 MB of 0.001 MB uploaded (0.000 MB deduped)\\r'), FloatProgress(value=1.0, max…"
      ]
     },
     "metadata": {},
     "output_type": "display_data"
    },
    {
     "data": {
      "text/html": [
       "Synced <strong style=\"color:#cdcd00\">swept-sweep-8</strong>: <a href=\"https://wandb.ai/avogadro/LSTM%20option%20pricing/runs/mg26d0e3\" target=\"_blank\">https://wandb.ai/avogadro/LSTM%20option%20pricing/runs/mg26d0e3</a><br/>Synced 5 W&B file(s), 0 media file(s), 0 artifact file(s) and 0 other file(s)"
      ],
      "text/plain": [
       "<IPython.core.display.HTML object>"
      ]
     },
     "metadata": {},
     "output_type": "display_data"
    },
    {
     "data": {
      "text/html": [
       "Find logs at: <code>./wandb/run-20221110_145103-mg26d0e3/logs</code>"
      ],
      "text/plain": [
       "<IPython.core.display.HTML object>"
      ]
     },
     "metadata": {},
     "output_type": "display_data"
    },
    {
     "name": "stderr",
     "output_type": "stream",
     "text": [
      "Run mg26d0e3 errored: ValueError(\"in user code:\\n\\n    /Library/Frameworks/Python.framework/Versions/3.8/lib/python3.8/site-packages/keras/engine/training.py:853 train_function  *\\n        return step_function(self, iterator)\\n    /Library/Frameworks/Python.framework/Versions/3.8/lib/python3.8/site-packages/keras/engine/training.py:842 step_function  **\\n        outputs = model.distribute_strategy.run(run_step, args=(data,))\\n    /Library/Frameworks/Python.framework/Versions/3.8/lib/python3.8/site-packages/tensorflow/python/distribute/distribute_lib.py:1286 run\\n        return self._extended.call_for_each_replica(fn, args=args, kwargs=kwargs)\\n    /Library/Frameworks/Python.framework/Versions/3.8/lib/python3.8/site-packages/tensorflow/python/distribute/distribute_lib.py:2849 call_for_each_replica\\n        return self._call_for_each_replica(fn, args, kwargs)\\n    /Library/Frameworks/Python.framework/Versions/3.8/lib/python3.8/site-packages/tensorflow/python/distribute/distribute_lib.py:3632 _call_for_each_replica\\n        return fn(*args, **kwargs)\\n    /Library/Frameworks/Python.framework/Versions/3.8/lib/python3.8/site-packages/keras/engine/training.py:835 run_step  **\\n        outputs = model.train_step(data)\\n    /Library/Frameworks/Python.framework/Versions/3.8/lib/python3.8/site-packages/keras/engine/training.py:787 train_step\\n        y_pred = self(x, training=True)\\n    /Library/Frameworks/Python.framework/Versions/3.8/lib/python3.8/site-packages/keras/engine/base_layer.py:1020 __call__\\n        input_spec.assert_input_compatibility(self.input_spec, inputs, self.name)\\n    /Library/Frameworks/Python.framework/Versions/3.8/lib/python3.8/site-packages/keras/engine/input_spec.py:266 assert_input_compatibility\\n        raise ValueError('Input ' + str(input_index) +\\n\\n    ValueError: Input 0 is incompatible with layer sequential: expected shape=(None, None, 15), found shape=(None, 5, 4)\\n\")\n",
      "\u001b[34m\u001b[1mwandb\u001b[0m: \u001b[32m\u001b[41mERROR\u001b[0m Run mg26d0e3 errored: ValueError(\"in user code:\\n\\n    /Library/Frameworks/Python.framework/Versions/3.8/lib/python3.8/site-packages/keras/engine/training.py:853 train_function  *\\n        return step_function(self, iterator)\\n    /Library/Frameworks/Python.framework/Versions/3.8/lib/python3.8/site-packages/keras/engine/training.py:842 step_function  **\\n        outputs = model.distribute_strategy.run(run_step, args=(data,))\\n    /Library/Frameworks/Python.framework/Versions/3.8/lib/python3.8/site-packages/tensorflow/python/distribute/distribute_lib.py:1286 run\\n        return self._extended.call_for_each_replica(fn, args=args, kwargs=kwargs)\\n    /Library/Frameworks/Python.framework/Versions/3.8/lib/python3.8/site-packages/tensorflow/python/distribute/distribute_lib.py:2849 call_for_each_replica\\n        return self._call_for_each_replica(fn, args, kwargs)\\n    /Library/Frameworks/Python.framework/Versions/3.8/lib/python3.8/site-packages/tensorflow/python/distribute/distribute_lib.py:3632 _call_for_each_replica\\n        return fn(*args, **kwargs)\\n    /Library/Frameworks/Python.framework/Versions/3.8/lib/python3.8/site-packages/keras/engine/training.py:835 run_step  **\\n        outputs = model.train_step(data)\\n    /Library/Frameworks/Python.framework/Versions/3.8/lib/python3.8/site-packages/keras/engine/training.py:787 train_step\\n        y_pred = self(x, training=True)\\n    /Library/Frameworks/Python.framework/Versions/3.8/lib/python3.8/site-packages/keras/engine/base_layer.py:1020 __call__\\n        input_spec.assert_input_compatibility(self.input_spec, inputs, self.name)\\n    /Library/Frameworks/Python.framework/Versions/3.8/lib/python3.8/site-packages/keras/engine/input_spec.py:266 assert_input_compatibility\\n        raise ValueError('Input ' + str(input_index) +\\n\\n    ValueError: Input 0 is incompatible with layer sequential: expected shape=(None, None, 15), found shape=(None, 5, 4)\\n\")\n",
      "\u001b[34m\u001b[1mwandb\u001b[0m: Agent Starting Run: feoc3y2t with config:\n",
      "\u001b[34m\u001b[1mwandb\u001b[0m: \tdropout: 0.2\n",
      "\u001b[34m\u001b[1mwandb\u001b[0m: \tepochs: 1\n",
      "\u001b[34m\u001b[1mwandb\u001b[0m: \tlayers: 3\n",
      "\u001b[34m\u001b[1mwandb\u001b[0m: \tlr: 0.1\n",
      "\u001b[34m\u001b[1mwandb\u001b[0m: \tnum_features: 5\n",
      "\u001b[34m\u001b[1mwandb\u001b[0m: \toptimizer: adam\n",
      "\u001b[34m\u001b[1mwandb\u001b[0m: \trecurrent_dropout: 0.2\n",
      "\u001b[34m\u001b[1mwandb\u001b[0m: \tseq_length: 10\n",
      "\u001b[34m\u001b[1mwandb\u001b[0m: \tunits: 100\n"
     ]
    },
    {
     "data": {
      "text/html": [
       "Tracking run with wandb version 0.13.5"
      ],
      "text/plain": [
       "<IPython.core.display.HTML object>"
      ]
     },
     "metadata": {},
     "output_type": "display_data"
    },
    {
     "data": {
      "text/html": [
       "Run data is saved locally in <code>/Users/hjalmarvinje/Documents/LSTM for option pricing/wandb/run-20221110_145121-feoc3y2t</code>"
      ],
      "text/plain": [
       "<IPython.core.display.HTML object>"
      ]
     },
     "metadata": {},
     "output_type": "display_data"
    },
    {
     "data": {
      "text/html": [
       "Syncing run <strong><a href=\"https://wandb.ai/avogadro/LSTM%20option%20pricing/runs/feoc3y2t\" target=\"_blank\">hopeful-sweep-9</a></strong> to <a href=\"https://wandb.ai/avogadro/LSTM%20option%20pricing\" target=\"_blank\">Weights & Biases</a> (<a href=\"https://wandb.me/run\" target=\"_blank\">docs</a>)<br/>Sweep page:  <a href=\"https://wandb.ai/avogadro/LSTM%20option%20pricing/sweeps/qbomwqx6\" target=\"_blank\">https://wandb.ai/avogadro/LSTM%20option%20pricing/sweeps/qbomwqx6</a>"
      ],
      "text/plain": [
       "<IPython.core.display.HTML object>"
      ]
     },
     "metadata": {},
     "output_type": "display_data"
    },
    {
     "name": "stdout",
     "output_type": "stream",
     "text": [
      "(config.seq_length, config.num_features), (10, 5)\n"
     ]
    },
    {
     "data": {
      "text/html": [
       "Waiting for W&B process to finish... <strong style=\"color:red\">(failed 1).</strong> Press Control-C to abort syncing."
      ],
      "text/plain": [
       "<IPython.core.display.HTML object>"
      ]
     },
     "metadata": {},
     "output_type": "display_data"
    },
    {
     "data": {
      "application/vnd.jupyter.widget-view+json": {
       "model_id": "b61afefb9a0d420a992e09d09e35b2f9",
       "version_major": 2,
       "version_minor": 0
      },
      "text/plain": [
       "VBox(children=(Label(value='0.001 MB of 0.006 MB uploaded (0.000 MB deduped)\\r'), FloatProgress(value=0.180781…"
      ]
     },
     "metadata": {},
     "output_type": "display_data"
    },
    {
     "data": {
      "text/html": [
       "Synced <strong style=\"color:#cdcd00\">hopeful-sweep-9</strong>: <a href=\"https://wandb.ai/avogadro/LSTM%20option%20pricing/runs/feoc3y2t\" target=\"_blank\">https://wandb.ai/avogadro/LSTM%20option%20pricing/runs/feoc3y2t</a><br/>Synced 5 W&B file(s), 0 media file(s), 0 artifact file(s) and 0 other file(s)"
      ],
      "text/plain": [
       "<IPython.core.display.HTML object>"
      ]
     },
     "metadata": {},
     "output_type": "display_data"
    },
    {
     "data": {
      "text/html": [
       "Find logs at: <code>./wandb/run-20221110_145121-feoc3y2t/logs</code>"
      ],
      "text/plain": [
       "<IPython.core.display.HTML object>"
      ]
     },
     "metadata": {},
     "output_type": "display_data"
    },
    {
     "name": "stderr",
     "output_type": "stream",
     "text": [
      "Run feoc3y2t errored: ValueError(\"in user code:\\n\\n    /Library/Frameworks/Python.framework/Versions/3.8/lib/python3.8/site-packages/keras/engine/training.py:853 train_function  *\\n        return step_function(self, iterator)\\n    /Library/Frameworks/Python.framework/Versions/3.8/lib/python3.8/site-packages/keras/engine/training.py:842 step_function  **\\n        outputs = model.distribute_strategy.run(run_step, args=(data,))\\n    /Library/Frameworks/Python.framework/Versions/3.8/lib/python3.8/site-packages/tensorflow/python/distribute/distribute_lib.py:1286 run\\n        return self._extended.call_for_each_replica(fn, args=args, kwargs=kwargs)\\n    /Library/Frameworks/Python.framework/Versions/3.8/lib/python3.8/site-packages/tensorflow/python/distribute/distribute_lib.py:2849 call_for_each_replica\\n        return self._call_for_each_replica(fn, args, kwargs)\\n    /Library/Frameworks/Python.framework/Versions/3.8/lib/python3.8/site-packages/tensorflow/python/distribute/distribute_lib.py:3632 _call_for_each_replica\\n        return fn(*args, **kwargs)\\n    /Library/Frameworks/Python.framework/Versions/3.8/lib/python3.8/site-packages/keras/engine/training.py:835 run_step  **\\n        outputs = model.train_step(data)\\n    /Library/Frameworks/Python.framework/Versions/3.8/lib/python3.8/site-packages/keras/engine/training.py:787 train_step\\n        y_pred = self(x, training=True)\\n    /Library/Frameworks/Python.framework/Versions/3.8/lib/python3.8/site-packages/keras/engine/base_layer.py:1020 __call__\\n        input_spec.assert_input_compatibility(self.input_spec, inputs, self.name)\\n    /Library/Frameworks/Python.framework/Versions/3.8/lib/python3.8/site-packages/keras/engine/input_spec.py:266 assert_input_compatibility\\n        raise ValueError('Input ' + str(input_index) +\\n\\n    ValueError: Input 0 is incompatible with layer sequential: expected shape=(None, None, 5), found shape=(None, 5, 4)\\n\")\n",
      "\u001b[34m\u001b[1mwandb\u001b[0m: \u001b[32m\u001b[41mERROR\u001b[0m Run feoc3y2t errored: ValueError(\"in user code:\\n\\n    /Library/Frameworks/Python.framework/Versions/3.8/lib/python3.8/site-packages/keras/engine/training.py:853 train_function  *\\n        return step_function(self, iterator)\\n    /Library/Frameworks/Python.framework/Versions/3.8/lib/python3.8/site-packages/keras/engine/training.py:842 step_function  **\\n        outputs = model.distribute_strategy.run(run_step, args=(data,))\\n    /Library/Frameworks/Python.framework/Versions/3.8/lib/python3.8/site-packages/tensorflow/python/distribute/distribute_lib.py:1286 run\\n        return self._extended.call_for_each_replica(fn, args=args, kwargs=kwargs)\\n    /Library/Frameworks/Python.framework/Versions/3.8/lib/python3.8/site-packages/tensorflow/python/distribute/distribute_lib.py:2849 call_for_each_replica\\n        return self._call_for_each_replica(fn, args, kwargs)\\n    /Library/Frameworks/Python.framework/Versions/3.8/lib/python3.8/site-packages/tensorflow/python/distribute/distribute_lib.py:3632 _call_for_each_replica\\n        return fn(*args, **kwargs)\\n    /Library/Frameworks/Python.framework/Versions/3.8/lib/python3.8/site-packages/keras/engine/training.py:835 run_step  **\\n        outputs = model.train_step(data)\\n    /Library/Frameworks/Python.framework/Versions/3.8/lib/python3.8/site-packages/keras/engine/training.py:787 train_step\\n        y_pred = self(x, training=True)\\n    /Library/Frameworks/Python.framework/Versions/3.8/lib/python3.8/site-packages/keras/engine/base_layer.py:1020 __call__\\n        input_spec.assert_input_compatibility(self.input_spec, inputs, self.name)\\n    /Library/Frameworks/Python.framework/Versions/3.8/lib/python3.8/site-packages/keras/engine/input_spec.py:266 assert_input_compatibility\\n        raise ValueError('Input ' + str(input_index) +\\n\\n    ValueError: Input 0 is incompatible with layer sequential: expected shape=(None, None, 5), found shape=(None, 5, 4)\\n\")\n",
      "\u001b[34m\u001b[1mwandb\u001b[0m: Agent Starting Run: 136nqhtj with config:\n",
      "\u001b[34m\u001b[1mwandb\u001b[0m: \tdropout: 0.05\n",
      "\u001b[34m\u001b[1mwandb\u001b[0m: \tepochs: 5\n",
      "\u001b[34m\u001b[1mwandb\u001b[0m: \tlayers: 3\n",
      "\u001b[34m\u001b[1mwandb\u001b[0m: \tlr: 0.1\n",
      "\u001b[34m\u001b[1mwandb\u001b[0m: \tnum_features: 15\n",
      "\u001b[34m\u001b[1mwandb\u001b[0m: \toptimizer: adam\n",
      "\u001b[34m\u001b[1mwandb\u001b[0m: \trecurrent_dropout: 0.1\n",
      "\u001b[34m\u001b[1mwandb\u001b[0m: \tseq_length: 5\n",
      "\u001b[34m\u001b[1mwandb\u001b[0m: \tunits: 200\n"
     ]
    },
    {
     "data": {
      "text/html": [
       "Tracking run with wandb version 0.13.5"
      ],
      "text/plain": [
       "<IPython.core.display.HTML object>"
      ]
     },
     "metadata": {},
     "output_type": "display_data"
    },
    {
     "data": {
      "text/html": [
       "Run data is saved locally in <code>/Users/hjalmarvinje/Documents/LSTM for option pricing/wandb/run-20221110_145136-136nqhtj</code>"
      ],
      "text/plain": [
       "<IPython.core.display.HTML object>"
      ]
     },
     "metadata": {},
     "output_type": "display_data"
    },
    {
     "data": {
      "text/html": [
       "Syncing run <strong><a href=\"https://wandb.ai/avogadro/LSTM%20option%20pricing/runs/136nqhtj\" target=\"_blank\">usual-sweep-10</a></strong> to <a href=\"https://wandb.ai/avogadro/LSTM%20option%20pricing\" target=\"_blank\">Weights & Biases</a> (<a href=\"https://wandb.me/run\" target=\"_blank\">docs</a>)<br/>Sweep page:  <a href=\"https://wandb.ai/avogadro/LSTM%20option%20pricing/sweeps/qbomwqx6\" target=\"_blank\">https://wandb.ai/avogadro/LSTM%20option%20pricing/sweeps/qbomwqx6</a>"
      ],
      "text/plain": [
       "<IPython.core.display.HTML object>"
      ]
     },
     "metadata": {},
     "output_type": "display_data"
    },
    {
     "name": "stdout",
     "output_type": "stream",
     "text": [
      "(config.seq_length, config.num_features), (5, 15)\n",
      "Epoch 1/5\n"
     ]
    },
    {
     "data": {
      "text/html": [
       "Waiting for W&B process to finish... <strong style=\"color:red\">(failed 1).</strong> Press Control-C to abort syncing."
      ],
      "text/plain": [
       "<IPython.core.display.HTML object>"
      ]
     },
     "metadata": {},
     "output_type": "display_data"
    },
    {
     "data": {
      "text/html": [
       "Synced <strong style=\"color:#cdcd00\">usual-sweep-10</strong>: <a href=\"https://wandb.ai/avogadro/LSTM%20option%20pricing/runs/136nqhtj\" target=\"_blank\">https://wandb.ai/avogadro/LSTM%20option%20pricing/runs/136nqhtj</a><br/>Synced 5 W&B file(s), 0 media file(s), 0 artifact file(s) and 0 other file(s)"
      ],
      "text/plain": [
       "<IPython.core.display.HTML object>"
      ]
     },
     "metadata": {},
     "output_type": "display_data"
    },
    {
     "data": {
      "text/html": [
       "Find logs at: <code>./wandb/run-20221110_145136-136nqhtj/logs</code>"
      ],
      "text/plain": [
       "<IPython.core.display.HTML object>"
      ]
     },
     "metadata": {},
     "output_type": "display_data"
    },
    {
     "name": "stderr",
     "output_type": "stream",
     "text": [
      "Run 136nqhtj errored: ValueError(\"in user code:\\n\\n    /Library/Frameworks/Python.framework/Versions/3.8/lib/python3.8/site-packages/keras/engine/training.py:853 train_function  *\\n        return step_function(self, iterator)\\n    /Library/Frameworks/Python.framework/Versions/3.8/lib/python3.8/site-packages/keras/engine/training.py:842 step_function  **\\n        outputs = model.distribute_strategy.run(run_step, args=(data,))\\n    /Library/Frameworks/Python.framework/Versions/3.8/lib/python3.8/site-packages/tensorflow/python/distribute/distribute_lib.py:1286 run\\n        return self._extended.call_for_each_replica(fn, args=args, kwargs=kwargs)\\n    /Library/Frameworks/Python.framework/Versions/3.8/lib/python3.8/site-packages/tensorflow/python/distribute/distribute_lib.py:2849 call_for_each_replica\\n        return self._call_for_each_replica(fn, args, kwargs)\\n    /Library/Frameworks/Python.framework/Versions/3.8/lib/python3.8/site-packages/tensorflow/python/distribute/distribute_lib.py:3632 _call_for_each_replica\\n        return fn(*args, **kwargs)\\n    /Library/Frameworks/Python.framework/Versions/3.8/lib/python3.8/site-packages/keras/engine/training.py:835 run_step  **\\n        outputs = model.train_step(data)\\n    /Library/Frameworks/Python.framework/Versions/3.8/lib/python3.8/site-packages/keras/engine/training.py:787 train_step\\n        y_pred = self(x, training=True)\\n    /Library/Frameworks/Python.framework/Versions/3.8/lib/python3.8/site-packages/keras/engine/base_layer.py:1020 __call__\\n        input_spec.assert_input_compatibility(self.input_spec, inputs, self.name)\\n    /Library/Frameworks/Python.framework/Versions/3.8/lib/python3.8/site-packages/keras/engine/input_spec.py:266 assert_input_compatibility\\n        raise ValueError('Input ' + str(input_index) +\\n\\n    ValueError: Input 0 is incompatible with layer sequential: expected shape=(None, None, 15), found shape=(None, 5, 4)\\n\")\n",
      "\u001b[34m\u001b[1mwandb\u001b[0m: \u001b[32m\u001b[41mERROR\u001b[0m Run 136nqhtj errored: ValueError(\"in user code:\\n\\n    /Library/Frameworks/Python.framework/Versions/3.8/lib/python3.8/site-packages/keras/engine/training.py:853 train_function  *\\n        return step_function(self, iterator)\\n    /Library/Frameworks/Python.framework/Versions/3.8/lib/python3.8/site-packages/keras/engine/training.py:842 step_function  **\\n        outputs = model.distribute_strategy.run(run_step, args=(data,))\\n    /Library/Frameworks/Python.framework/Versions/3.8/lib/python3.8/site-packages/tensorflow/python/distribute/distribute_lib.py:1286 run\\n        return self._extended.call_for_each_replica(fn, args=args, kwargs=kwargs)\\n    /Library/Frameworks/Python.framework/Versions/3.8/lib/python3.8/site-packages/tensorflow/python/distribute/distribute_lib.py:2849 call_for_each_replica\\n        return self._call_for_each_replica(fn, args, kwargs)\\n    /Library/Frameworks/Python.framework/Versions/3.8/lib/python3.8/site-packages/tensorflow/python/distribute/distribute_lib.py:3632 _call_for_each_replica\\n        return fn(*args, **kwargs)\\n    /Library/Frameworks/Python.framework/Versions/3.8/lib/python3.8/site-packages/keras/engine/training.py:835 run_step  **\\n        outputs = model.train_step(data)\\n    /Library/Frameworks/Python.framework/Versions/3.8/lib/python3.8/site-packages/keras/engine/training.py:787 train_step\\n        y_pred = self(x, training=True)\\n    /Library/Frameworks/Python.framework/Versions/3.8/lib/python3.8/site-packages/keras/engine/base_layer.py:1020 __call__\\n        input_spec.assert_input_compatibility(self.input_spec, inputs, self.name)\\n    /Library/Frameworks/Python.framework/Versions/3.8/lib/python3.8/site-packages/keras/engine/input_spec.py:266 assert_input_compatibility\\n        raise ValueError('Input ' + str(input_index) +\\n\\n    ValueError: Input 0 is incompatible with layer sequential: expected shape=(None, None, 15), found shape=(None, 5, 4)\\n\")\n"
     ]
    }
   ],
   "source": [
    "wandb.agent(sweep_id=sweep_id, function=trainer, project=\"LSTM option pricing\", count = 5)"
   ]
  },
  {
   "cell_type": "code",
   "execution_count": null,
   "metadata": {},
   "outputs": [
    {
     "name": "stdout",
     "output_type": "stream",
     "text": [
      "<class 'pandas.core.frame.DataFrame'>\n",
      "Int64Index: 121672 entries, 1395271 to 1533711\n",
      "Data columns (total 34 columns):\n",
      " #   Column           Non-Null Count   Dtype         \n",
      "---  ------           --------------   -----         \n",
      " 0   Quote_date       121672 non-null  datetime64[ns]\n",
      " 1   Expire_date      121672 non-null  datetime64[ns]\n",
      " 2   Underlying_last  121672 non-null  float64       \n",
      " 3   Strike           121672 non-null  float64       \n",
      " 4   Moneyness        121672 non-null  float64       \n",
      " 5   Ask              121672 non-null  float64       \n",
      " 6   Bid              121672 non-null  float64       \n",
      " 7   Ttl              121672 non-null  int64         \n",
      " 8   Volatility       121672 non-null  float64       \n",
      " 9   R                121672 non-null  float64       \n",
      " 10  Moneyness-4      121672 non-null  float64       \n",
      " 11  Ttl-4            121672 non-null  float64       \n",
      " 12  R-4              121672 non-null  float64       \n",
      " 13  Volatility-4     121672 non-null  float64       \n",
      " 14  Moneyness-3      121672 non-null  float64       \n",
      " 15  Ttl-3            121672 non-null  float64       \n",
      " 16  R-3              121672 non-null  float64       \n",
      " 17  Volatility-3     121672 non-null  float64       \n",
      " 18  Moneyness-2      121672 non-null  float64       \n",
      " 19  Ttl-2            121672 non-null  float64       \n",
      " 20  R-2              121672 non-null  float64       \n",
      " 21  Volatility-2     121672 non-null  float64       \n",
      " 22  Moneyness-1      121672 non-null  float64       \n",
      " 23  Ttl-1            121672 non-null  float64       \n",
      " 24  R-1              121672 non-null  float64       \n",
      " 25  Volatility-1     121672 non-null  float64       \n",
      " 26  Moneyness-0      121672 non-null  float64       \n",
      " 27  Ttl-0            121672 non-null  int64         \n",
      " 28  R-0              121672 non-null  float64       \n",
      " 29  Volatility-0     121672 non-null  float64       \n",
      " 30  Bid_last         121672 non-null  float64       \n",
      " 31  Ask_last         121672 non-null  float64       \n",
      " 32  Prediction_bid   121672 non-null  float32       \n",
      " 33  Prediction_ask   121672 non-null  float32       \n",
      "dtypes: datetime64[ns](2), float32(2), float64(28), int64(2)\n",
      "memory usage: 31.6 MB\n",
      "        Quote_date Expire_date  Underlying_last  Strike  Moneyness     Ask  \\\n",
      "1395271 2022-09-08  2022-09-09          4005.86  1000.0   4.005860  3004.8   \n",
      "1395272 2022-09-08  2022-09-09          4005.86  1200.0   3.338217  2804.8   \n",
      "1395273 2022-09-08  2022-09-09          4005.86  1400.0   2.861329  2604.6   \n",
      "1395274 2022-09-08  2022-09-09          4005.86  1600.0   2.503662  2405.4   \n",
      "1395275 2022-09-08  2022-09-09          4005.86  1800.0   2.225478  2205.4   \n",
      "\n",
      "            Bid  Ttl  Volatility     R  ...   R-1  Volatility-1  Moneyness-0  \\\n",
      "1395271  2997.2    1    0.247916  3.06  ...  3.07      0.247855     4.005860   \n",
      "1395272  2797.3    1    0.247916  3.06  ...  3.07      0.247855     3.338217   \n",
      "1395273  2597.1    1    0.247916  3.06  ...  3.07      0.247855     2.861329   \n",
      "1395274  2397.1    1    0.247916  3.06  ...  3.07      0.247855     2.503662   \n",
      "1395275  2197.6    1    0.247916  3.06  ...  3.07      0.247855     2.225478   \n",
      "\n",
      "         Ttl-0   R-0  Volatility-0  Bid_last  Ask_last  Prediction_bid  \\\n",
      "1395271      1  3.06      0.247916    2997.2    3004.8     2958.293945   \n",
      "1395272      1  3.06      0.247916    2797.3    2804.8     2743.209229   \n",
      "1395273      1  3.06      0.247916    2597.1    2604.6     2525.886963   \n",
      "1395274      1  3.06      0.247916    2397.1    2405.4     2305.510254   \n",
      "1395275      1  3.06      0.247916    2197.6    2205.4     2084.317627   \n",
      "\n",
      "         Prediction_ask  \n",
      "1395271     2938.088623  \n",
      "1395272     2720.194580  \n",
      "1395273     2500.249023  \n",
      "1395274     2278.655273  \n",
      "1395275     2057.875977  \n",
      "\n",
      "[5 rows x 34 columns]\n"
     ]
    }
   ],
   "source": [
    "from sklearn.preprocessing import MinMaxScaler\n",
    "def prediction(df_test, test_x, model, train_y_org):\n",
    "    predictions = np.array(model(test_x))\n",
    "    scaler = MinMaxScaler().fit(train_y_org)\n",
    "    predictions = scaler.inverse_transform(predictions)\n",
    "    bid, ask = predictions[:, :1], predictions[:, 1:]\n",
    "    df_test[\"Prediction_bid\"] = bid\n",
    "    df_test[\"Prediction_ask\"] = ask\n",
    "    return df_test\n",
    "\n",
    "df_test = prediction(df_test_orginal, test_x_scaled, model, train_y_org)\n",
    "\n",
    "df_test.info()\n",
    "print(df_test.head())"
   ]
  },
  {
   "cell_type": "code",
   "execution_count": null,
   "metadata": {},
   "outputs": [
    {
     "name": "stdout",
     "output_type": "stream",
     "text": [
      "            Bid     Ask  Prediction_bid  Prediction_ask\n",
      "1395271  2997.2  3004.8     2958.293945     2938.088623\n",
      "1395272  2797.3  2804.8     2743.209229     2720.194580\n",
      "1395273  2597.1  2604.6     2525.886963     2500.249023\n",
      "1395274  2397.1  2405.4     2305.510254     2278.655273\n",
      "1395275  2197.6  2205.4     2084.317627     2057.875977\n",
      "1395276  1998.1  2004.9     1864.251953     1839.673096\n",
      "1395277  1797.7  1805.5     1644.697632     1623.189331\n",
      "1395278  1597.5  1605.0     1422.385498     1404.850708\n",
      "1395279  1397.3  1405.0     1193.704590     1180.607300\n",
      "1395280  1297.3  1305.0     1076.631226     1065.778442\n",
      "1395281  1197.3  1204.8      958.215576      949.564575\n",
      "1395282  1150.9  1155.4      898.755554      891.181519\n",
      "1395283  1100.9  1105.4      839.310547      832.795837\n",
      "1395284  1051.0  1055.4      780.044556      774.571716\n",
      "1395285  1000.4  1005.4      721.139832      716.691528\n",
      "1395286   950.4   955.4      662.790710      659.352112\n",
      "1395287   900.4   906.1      605.201416      602.758606\n",
      "1395288   850.4   856.1      548.577576      547.119385\n",
      "1395289   801.0   806.1      493.122681      492.639526\n",
      "1395291   751.0   755.5      439.030334      439.514282\n",
      "<class 'pandas.core.frame.DataFrame'>\n",
      "Int64Index: 121672 entries, 1395271 to 1533711\n",
      "Data columns (total 34 columns):\n",
      " #   Column           Non-Null Count   Dtype         \n",
      "---  ------           --------------   -----         \n",
      " 0   Quote_date       121672 non-null  datetime64[ns]\n",
      " 1   Expire_date      121672 non-null  datetime64[ns]\n",
      " 2   Underlying_last  121672 non-null  float64       \n",
      " 3   Strike           121672 non-null  float64       \n",
      " 4   Moneyness        121672 non-null  float64       \n",
      " 5   Ask              121672 non-null  float64       \n",
      " 6   Bid              121672 non-null  float64       \n",
      " 7   Ttl              121672 non-null  int64         \n",
      " 8   Volatility       121672 non-null  float64       \n",
      " 9   R                121672 non-null  float64       \n",
      " 10  Moneyness-4      121672 non-null  float64       \n",
      " 11  Ttl-4            121672 non-null  float64       \n",
      " 12  R-4              121672 non-null  float64       \n",
      " 13  Volatility-4     121672 non-null  float64       \n",
      " 14  Moneyness-3      121672 non-null  float64       \n",
      " 15  Ttl-3            121672 non-null  float64       \n",
      " 16  R-3              121672 non-null  float64       \n",
      " 17  Volatility-3     121672 non-null  float64       \n",
      " 18  Moneyness-2      121672 non-null  float64       \n",
      " 19  Ttl-2            121672 non-null  float64       \n",
      " 20  R-2              121672 non-null  float64       \n",
      " 21  Volatility-2     121672 non-null  float64       \n",
      " 22  Moneyness-1      121672 non-null  float64       \n",
      " 23  Ttl-1            121672 non-null  float64       \n",
      " 24  R-1              121672 non-null  float64       \n",
      " 25  Volatility-1     121672 non-null  float64       \n",
      " 26  Moneyness-0      121672 non-null  float64       \n",
      " 27  Ttl-0            121672 non-null  int64         \n",
      " 28  R-0              121672 non-null  float64       \n",
      " 29  Volatility-0     121672 non-null  float64       \n",
      " 30  Bid_last         121672 non-null  float64       \n",
      " 31  Ask_last         121672 non-null  float64       \n",
      " 32  Prediction_bid   121672 non-null  float32       \n",
      " 33  Prediction_ask   121672 non-null  float32       \n",
      "dtypes: datetime64[ns](2), float32(2), float64(28), int64(2)\n",
      "memory usage: 31.6 MB\n"
     ]
    }
   ],
   "source": [
    "print(df_test.head(20)[[\"Bid\", \"Ask\", \"Prediction_bid\", \"Prediction_ask\"]])\n",
    "df_test.info()"
   ]
  }
 ],
 "metadata": {
  "kernelspec": {
   "display_name": "Python 3.8.1 64-bit",
   "language": "python",
   "name": "python3"
  },
  "language_info": {
   "codemirror_mode": {
    "name": "ipython",
    "version": 3
   },
   "file_extension": ".py",
   "mimetype": "text/x-python",
   "name": "python",
   "nbconvert_exporter": "python",
   "pygments_lexer": "ipython3",
   "version": "3.8.1"
  },
  "orig_nbformat": 4,
  "vscode": {
   "interpreter": {
    "hash": "aee8b7b246df8f9039afb4144a1f6fd8d2ca17a180786b69acc140d282b71a49"
   }
  }
 },
 "nbformat": 4,
 "nbformat_minor": 2
}
