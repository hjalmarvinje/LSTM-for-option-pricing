{
 "cells": [
  {
   "cell_type": "code",
   "execution_count": 1,
   "metadata": {},
   "outputs": [],
   "source": [
    "from preprocessing import get_model_dataset, create_train_test, min_max_scale, df_to_xy, read_file, lag_features\n",
    "from lstm import create_model\n",
    "import numpy as np\n",
    "import matplotlib.pyplot as plt\n",
    "from sklearn.preprocessing import MinMaxScaler, StandardScaler\n",
    "from datetime import date\n",
    "from pathlib import Path"
   ]
  },
  {
   "cell_type": "code",
   "execution_count": 2,
   "metadata": {},
   "outputs": [
    {
     "name": "stdout",
     "output_type": "stream",
     "text": [
      "         Unnamed: 0  Quote_date Expire_date     Price  Underlying_last  \\\n",
      "0           1354913  2019-01-02  2019-01-04  1707.050          2509.98   \n",
      "1           1354914  2019-01-02  2019-01-04  1607.495          2509.98   \n",
      "2           1354915  2019-01-02  2019-01-04  1507.500          2509.98   \n",
      "3           1354916  2019-01-02  2019-01-04  1458.295          2509.98   \n",
      "4           1354917  2019-01-02  2019-01-04  1408.300          2509.98   \n",
      "...             ...         ...         ...       ...              ...   \n",
      "5123793     6521988  2021-12-31  2024-12-20   150.000          4766.39   \n",
      "5123794     6521989  2021-12-31  2024-12-20   150.000          4766.39   \n",
      "5123795     6521990  2021-12-31  2024-12-20   150.900          4766.39   \n",
      "5123796     6521991  2021-12-31  2024-12-20   150.000          4766.39   \n",
      "5123797     6521992  2021-12-31  2024-12-20   150.000          4766.39   \n",
      "\n",
      "         Strike   Ttl  Volatility     R  \n",
      "0         800.0     2    0.202726  2.40  \n",
      "1         900.0     2    0.202726  2.40  \n",
      "2        1000.0     2    0.202726  2.40  \n",
      "3        1050.0     2    0.202726  2.40  \n",
      "4        1100.0     2    0.202726  2.40  \n",
      "...         ...   ...         ...   ...  \n",
      "5123793  8400.0  1085    0.136456  0.97  \n",
      "5123794  8600.0  1085    0.136456  0.97  \n",
      "5123795  8800.0  1085    0.136456  0.97  \n",
      "5123796  9000.0  1085    0.136456  0.97  \n",
      "5123797  9200.0  1085    0.136456  0.97  \n",
      "\n",
      "[5123798 rows x 9 columns]\n",
      "<class 'pandas.core.frame.DataFrame'>\n",
      "RangeIndex: 5123798 entries, 0 to 5123797\n",
      "Data columns (total 9 columns):\n",
      " #   Column           Dtype  \n",
      "---  ------           -----  \n",
      " 0   Unnamed: 0       int64  \n",
      " 1   Quote_date       object \n",
      " 2   Expire_date      object \n",
      " 3   Price            float64\n",
      " 4   Underlying_last  float64\n",
      " 5   Strike           float64\n",
      " 6   Ttl              int64  \n",
      " 7   Volatility       float64\n",
      " 8   R                float64\n",
      "dtypes: float64(5), int64(2), object(2)\n",
      "memory usage: 351.8+ MB\n",
      "         Unnamed: 0  Quote_date Expire_date     Price  Underlying_last  \\\n",
      "0           1354913  2019-01-02  2019-01-04  1707.050          2509.98   \n",
      "1           1354914  2019-01-02  2019-01-04  1607.495          2509.98   \n",
      "2           1354915  2019-01-02  2019-01-04  1507.500          2509.98   \n",
      "3           1354916  2019-01-02  2019-01-04  1458.295          2509.98   \n",
      "4           1354917  2019-01-02  2019-01-04  1408.300          2509.98   \n",
      "...             ...         ...         ...       ...              ...   \n",
      "5123793     6521988  2021-12-31  2024-12-20   150.000          4766.39   \n",
      "5123794     6521989  2021-12-31  2024-12-20   150.000          4766.39   \n",
      "5123795     6521990  2021-12-31  2024-12-20   150.900          4766.39   \n",
      "5123796     6521991  2021-12-31  2024-12-20   150.000          4766.39   \n",
      "5123797     6521992  2021-12-31  2024-12-20   150.000          4766.39   \n",
      "\n",
      "         Strike   Ttl  Volatility     R  \n",
      "0         800.0     2    0.202726  2.40  \n",
      "1         900.0     2    0.202726  2.40  \n",
      "2        1000.0     2    0.202726  2.40  \n",
      "3        1050.0     2    0.202726  2.40  \n",
      "4        1100.0     2    0.202726  2.40  \n",
      "...         ...   ...         ...   ...  \n",
      "5123793  8400.0  1085    0.136456  0.97  \n",
      "5123794  8600.0  1085    0.136456  0.97  \n",
      "5123795  8800.0  1085    0.136456  0.97  \n",
      "5123796  9000.0  1085    0.136456  0.97  \n",
      "5123797  9200.0  1085    0.136456  0.97  \n",
      "\n",
      "[5123798 rows x 9 columns]\n",
      "1095\n"
     ]
    }
   ],
   "source": [
    "first_year = 2019\n",
    "last_year = 2021\n",
    "file = f\"./data/processed_data/{first_year}-{last_year}_underlying-strike_only-price.csv\"\n",
    "\n",
    "df_read = read_file(file)\n",
    "print(df_read)\n",
    "df_read.info()\n",
    "print(df_read)\n",
    "print(df_read[\"Ttl\"].max())"
   ]
  },
  {
   "cell_type": "code",
   "execution_count": 3,
   "metadata": {},
   "outputs": [
    {
     "name": "stdout",
     "output_type": "stream",
     "text": [
      "Train_x shape: (2785226, 5, 5), train_y shape: (2785226, 1)\n",
      "Test_x shape: (1845482, 5, 5), test_y shape: (1845482, 1)\n"
     ]
    }
   ],
   "source": [
    "features = [\"Underlying_last\", \"Strike\", \"Ttl\", \"Volatility\", \"R\"]\n",
    "seq_length = 5\n",
    "num_features = len(features)\n",
    "num_outputs = 1\n",
    "\n",
    "df_read_lags = lag_features(df_read, features, seq_length)\n",
    "\n",
    "df_train_orginal, df_test_orginal = create_train_test(df_read_lags, \"2021-01-01\")\n",
    "\n",
    "train_x_org, train_y_org, = df_to_xy(df_train_orginal, num_features, seq_length, num_outputs)\n",
    "test_x_org, test_y_org = df_to_xy(df_test_orginal, num_features, seq_length, num_outputs)\n",
    "\n",
    "train_x_scaled, test_x_scaled = min_max_scale(train_x_org, test_x_org)\n",
    "\n",
    "train_x_scaled = np.reshape(train_x_scaled, (len(train_x_scaled), seq_length, num_features))\n",
    "test_x_scaled = np.reshape(test_x_scaled, (len(test_x_scaled), seq_length, num_features))\n",
    "\n",
    "print(f\"Train_x shape: {train_x_scaled.shape}, train_y shape: {train_y_org.shape}\")\n",
    "print(f\"Test_x shape: {test_x_scaled.shape}, test_y shape: {test_y_org.shape}\")"
   ]
  },
  {
   "cell_type": "code",
   "execution_count": 4,
   "metadata": {},
   "outputs": [
    {
     "name": "stdout",
     "output_type": "stream",
     "text": [
      "Model: \"sequential\"\n",
      "_________________________________________________________________\n",
      " Layer (type)                Output Shape              Param #   \n",
      "=================================================================\n",
      " lstm (LSTM)                 (None, 5, 32)             4864      \n",
      "                                                                 \n",
      " batch_normalization (BatchN  (None, 5, 32)            128       \n",
      " ormalization)                                                   \n",
      "                                                                 \n",
      " lstm_1 (LSTM)               (None, 5, 32)             8320      \n",
      "                                                                 \n",
      " batch_normalization_1 (Batc  (None, 5, 32)            128       \n",
      " hNormalization)                                                 \n",
      "                                                                 \n",
      " lstm_2 (LSTM)               (None, 5, 32)             8320      \n",
      "                                                                 \n",
      " batch_normalization_2 (Batc  (None, 5, 32)            128       \n",
      " hNormalization)                                                 \n",
      "                                                                 \n",
      " lstm_3 (LSTM)               (None, 32)                8320      \n",
      "                                                                 \n",
      " batch_normalization_3 (Batc  (None, 32)               128       \n",
      " hNormalization)                                                 \n",
      "                                                                 \n",
      " dense (Dense)               (None, 2)                 66        \n",
      "                                                                 \n",
      "=================================================================\n",
      "Total params: 30,402\n",
      "Trainable params: 30,146\n",
      "Non-trainable params: 256\n",
      "_________________________________________________________________\n",
      "Epoch 1/100\n",
      "1904/1904 [==============================] - 106s 53ms/step - loss: 214253.8281 - mae: 292.5652 - val_loss: 41770.2852 - val_mae: 147.3515\n",
      "Epoch 2/100\n",
      "1904/1904 [==============================] - 101s 53ms/step - loss: 1863.2972 - mae: 22.9672 - val_loss: 2087.3308 - val_mae: 24.2559\n",
      "Epoch 3/100\n",
      "1904/1904 [==============================] - 102s 53ms/step - loss: 547.1109 - mae: 15.3342 - val_loss: 1111.5952 - val_mae: 20.9560\n",
      "Epoch 4/100\n",
      "1904/1904 [==============================] - 100s 53ms/step - loss: 541.3456 - mae: 15.0951 - val_loss: 1133.3741 - val_mae: 21.1927\n",
      "Epoch 5/100\n",
      "1904/1904 [==============================] - 103s 54ms/step - loss: 520.1317 - mae: 14.8479 - val_loss: 1293.0081 - val_mae: 20.2042\n",
      "Epoch 6/100\n",
      "1904/1904 [==============================] - 131s 69ms/step - loss: 546.1768 - mae: 15.0557 - val_loss: 1021.6198 - val_mae: 18.4210\n",
      "Epoch 7/100\n",
      "1904/1904 [==============================] - 96s 50ms/step - loss: 531.5860 - mae: 15.0098 - val_loss: 4435.8086 - val_mae: 52.1934\n",
      "Epoch 8/100\n",
      "1904/1904 [==============================] - 96s 51ms/step - loss: 520.1006 - mae: 14.8470 - val_loss: 1845.6428 - val_mae: 22.9064\n",
      "Epoch 9/100\n",
      "1904/1904 [==============================] - 97s 51ms/step - loss: 500.3875 - mae: 14.7622 - val_loss: 2622.1753 - val_mae: 38.6263\n",
      "Epoch 10/100\n",
      "1904/1904 [==============================] - 96s 51ms/step - loss: 486.5832 - mae: 14.6636 - val_loss: 1174.3781 - val_mae: 25.4124\n",
      "Epoch 11/100\n",
      "1904/1904 [==============================] - 99s 52ms/step - loss: 469.6250 - mae: 14.5558 - val_loss: 2609.8354 - val_mae: 35.7437\n"
     ]
    },
    {
     "data": {
      "text/plain": [
       "'path = f\"./runs/model_w_validation/{first_year}-{last_year}-{date.today()}\"\\nmodel.save(path)'"
      ]
     },
     "execution_count": 4,
     "metadata": {},
     "output_type": "execute_result"
    }
   ],
   "source": [
    "from keras.callbacks import EarlyStopping\n",
    "config = {\n",
    "    \"units\": 32,\n",
    "    \"learning_rate\": 0.0015,\n",
    "    \"layers\": 4,\n",
    "    \"seq_length\": seq_length,\n",
    "    \"num_features\": num_features,\n",
    "    \"bn_momentum\" : 0.4,\n",
    "    \"clip_norm\": 0.7\n",
    "}\n",
    "\n",
    "def trainer(train_x, train_y, model):\n",
    "    epochs = 100\n",
    "    minibatch_size = 1024\n",
    "\n",
    "    early_stopping = EarlyStopping(\n",
    "        monitor='val_loss',\n",
    "        mode='min',\n",
    "        min_delta = 10,\n",
    "        patience = 5,\n",
    "    )\n",
    "\n",
    "    model.fit(\n",
    "        train_x,\n",
    "        train_y,\n",
    "        batch_size = minibatch_size,\n",
    "        validation_split = 0.3,\n",
    "        epochs = epochs,\n",
    "        callbacks = [early_stopping]\n",
    "    )\n",
    "\n",
    "model = create_model(config)\n",
    "model.summary()\n",
    "\n",
    "trainer(train_x_scaled, train_y_org, model)"
   ]
  },
  {
   "cell_type": "code",
   "execution_count": 4,
   "metadata": {},
   "outputs": [],
   "source": [
    "def shapley_predict(x_2D):\n",
    "    return np.array(model(np.reshape(x_2D, (len(x_2D), seq_length, num_features))))\n",
    "\n",
    "def create_shapley_values():\n",
    "    w"
   ]
  }
 ],
 "metadata": {
  "kernelspec": {
   "display_name": "Python 3.9.4 64-bit",
   "language": "python",
   "name": "python3"
  },
  "language_info": {
   "codemirror_mode": {
    "name": "ipython",
    "version": 3
   },
   "file_extension": ".py",
   "mimetype": "text/x-python",
   "name": "python",
   "nbconvert_exporter": "python",
   "pygments_lexer": "ipython3",
   "version": "3.9.4"
  },
  "orig_nbformat": 4,
  "vscode": {
   "interpreter": {
    "hash": "6d22c5043c0ee61c8547bd88adb0f85d3d6a0a630c1da4282026f99271dac814"
   }
  }
 },
 "nbformat": 4,
 "nbformat_minor": 2
}
