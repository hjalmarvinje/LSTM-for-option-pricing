{
 "cells": [
  {
   "cell_type": "code",
   "execution_count": 62,
   "metadata": {},
   "outputs": [],
   "source": [
    "from math import log, sqrt, pi, exp\n",
    "from scipy.stats import norm\n",
    "import pandas as pd\n",
    "import tensorflow as tf"
   ]
  },
  {
   "cell_type": "code",
   "execution_count": 63,
   "metadata": {},
   "outputs": [],
   "source": [
    "def read_file(file):\n",
    "    \"\"\"Read a single file and return a dataframe\"\"\"\n",
    "    return pd.read_csv(file, skipinitialspace=True)"
   ]
  },
  {
   "cell_type": "code",
   "execution_count": 64,
   "metadata": {},
   "outputs": [],
   "source": [
    "first_year = 2019\n",
    "last_year = 2021\n",
    "file = f\"./data/processed_data/{first_year}-{last_year}_underlying-strike_only-price.csv\"\n",
    "df_options = read_file(file)"
   ]
  },
  {
   "cell_type": "code",
   "execution_count": 65,
   "metadata": {},
   "outputs": [],
   "source": [
    "df_options['Quote_date'] = pd.to_datetime(df_options.Quote_date, format='%Y-%m-%d')\n",
    "df_options = df_options[df_options.Quote_date.dt.year == 2021]\n",
    "\n",
    "# To be used for testing on for faster computing\n",
    "#df_options_short = df_options[df_options[\"Quote_date\"] == \"2021-01-06\"]"
   ]
  },
  {
   "cell_type": "code",
   "execution_count": 66,
   "metadata": {},
   "outputs": [
    {
     "name": "stdout",
     "output_type": "stream",
     "text": [
      "   Unnamed: 0  Quote_date Expire_date     Price  Underlying_last  Strike  Ttl  \\\n",
      "0     1354913  2019-01-02  2019-01-04  1707.050          2509.98   800.0    2   \n",
      "1     1354914  2019-01-02  2019-01-04  1607.495          2509.98   900.0    2   \n",
      "2     1354915  2019-01-02  2019-01-04  1507.500          2509.98  1000.0    2   \n",
      "3     1354916  2019-01-02  2019-01-04  1458.295          2509.98  1050.0    2   \n",
      "4     1354917  2019-01-02  2019-01-04  1408.300          2509.98  1100.0    2   \n",
      "\n",
      "   Volatility    R  \n",
      "0    0.202726  2.4  \n",
      "1    0.202726  2.4  \n",
      "2    0.202726  2.4  \n",
      "3    0.202726  2.4  \n",
      "4    0.202726  2.4  \n"
     ]
    }
   ],
   "source": [
    "print(df_options.head())"
   ]
  },
  {
   "cell_type": "code",
   "execution_count": 54,
   "metadata": {},
   "outputs": [],
   "source": [
    "#Sequenced verion\n",
    "def d1(S,K,T,r,sigma):\n",
    "    x1 = S.apply(lambda x : log(x)) - K.apply(lambda x : log(x))\n",
    "    x2 = (r + ((sigma.apply(lambda x : x**2)) / 2)) * T\n",
    "    x3 = sigma * T.apply(lambda x: sqrt(x))\n",
    "    return  (x1 + x2) / x3\n",
    "\n",
    "def d2(S,K,T,r,sigma):\n",
    "    return d1(S,K,T,r,sigma) - sigma * T.apply(lambda x : sqrt(x))  \n",
    "\n",
    "def bs_call(S,K,T,r,sigma):\n",
    "    T = T / 365\n",
    "    return S * d1(S,K,T,r,sigma).apply(lambda x : norm.cdf(x)) - K * (-r*T).apply(lambda x : exp(x)) * d2(S,K,T,r,sigma).apply(lambda x : norm.cdf(x))"
   ]
  },
  {
   "cell_type": "code",
   "execution_count": 89,
   "metadata": {},
   "outputs": [],
   "source": [
    "import numpy as np\n",
    "from scipy.stats import norm\n",
    "\n",
    "N = norm.cdf\n",
    "\n",
    "def BS_CALL(S, K, T, r, sigma):\n",
    "    d1 = ((S/K).apply(lambda x : log(x)) + (r + sigma.apply(lambda x : x**2)/2)*T) / (sigma*T.apply(lambda x: sqrt(x)))\n",
    "    d2 = d1 - sigma * T.apply(lambda x : sqrt(x)) \n",
    "    return S * d1.apply(lambda x : N(x)) - K * (-r*T).apply(lambda x : exp(x)) * d2.apply(lambda x : N(x))"
   ]
  },
  {
   "cell_type": "code",
   "execution_count": 29,
   "metadata": {},
   "outputs": [],
   "source": [
    "df_options[\"Prediction\"] = bs_call(df_options[\"Underlying_last\"], df_options[\"Strike\"], df_options[\"Ttl\"], df_options[\"R\"], df_options[\"Volatility\"])\n"
   ]
  },
  {
   "cell_type": "code",
   "execution_count": 92,
   "metadata": {},
   "outputs": [
    {
     "name": "stderr",
     "output_type": "stream",
     "text": [
      "<ipython-input-92-69322682af9b>:1: SettingWithCopyWarning: \n",
      "A value is trying to be set on a copy of a slice from a DataFrame.\n",
      "Try using .loc[row_indexer,col_indexer] = value instead\n",
      "\n",
      "See the caveats in the documentation: https://pandas.pydata.org/pandas-docs/stable/user_guide/indexing.html#returning-a-view-versus-a-copy\n",
      "  df_options_short[\"Prediction\"] = bs_call(df_options_short[\"Underlying_last\"], df_options_short[\"Strike\"], df_options_short[\"Ttl\"], df_options_short[\"R\"], df_options_short[\"Volatility\"])\n"
     ]
    }
   ],
   "source": [
    "df_options_short[\"Prediction\"] = bs_call(df_options_short[\"Underlying_last\"], df_options_short[\"Strike\"], df_options_short[\"Ttl\"], df_options_short[\"R\"], df_options_short[\"Volatility\"])\n"
   ]
  },
  {
   "cell_type": "code",
   "execution_count": 93,
   "metadata": {},
   "outputs": [
    {
     "name": "stdout",
     "output_type": "stream",
     "text": [
      "         Unnamed: 0  Quote_date Expire_date     Price  Underlying_last  \\\n",
      "3112154     4492076  2021-01-06  2021-01-08  2848.545          3748.21   \n",
      "3112155     4492077  2021-01-06  2021-01-08  2750.200          3748.21   \n",
      "3112156     4492078  2021-01-06  2021-01-08  2649.950          3748.21   \n",
      "3112157     4492079  2021-01-06  2021-01-08  2549.455          3748.21   \n",
      "3112158     4492080  2021-01-06  2021-01-08  2450.950          3748.21   \n",
      "\n",
      "         Strike  Ttl  Volatility     R   Prediction  \n",
      "3112154   900.0    2    0.185095  0.09  2848.653726  \n",
      "3112155  1000.0    2    0.185095  0.09  2748.703029  \n",
      "3112156  1100.0    2    0.185095  0.09  2648.752332  \n",
      "3112157  1200.0    2    0.185095  0.09  2548.801635  \n",
      "3112158  1300.0    2    0.185095  0.09  2448.850938  \n"
     ]
    }
   ],
   "source": [
    "print(df_options.head())"
   ]
  },
  {
   "cell_type": "code",
   "execution_count": 30,
   "metadata": {},
   "outputs": [],
   "source": [
    "mse_bs = tf.keras.metrics.mean_squared_error(\n",
    "    df_options[\"Price\"], df_options[\"Prediction\"]\n",
    ")"
   ]
  },
  {
   "cell_type": "code",
   "execution_count": 31,
   "metadata": {},
   "outputs": [
    {
     "name": "stdout",
     "output_type": "stream",
     "text": [
      "MSE:  tf.Tensor(69977.9777258106, shape=(), dtype=float64)\n",
      "RMSD:  264.53350964634063\n"
     ]
    }
   ],
   "source": [
    "print(\"MSE: \", mse_bs)\n",
    "print(\"RMSE: \", sqrt(mse_bs))"
   ]
  }
 ],
 "metadata": {
  "kernelspec": {
   "display_name": "Python 3.8.1 64-bit",
   "language": "python",
   "name": "python3"
  },
  "language_info": {
   "codemirror_mode": {
    "name": "ipython",
    "version": 3
   },
   "file_extension": ".py",
   "mimetype": "text/x-python",
   "name": "python",
   "nbconvert_exporter": "python",
   "pygments_lexer": "ipython3",
   "version": "3.8.1"
  },
  "orig_nbformat": 4,
  "vscode": {
   "interpreter": {
    "hash": "0adcc2737ebf6a4a119f135174df96668767fca1ef1112612db5ecadf2b6d608"
   }
  }
 },
 "nbformat": 4,
 "nbformat_minor": 2
}
