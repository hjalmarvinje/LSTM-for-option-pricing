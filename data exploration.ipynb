{
 "cells": [
  {
   "cell_type": "code",
   "execution_count": 1,
   "metadata": {},
   "outputs": [],
   "source": [
    "def read_files(path, filenames):\n",
    "    \"\"\"Reads all files and returns a dataframe\"\"\"\n",
    "    return pd.concat((pd.read_csv(path + f, skipinitialspace=True) for f in filenames))\n",
    "\n",
    "def read_file(file):\n",
    "    \"\"\"Read a single file and return a dataframe\"\"\"\n",
    "    return pd.read_csv(file, skipinitialspace=True)"
   ]
  },
  {
   "cell_type": "code",
   "execution_count": 4,
   "metadata": {},
   "outputs": [],
   "source": [
    "import pandas as pd"
   ]
  },
  {
   "cell_type": "code",
   "execution_count": 2,
   "metadata": {},
   "outputs": [],
   "source": [
    "def lag_features(df, features, seq_length):\n",
    "    \"\"\"Transforms a raw 2D dataframe of option data into 2D dataframe ofsequence data.\n",
    "    Last 2 indexes per sequence are bid and ask price. The len(features)*seq_length\n",
    "    features before are sequences of features\"\"\"\n",
    "    df = df.sort_values([\"Expire_date\", \"Strike\", \"Ttl\"], ascending = [True, True, False])\n",
    "    \n",
    "    # Adding lag for naive benchmarking\n",
    "    #df[\"Naive\"] = df[\"Price\"].shift(1)\n",
    "\n",
    "    for step in range(seq_length)[::-1]:\n",
    "        for feature in features:\n",
    "            df[feature + \"-\" + str(step)] = df[feature].shift(step)\n",
    "    \n",
    "    df[\"Check_strike\"] = df[\"Strike\"] == df[\"Strike\"].shift(seq_length-1)\n",
    "    df[\"Check_expire\"] = df[\"Expire_date\"] == df[\"Expire_date\"].shift(seq_length-1)\n",
    "    df = df[(df[\"Check_strike\"] == True) & (df[\"Check_expire\"] == True)]\n",
    "    df = df.drop([\"Check_strike\", \"Check_expire\"], axis=1)\n",
    "    #df[[\"Bid_strike_last\", \"Ask_strike_last\"]] = df[[\"Bid_strike\", \"Ask_strike\"]]\n",
    "    #df[[\"Bid_last\", \"Ask_last\"]] = df[[\"Bid\", \"Ask\"]]\n",
    "    df[\"Price_last\"] = df[\"Price\"]\n",
    "    df = df.sort_values([\"Quote_date\"], ascending = [True])\n",
    "    return df"
   ]
  },
  {
   "cell_type": "code",
   "execution_count": 2,
   "metadata": {},
   "outputs": [],
   "source": [
    "# Processed data\n",
    "first_year = 2019\n",
    "last_year = 2021\n",
    "file = f\"./data/processed_data/{first_year}-{last_year}.csv\"\n",
    "df_read = read_file(file)"
   ]
  },
  {
   "cell_type": "code",
   "execution_count": 3,
   "metadata": {},
   "outputs": [],
   "source": [
    "# Raw data for 2021\n",
    "path_opt = \"./data/options/\"\n",
    "filenames_opt = [\"spx_eod_\" + str(year) + (str(month) if month >= 10 else \"0\" + str(month)) + \".txt\" for year in range(2021, 2022) for month in range(1, 13)]\n",
    "#filenames_opt = [\"spx_eod_202209.txt\"]\n",
    "\n",
    "df_2021 = read_files(path_opt, filenames_opt)"
   ]
  },
  {
   "cell_type": "code",
   "execution_count": 4,
   "metadata": {},
   "outputs": [
    {
     "name": "stdout",
     "output_type": "stream",
     "text": [
      "Max row  1946623  has a spread of  1415.7999999999997 with a ask of  5059.9 and bid of  3644.1\n"
     ]
    }
   ],
   "source": [
    "#Row with highest ask bid spread\n",
    "df_2021_clean = df_2021[df_2021['[C_BID]'] != 0]\n",
    "max_row = pd.Series(df_2021_clean['[C_ASK]']-df_2021_clean['[C_BID]']).argmax()\n",
    "max_spread = df_2021_clean.iloc[max_row][\"[C_ASK]\"]-df_2021_clean.iloc[1946623][\"[C_BID]\"]\n",
    "print(\"Max row \", max_row, \" has a spread of \", max_spread, \"with a ask of \", df_2021_clean.iloc[max_row][\"[C_ASK]\"], \"and bid of \", df_2021_clean.iloc[max_row][\"[C_BID]\"])"
   ]
  },
  {
   "cell_type": "code",
   "execution_count": 5,
   "metadata": {},
   "outputs": [
    {
     "name": "stdout",
     "output_type": "stream",
     "text": [
      "---Info----\n",
      "<class 'pandas.core.frame.DataFrame'>\n",
      "RangeIndex: 5123798 entries, 0 to 5123797\n",
      "Data columns (total 13 columns):\n",
      " #   Column           Dtype  \n",
      "---  ------           -----  \n",
      " 0   Unnamed: 0       int64  \n",
      " 1   Quote_date       object \n",
      " 2   Expire_date      object \n",
      " 3   Underlying_last  float64\n",
      " 4   Strike           float64\n",
      " 5   Ask              float64\n",
      " 6   Bid              float64\n",
      " 7   Bid_strike       float64\n",
      " 8   Ask_strike       float64\n",
      " 9   Moneyness        float64\n",
      " 10  Ttl              int64  \n",
      " 11  Volatility       float64\n",
      " 12  R                float64\n",
      "dtypes: float64(9), int64(2), object(2)\n",
      "memory usage: 508.2+ MB\n"
     ]
    }
   ],
   "source": [
    "print(\"---Info----\")\n",
    "df_read.info()"
   ]
  },
  {
   "cell_type": "code",
   "execution_count": 6,
   "metadata": {},
   "outputs": [
    {
     "name": "stdout",
     "output_type": "stream",
     "text": [
      "Longest time to live:  1095\n"
     ]
    }
   ],
   "source": [
    "# Max Time to live\n",
    "print(\"Longest time to live: \", df_read[\"Ttl\"].max())"
   ]
  },
  {
   "cell_type": "code",
   "execution_count": 7,
   "metadata": {},
   "outputs": [
    {
     "name": "stdout",
     "output_type": "stream",
     "text": [
      "Count Ttl > 10000 : 0\n",
      "Count Ttl > 1586 : 0\n",
      "Count Ttl > 1089 : 408\n",
      "Count Ttl > 730 : 88853\n",
      "Count Ttl > 365 : 362735\n",
      "Count Ttl > 180 : 900201\n",
      "Count Ttl > 90 : 1834026\n",
      "Count Ttl > 60 : 2260711\n",
      "Count Ttl > 30 : 3123010\n",
      "Count Ttl > 15 : 4037921\n",
      "Count Ttl > 0 : 5123798\n"
     ]
    }
   ],
   "source": [
    "tests = [10000, 1586, 1089, 365*2, 365, 180, 90, 60, 30, 15, 0]\n",
    "x = []\n",
    "y = []\n",
    "for test in tests:\n",
    "    print('Count Ttl >', test, ':', df_read[\"Ttl\"][df_read['Ttl'] > test].count())\n",
    "    x.append(test)\n",
    "    y.append(df_read[\"Ttl\"][df_read['Ttl'] > test].count())\n"
   ]
  },
  {
   "cell_type": "code",
   "execution_count": 26,
   "metadata": {},
   "outputs": [
    {
     "data": {
      "text/plain": [
       "Text(0, 0.5, 'Number of data points')"
      ]
     },
     "execution_count": 26,
     "metadata": {},
     "output_type": "execute_result"
    },
    {
     "data": {
      "image/png": "[encoded data removed]",
      "text/plain": [
       "<Figure size 432x288 with 1 Axes>"
      ]
     },
     "metadata": {
      "needs_background": "light"
     },
     "output_type": "display_data"
    }
   ],
   "source": [
    "# Ttl distribution\n",
    "ax = df_read[\"Ttl\"].plot.hist(bins=157, color = '#1982C4')\n",
    "ax.set_xlabel(\"Days to live\")\n",
    "ax.set_ylabel(\"Number of data points\")"
   ]
  },
  {
   "cell_type": "code",
   "execution_count": 27,
   "metadata": {},
   "outputs": [
    {
     "data": {
      "text/plain": [
       "Text(0, 0.5, 'Number of data points')"
      ]
     },
     "execution_count": 27,
     "metadata": {},
     "output_type": "execute_result"
    },
    {
     "data": {
      "image/png": "[encoded data removed]",
      "text/plain": [
       "<Figure size 432x288 with 1 Axes>"
      ]
     },
     "metadata": {
      "needs_background": "light"
     },
     "output_type": "display_data"
    }
   ],
   "source": [
    "# Strike distribution\n",
    "ax = df_read[\"Strike\"].plot.hist(bins=100, color = '#1982C4')\n",
    "ax.set_xlabel(\"Strike\")\n",
    "ax.set_ylabel(\"Number of data points\")"
   ]
  },
  {
   "cell_type": "code",
   "execution_count": 10,
   "metadata": {},
   "outputs": [
    {
     "data": {
      "text/plain": [
       "Text(0, 0.5, 'Number of data points')"
      ]
     },
     "execution_count": 10,
     "metadata": {},
     "output_type": "execute_result"
    },
    {
     "data": {
      "image/png": "[encoded data removed]",
      "text/plain": [
       "<Figure size 432x288 with 1 Axes>"
      ]
     },
     "metadata": {
      "needs_background": "light"
     },
     "output_type": "display_data"
    }
   ],
   "source": [
    "# Moneyness distribution\n",
    "ax = df_read[\"Moneyness\"].plot.hist(bins=1800)\n",
    "ax.set_xlabel(\"Moneyness\")\n",
    "ax.set_xlim(0,3)\n",
    "ax.set_ylabel(\"Number of data points\")"
   ]
  },
  {
   "cell_type": "code",
   "execution_count": 11,
   "metadata": {},
   "outputs": [
    {
     "name": "stdout",
     "output_type": "stream",
     "text": [
      "47.9294\n",
      "0.4562775510204082\n",
      "Moneyness Ttl > 50 : 0.0\n",
      "Moneyness Ttl > 25 : 0.07223157509331946\n",
      "Moneyness Ttl > 10 : 0.28633056962823283\n",
      "Moneyness Ttl > 5 : 0.6770368386888007\n",
      "Moneyness Ttl > 2 : 6.3422094313632185\n",
      "Moneyness Ttl > 1.5 : 13.902499669190707\n",
      "Moneyness Ttl > 1.03 : 61.69587481785972\n",
      "Moneyness Ttl > 1 : 69.07145832056611\n",
      "Moneyness Ttl > 0.97 : 76.7483417574229\n",
      "Moneyness Ttl > 0.5 : 99.99865334269617\n",
      "Moneyness Ttl > 0 : 100.0\n"
     ]
    }
   ],
   "source": [
    "tests = [50, 25, 10, 5, 2, 1.5, 1.03, 1, 0.97, 0.5, 0]\n",
    "print(df_read[\"Moneyness\"].max())\n",
    "print(df_read[\"Moneyness\"].min())\n",
    "for test in tests:\n",
    "    print('Moneyness Ttl >', test, ':', df_read[\"Moneyness\"][df_read['Moneyness'] > test].count() / df_read[\"Moneyness\"].count() * 100)"
   ]
  },
  {
   "cell_type": "code",
   "execution_count": 12,
   "metadata": {},
   "outputs": [
    {
     "name": "stdout",
     "output_type": "stream",
     "text": [
      "9200.0\n",
      "100.0\n",
      "Strike > 8600 : 0.00046840254045924526\n",
      "Strike > 7600 : 0.0021858785221431443\n",
      "Strike > 6600 : 0.2711270038358265\n",
      "Strike > 5600 : 1.4702765409565326\n",
      "Strike > 4600 : 7.6027001845115665\n",
      "Strike > 3600 : 30.2223467826015\n",
      "Strike > 2600 : 73.19896295677543\n",
      "Strike > 1600 : 94.19842468418935\n",
      "Strike > 600 : 99.42501636481376\n",
      "Strike > 100 : 99.92644128437537\n",
      "Strike > 0 : 100.0\n"
     ]
    }
   ],
   "source": [
    "print(df_read[\"Strike\"][df_read[\"Ttl\"] <= 3*365].max())\n",
    "print(df_read[\"Strike\"].min())\n",
    "tester = \"Strike\"\n",
    "tests = [8600, 7600, 6600, 5600, 4600, 3600, 2600, 1600, 600, 100, 0]\n",
    "for test in tests:\n",
    "    print(tester, '>', test, ':', df_read[tester][df_read[tester] > test].count() / df_read[tester].count() * 100)"
   ]
  },
  {
   "cell_type": "code",
   "execution_count": 13,
   "metadata": {},
   "outputs": [
    {
     "data": {
      "text/html": [
       "<div>\n",
       "<style scoped>\n",
       "    .dataframe tbody tr th:only-of-type {\n",
       "        vertical-align: middle;\n",
       "    }\n",
       "\n",
       "    .dataframe tbody tr th {\n",
       "        vertical-align: top;\n",
       "    }\n",
       "\n",
       "    .dataframe thead th {\n",
       "        text-align: right;\n",
       "    }\n",
       "</style>\n",
       "<table border=\"1\" class=\"dataframe\">\n",
       "  <thead>\n",
       "    <tr style=\"text-align: right;\">\n",
       "      <th></th>\n",
       "      <th>Unnamed: 0</th>\n",
       "      <th>Quote_date</th>\n",
       "      <th>Expire_date</th>\n",
       "      <th>Underlying_last</th>\n",
       "      <th>Strike</th>\n",
       "      <th>Ask</th>\n",
       "      <th>Bid</th>\n",
       "      <th>Bid_strike</th>\n",
       "      <th>Ask_strike</th>\n",
       "      <th>Moneyness</th>\n",
       "      <th>Ttl</th>\n",
       "      <th>Volatility</th>\n",
       "      <th>R</th>\n",
       "    </tr>\n",
       "  </thead>\n",
       "  <tbody>\n",
       "    <tr>\n",
       "      <th>5058345</th>\n",
       "      <td>6456540</td>\n",
       "      <td>2021-12-21</td>\n",
       "      <td>2024-12-20</td>\n",
       "      <td>4648.98</td>\n",
       "      <td>9200.0</td>\n",
       "      <td>19.7</td>\n",
       "      <td>0.5</td>\n",
       "      <td>0.000054</td>\n",
       "      <td>0.002141</td>\n",
       "      <td>0.505324</td>\n",
       "      <td>1095</td>\n",
       "      <td>0.135275</td>\n",
       "      <td>0.96</td>\n",
       "    </tr>\n",
       "    <tr>\n",
       "      <th>5067505</th>\n",
       "      <td>6465700</td>\n",
       "      <td>2021-12-22</td>\n",
       "      <td>2024-12-20</td>\n",
       "      <td>4696.40</td>\n",
       "      <td>9200.0</td>\n",
       "      <td>300.0</td>\n",
       "      <td>0.0</td>\n",
       "      <td>0.000000</td>\n",
       "      <td>0.032609</td>\n",
       "      <td>0.510478</td>\n",
       "      <td>1094</td>\n",
       "      <td>0.136229</td>\n",
       "      <td>0.96</td>\n",
       "    </tr>\n",
       "    <tr>\n",
       "      <th>5076778</th>\n",
       "      <td>6474973</td>\n",
       "      <td>2021-12-23</td>\n",
       "      <td>2024-12-20</td>\n",
       "      <td>4725.38</td>\n",
       "      <td>9200.0</td>\n",
       "      <td>19.2</td>\n",
       "      <td>0.0</td>\n",
       "      <td>0.000000</td>\n",
       "      <td>0.002087</td>\n",
       "      <td>0.513628</td>\n",
       "      <td>1093</td>\n",
       "      <td>0.136510</td>\n",
       "      <td>0.97</td>\n",
       "    </tr>\n",
       "    <tr>\n",
       "      <th>5085894</th>\n",
       "      <td>6484089</td>\n",
       "      <td>2021-12-27</td>\n",
       "      <td>2024-12-20</td>\n",
       "      <td>4791.49</td>\n",
       "      <td>9200.0</td>\n",
       "      <td>19.2</td>\n",
       "      <td>0.0</td>\n",
       "      <td>0.000000</td>\n",
       "      <td>0.002087</td>\n",
       "      <td>0.520814</td>\n",
       "      <td>1089</td>\n",
       "      <td>0.138249</td>\n",
       "      <td>0.98</td>\n",
       "    </tr>\n",
       "    <tr>\n",
       "      <th>5095447</th>\n",
       "      <td>6493642</td>\n",
       "      <td>2021-12-28</td>\n",
       "      <td>2024-12-20</td>\n",
       "      <td>4787.26</td>\n",
       "      <td>9200.0</td>\n",
       "      <td>12.7</td>\n",
       "      <td>3.5</td>\n",
       "      <td>0.000380</td>\n",
       "      <td>0.001380</td>\n",
       "      <td>0.520354</td>\n",
       "      <td>1088</td>\n",
       "      <td>0.138268</td>\n",
       "      <td>0.99</td>\n",
       "    </tr>\n",
       "    <tr>\n",
       "      <th>5104935</th>\n",
       "      <td>6503130</td>\n",
       "      <td>2021-12-29</td>\n",
       "      <td>2024-12-20</td>\n",
       "      <td>4792.94</td>\n",
       "      <td>9200.0</td>\n",
       "      <td>19.2</td>\n",
       "      <td>0.0</td>\n",
       "      <td>0.000000</td>\n",
       "      <td>0.002087</td>\n",
       "      <td>0.520972</td>\n",
       "      <td>1087</td>\n",
       "      <td>0.138236</td>\n",
       "      <td>0.99</td>\n",
       "    </tr>\n",
       "    <tr>\n",
       "      <th>5114469</th>\n",
       "      <td>6512664</td>\n",
       "      <td>2021-12-30</td>\n",
       "      <td>2024-12-20</td>\n",
       "      <td>4779.28</td>\n",
       "      <td>9200.0</td>\n",
       "      <td>19.2</td>\n",
       "      <td>0.0</td>\n",
       "      <td>0.000000</td>\n",
       "      <td>0.002087</td>\n",
       "      <td>0.519487</td>\n",
       "      <td>1086</td>\n",
       "      <td>0.137746</td>\n",
       "      <td>0.98</td>\n",
       "    </tr>\n",
       "    <tr>\n",
       "      <th>5123797</th>\n",
       "      <td>6521992</td>\n",
       "      <td>2021-12-31</td>\n",
       "      <td>2024-12-20</td>\n",
       "      <td>4766.39</td>\n",
       "      <td>9200.0</td>\n",
       "      <td>300.0</td>\n",
       "      <td>0.0</td>\n",
       "      <td>0.000000</td>\n",
       "      <td>0.032609</td>\n",
       "      <td>0.518086</td>\n",
       "      <td>1085</td>\n",
       "      <td>0.136456</td>\n",
       "      <td>0.97</td>\n",
       "    </tr>\n",
       "  </tbody>\n",
       "</table>\n",
       "</div>"
      ],
      "text/plain": [
       "         Unnamed: 0  Quote_date Expire_date  Underlying_last  Strike    Ask  \\\n",
       "5058345     6456540  2021-12-21  2024-12-20          4648.98  9200.0   19.7   \n",
       "5067505     6465700  2021-12-22  2024-12-20          4696.40  9200.0  300.0   \n",
       "5076778     6474973  2021-12-23  2024-12-20          4725.38  9200.0   19.2   \n",
       "5085894     6484089  2021-12-27  2024-12-20          4791.49  9200.0   19.2   \n",
       "5095447     6493642  2021-12-28  2024-12-20          4787.26  9200.0   12.7   \n",
       "5104935     6503130  2021-12-29  2024-12-20          4792.94  9200.0   19.2   \n",
       "5114469     6512664  2021-12-30  2024-12-20          4779.28  9200.0   19.2   \n",
       "5123797     6521992  2021-12-31  2024-12-20          4766.39  9200.0  300.0   \n",
       "\n",
       "         Bid  Bid_strike  Ask_strike  Moneyness   Ttl  Volatility     R  \n",
       "5058345  0.5    0.000054    0.002141   0.505324  1095    0.135275  0.96  \n",
       "5067505  0.0    0.000000    0.032609   0.510478  1094    0.136229  0.96  \n",
       "5076778  0.0    0.000000    0.002087   0.513628  1093    0.136510  0.97  \n",
       "5085894  0.0    0.000000    0.002087   0.520814  1089    0.138249  0.98  \n",
       "5095447  3.5    0.000380    0.001380   0.520354  1088    0.138268  0.99  \n",
       "5104935  0.0    0.000000    0.002087   0.520972  1087    0.138236  0.99  \n",
       "5114469  0.0    0.000000    0.002087   0.519487  1086    0.137746  0.98  \n",
       "5123797  0.0    0.000000    0.032609   0.518086  1085    0.136456  0.97  "
      ]
     },
     "execution_count": 13,
     "metadata": {},
     "output_type": "execute_result"
    }
   ],
   "source": [
    "df_read[(df_read[\"Strike\"] == 9200)]"
   ]
  },
  {
   "cell_type": "code",
   "execution_count": 14,
   "metadata": {},
   "outputs": [
    {
     "data": {
      "text/plain": [
       "Unnamed: 0            6521992\n",
       "Quote_date         2021-12-31\n",
       "Expire_date        2024-12-20\n",
       "Underlying_last       4792.94\n",
       "Strike                   9200\n",
       "Ask                    4693.5\n",
       "Bid                    4624.9\n",
       "Bid_strike             46.249\n",
       "Ask_strike             46.745\n",
       "Moneyness             47.9294\n",
       "Ttl                      1095\n",
       "Volatility           0.543244\n",
       "R                        2.62\n",
       "dtype: object"
      ]
     },
     "execution_count": 14,
     "metadata": {},
     "output_type": "execute_result"
    }
   ],
   "source": [
    "df_read[df_read[\"Quote_date\"] <= \"2021-12-31\"].max()"
   ]
  },
  {
   "cell_type": "code",
   "execution_count": 15,
   "metadata": {},
   "outputs": [
    {
     "data": {
      "text/html": [
       "<div>\n",
       "<style scoped>\n",
       "    .dataframe tbody tr th:only-of-type {\n",
       "        vertical-align: middle;\n",
       "    }\n",
       "\n",
       "    .dataframe tbody tr th {\n",
       "        vertical-align: top;\n",
       "    }\n",
       "\n",
       "    .dataframe thead th {\n",
       "        text-align: right;\n",
       "    }\n",
       "</style>\n",
       "<table border=\"1\" class=\"dataframe\">\n",
       "  <thead>\n",
       "    <tr style=\"text-align: right;\">\n",
       "      <th></th>\n",
       "      <th>Unnamed: 0</th>\n",
       "      <th>Quote_date</th>\n",
       "      <th>Expire_date</th>\n",
       "      <th>Underlying_last</th>\n",
       "      <th>Strike</th>\n",
       "      <th>Ask</th>\n",
       "      <th>Bid</th>\n",
       "      <th>Bid_strike</th>\n",
       "      <th>Ask_strike</th>\n",
       "      <th>Moneyness</th>\n",
       "      <th>Ttl</th>\n",
       "      <th>Volatility</th>\n",
       "      <th>R</th>\n",
       "    </tr>\n",
       "  </thead>\n",
       "  <tbody>\n",
       "    <tr>\n",
       "      <th>5058345</th>\n",
       "      <td>6456540</td>\n",
       "      <td>2021-12-21</td>\n",
       "      <td>2024-12-20</td>\n",
       "      <td>4648.98</td>\n",
       "      <td>9200.0</td>\n",
       "      <td>19.7</td>\n",
       "      <td>0.5</td>\n",
       "      <td>0.000054</td>\n",
       "      <td>0.002141</td>\n",
       "      <td>0.505324</td>\n",
       "      <td>1095</td>\n",
       "      <td>0.135275</td>\n",
       "      <td>0.96</td>\n",
       "    </tr>\n",
       "    <tr>\n",
       "      <th>5067505</th>\n",
       "      <td>6465700</td>\n",
       "      <td>2021-12-22</td>\n",
       "      <td>2024-12-20</td>\n",
       "      <td>4696.40</td>\n",
       "      <td>9200.0</td>\n",
       "      <td>300.0</td>\n",
       "      <td>0.0</td>\n",
       "      <td>0.000000</td>\n",
       "      <td>0.032609</td>\n",
       "      <td>0.510478</td>\n",
       "      <td>1094</td>\n",
       "      <td>0.136229</td>\n",
       "      <td>0.96</td>\n",
       "    </tr>\n",
       "    <tr>\n",
       "      <th>5076778</th>\n",
       "      <td>6474973</td>\n",
       "      <td>2021-12-23</td>\n",
       "      <td>2024-12-20</td>\n",
       "      <td>4725.38</td>\n",
       "      <td>9200.0</td>\n",
       "      <td>19.2</td>\n",
       "      <td>0.0</td>\n",
       "      <td>0.000000</td>\n",
       "      <td>0.002087</td>\n",
       "      <td>0.513628</td>\n",
       "      <td>1093</td>\n",
       "      <td>0.136510</td>\n",
       "      <td>0.97</td>\n",
       "    </tr>\n",
       "    <tr>\n",
       "      <th>5085894</th>\n",
       "      <td>6484089</td>\n",
       "      <td>2021-12-27</td>\n",
       "      <td>2024-12-20</td>\n",
       "      <td>4791.49</td>\n",
       "      <td>9200.0</td>\n",
       "      <td>19.2</td>\n",
       "      <td>0.0</td>\n",
       "      <td>0.000000</td>\n",
       "      <td>0.002087</td>\n",
       "      <td>0.520814</td>\n",
       "      <td>1089</td>\n",
       "      <td>0.138249</td>\n",
       "      <td>0.98</td>\n",
       "    </tr>\n",
       "    <tr>\n",
       "      <th>5095447</th>\n",
       "      <td>6493642</td>\n",
       "      <td>2021-12-28</td>\n",
       "      <td>2024-12-20</td>\n",
       "      <td>4787.26</td>\n",
       "      <td>9200.0</td>\n",
       "      <td>12.7</td>\n",
       "      <td>3.5</td>\n",
       "      <td>0.000380</td>\n",
       "      <td>0.001380</td>\n",
       "      <td>0.520354</td>\n",
       "      <td>1088</td>\n",
       "      <td>0.138268</td>\n",
       "      <td>0.99</td>\n",
       "    </tr>\n",
       "    <tr>\n",
       "      <th>5104935</th>\n",
       "      <td>6503130</td>\n",
       "      <td>2021-12-29</td>\n",
       "      <td>2024-12-20</td>\n",
       "      <td>4792.94</td>\n",
       "      <td>9200.0</td>\n",
       "      <td>19.2</td>\n",
       "      <td>0.0</td>\n",
       "      <td>0.000000</td>\n",
       "      <td>0.002087</td>\n",
       "      <td>0.520972</td>\n",
       "      <td>1087</td>\n",
       "      <td>0.138236</td>\n",
       "      <td>0.99</td>\n",
       "    </tr>\n",
       "    <tr>\n",
       "      <th>5114469</th>\n",
       "      <td>6512664</td>\n",
       "      <td>2021-12-30</td>\n",
       "      <td>2024-12-20</td>\n",
       "      <td>4779.28</td>\n",
       "      <td>9200.0</td>\n",
       "      <td>19.2</td>\n",
       "      <td>0.0</td>\n",
       "      <td>0.000000</td>\n",
       "      <td>0.002087</td>\n",
       "      <td>0.519487</td>\n",
       "      <td>1086</td>\n",
       "      <td>0.137746</td>\n",
       "      <td>0.98</td>\n",
       "    </tr>\n",
       "    <tr>\n",
       "      <th>5123797</th>\n",
       "      <td>6521992</td>\n",
       "      <td>2021-12-31</td>\n",
       "      <td>2024-12-20</td>\n",
       "      <td>4766.39</td>\n",
       "      <td>9200.0</td>\n",
       "      <td>300.0</td>\n",
       "      <td>0.0</td>\n",
       "      <td>0.000000</td>\n",
       "      <td>0.032609</td>\n",
       "      <td>0.518086</td>\n",
       "      <td>1085</td>\n",
       "      <td>0.136456</td>\n",
       "      <td>0.97</td>\n",
       "    </tr>\n",
       "  </tbody>\n",
       "</table>\n",
       "</div>"
      ],
      "text/plain": [
       "         Unnamed: 0  Quote_date Expire_date  Underlying_last  Strike    Ask  \\\n",
       "5058345     6456540  2021-12-21  2024-12-20          4648.98  9200.0   19.7   \n",
       "5067505     6465700  2021-12-22  2024-12-20          4696.40  9200.0  300.0   \n",
       "5076778     6474973  2021-12-23  2024-12-20          4725.38  9200.0   19.2   \n",
       "5085894     6484089  2021-12-27  2024-12-20          4791.49  9200.0   19.2   \n",
       "5095447     6493642  2021-12-28  2024-12-20          4787.26  9200.0   12.7   \n",
       "5104935     6503130  2021-12-29  2024-12-20          4792.94  9200.0   19.2   \n",
       "5114469     6512664  2021-12-30  2024-12-20          4779.28  9200.0   19.2   \n",
       "5123797     6521992  2021-12-31  2024-12-20          4766.39  9200.0  300.0   \n",
       "\n",
       "         Bid  Bid_strike  Ask_strike  Moneyness   Ttl  Volatility     R  \n",
       "5058345  0.5    0.000054    0.002141   0.505324  1095    0.135275  0.96  \n",
       "5067505  0.0    0.000000    0.032609   0.510478  1094    0.136229  0.96  \n",
       "5076778  0.0    0.000000    0.002087   0.513628  1093    0.136510  0.97  \n",
       "5085894  0.0    0.000000    0.002087   0.520814  1089    0.138249  0.98  \n",
       "5095447  3.5    0.000380    0.001380   0.520354  1088    0.138268  0.99  \n",
       "5104935  0.0    0.000000    0.002087   0.520972  1087    0.138236  0.99  \n",
       "5114469  0.0    0.000000    0.002087   0.519487  1086    0.137746  0.98  \n",
       "5123797  0.0    0.000000    0.032609   0.518086  1085    0.136456  0.97  "
      ]
     },
     "execution_count": 15,
     "metadata": {},
     "output_type": "execute_result"
    }
   ],
   "source": [
    "df_read[(df_read[\"Strike\"] == 9200)]"
   ]
  },
  {
   "cell_type": "markdown",
   "metadata": {},
   "source": [
    "<font size=\"5\">Statistics table</font>"
   ]
  },
  {
   "cell_type": "code",
   "execution_count": 16,
   "metadata": {},
   "outputs": [],
   "source": [
    "# Drop ID\n",
    "df_read = df_read.drop([\"Unnamed: 0\"], axis = 1)"
   ]
  },
  {
   "cell_type": "code",
   "execution_count": 17,
   "metadata": {},
   "outputs": [],
   "source": [
    "# Making date to date format to be able to group by year\n",
    "df_read['Quote_date'] = pd.to_datetime(df_read.Quote_date, format='%Y-%m-%d')\n",
    "df2 = df_read.groupby(df_read.Quote_date.dt.year)"
   ]
  },
  {
   "cell_type": "code",
   "execution_count": 18,
   "metadata": {},
   "outputs": [],
   "source": [
    "summary = df2.describe().round(decimals=2).transpose().astype(str)"
   ]
  },
  {
   "cell_type": "code",
   "execution_count": 19,
   "metadata": {},
   "outputs": [
    {
     "name": "stdout",
     "output_type": "stream",
     "text": [
      "Quote_date                  2019       2020       2021\n",
      "Underlying_last count  1412347.0  1685464.0  2025987.0\n",
      "                mean     2916.58    3203.46    4290.48\n",
      "                std       155.46     329.58      286.0\n",
      "                min      2446.85    2235.76    3701.38\n",
      "                25%      2822.43    3002.74    4111.97\n",
      "                50%      2923.48    3273.64    4343.44\n",
      "                75%      3005.61    3400.95     4511.6\n",
      "                max      3240.07    3756.31    4792.94\n",
      "Strike          count  1412347.0  1685464.0  2025987.0\n",
      "                mean      2597.2     2887.3    3805.08\n",
      "                std       558.36     772.43    1059.77\n",
      "                min        100.0      100.0      100.0\n",
      "                25%       2310.0     2475.0     3300.0\n",
      "                50%       2685.0     2975.0     3920.0\n",
      "                75%       2970.0     3370.0     4425.0\n",
      "                max       4800.0     6500.0     9200.0\n",
      "Ask             count  1412347.0  1685464.0  2025987.0\n",
      "                mean      405.08     497.35     681.24\n",
      "                std       458.09     585.03     806.55\n",
      "                min         0.04       0.04       0.04\n",
      "                25%        42.01      49.51      67.51\n",
      "                50%        252.8     292.01      402.1\n",
      "                75%        592.9     723.71      974.6\n",
      "                max       3108.1     3658.9     4693.5\n",
      "Bid             count  1412347.0  1685464.0  2025987.0\n",
      "                mean      400.85     490.53      672.8\n",
      "                std       455.09     580.52     800.44\n",
      "                min          0.0        0.0        0.0\n",
      "                25%         40.9       47.0       64.4\n",
      "                50%       248.69     285.99     394.49\n",
      "                75%       586.79      713.4      962.7\n",
      "                max       3101.8     3652.4     4624.9\n",
      "Bid_strike      count  1412347.0  1685464.0  2025987.0\n",
      "                mean        0.24       0.33       0.38\n",
      "                std         0.73       1.26       1.54\n",
      "                min          0.0        0.0        0.0\n",
      "                25%         0.01       0.01       0.01\n",
      "                50%         0.09        0.1        0.1\n",
      "                75%         0.25       0.28       0.29\n",
      "                max        31.02      36.52      46.25\n",
      "Ask_strike      count  1412347.0  1685464.0  2025987.0\n",
      "                mean        0.24       0.33       0.38\n",
      "                std         0.73       1.27       1.56\n",
      "                min          0.0        0.0        0.0\n",
      "                25%         0.01       0.01       0.02\n",
      "                50%         0.09        0.1        0.1\n",
      "                75%         0.25       0.29       0.29\n",
      "                max        31.08      36.59      46.74\n",
      "Moneyness       count  1412347.0  1685464.0  2025987.0\n",
      "                mean        1.21       1.28       1.34\n",
      "                std         0.75       1.29       1.58\n",
      "                min         0.58       0.46       0.51\n",
      "                25%         0.99       0.96       0.98\n",
      "                50%         1.08       1.08       1.09\n",
      "                75%         1.25       1.27       1.28\n",
      "                max         32.4      37.56      47.93\n",
      "Ttl             count  1412347.0  1685464.0  2025987.0\n",
      "                mean      106.43     109.02      123.4\n",
      "                std       163.42     163.88     168.42\n",
      "                min          1.0        1.0        1.0\n",
      "                25%         19.0       18.0       19.0\n",
      "                50%         43.0       45.0       56.0\n",
      "                75%        115.0      130.0      157.0\n",
      "                max       1089.0     1093.0     1095.0\n",
      "Volatility      count  1412347.0  1685464.0  2025987.0\n",
      "                mean        0.15        0.3       0.13\n",
      "                std         0.04       0.16       0.02\n",
      "                min          0.1       0.09        0.1\n",
      "                25%         0.12       0.18       0.11\n",
      "                50%         0.14       0.21       0.13\n",
      "                75%         0.19        0.5       0.14\n",
      "                max         0.22       0.54       0.19\n",
      "R               count  1412347.0  1685464.0  2025987.0\n",
      "                mean        2.09       0.36       0.06\n",
      "                std         0.34       0.53       0.07\n",
      "                min         1.39        0.0        0.0\n",
      "                25%         1.74       0.09       0.03\n",
      "                50%         2.13       0.11       0.05\n",
      "                75%         2.42       0.17       0.06\n",
      "                max         2.62       1.61       0.99\n"
     ]
    }
   ],
   "source": [
    "with pd.option_context('display.max_rows', None,\n",
    "                       'display.max_columns', None,\n",
    "                       'display.precision', 3,\n",
    "                       ):\n",
    "\n",
    "    print(summary)"
   ]
  },
  {
   "cell_type": "code",
   "execution_count": 20,
   "metadata": {},
   "outputs": [],
   "source": [
    "with open('mytable.tex', 'w') as tf:\n",
    "     tf.write(summary.to_latex())"
   ]
  },
  {
   "cell_type": "markdown",
   "metadata": {},
   "source": [
    "Post-processed data"
   ]
  },
  {
   "cell_type": "code",
   "execution_count": 24,
   "metadata": {},
   "outputs": [],
   "source": [
    "first_year = 2019\n",
    "last_year = 2021\n",
    "file = f\"./data/processed_data/{first_year}-{last_year}_underlying-strike_only-price.csv\"\n",
    "df_pre = read_file(file)"
   ]
  },
  {
   "cell_type": "code",
   "execution_count": 25,
   "metadata": {},
   "outputs": [],
   "source": [
    "features = [\"Underlying_last\", \"Strike\", \"Ttl\", \"Volatility\", \"R\"]\n",
    "seq_length = 5\n",
    "num_features = len(features)\n",
    "num_outputs = 1\n",
    "\n",
    "df_read_lags = lag_features(df_pre, features, seq_length)"
   ]
  },
  {
   "cell_type": "code",
   "execution_count": 31,
   "metadata": {},
   "outputs": [
    {
     "name": "stdout",
     "output_type": "stream",
     "text": [
      "Unnamed: 0           4630708\n",
      "Quote_date           4630708\n",
      "Expire_date          4630708\n",
      "Price                4630708\n",
      "Underlying_last      4630708\n",
      "Strike               4630708\n",
      "Ttl                  4630708\n",
      "Volatility           4630708\n",
      "R                    4630708\n",
      "Underlying_last-4    4630708\n",
      "Strike-4             4630708\n",
      "Ttl-4                4630708\n",
      "Volatility-4         4630708\n",
      "R-4                  4630708\n",
      "Underlying_last-3    4630708\n",
      "Strike-3             4630708\n",
      "Ttl-3                4630708\n",
      "Volatility-3         4630708\n",
      "R-3                  4630708\n",
      "Underlying_last-2    4630708\n",
      "Strike-2             4630708\n",
      "Ttl-2                4630708\n",
      "Volatility-2         4630708\n",
      "R-2                  4630708\n",
      "Underlying_last-1    4630708\n",
      "Strike-1             4630708\n",
      "Ttl-1                4630708\n",
      "Volatility-1         4630708\n",
      "R-1                  4630708\n",
      "Underlying_last-0    4630708\n",
      "Strike-0             4630708\n",
      "Ttl-0                4630708\n",
      "Volatility-0         4630708\n",
      "R-0                  4630708\n",
      "Price_last           4630708\n",
      "dtype: int64\n"
     ]
    }
   ],
   "source": [
    "print(df_read_lags.count())"
   ]
  },
  {
   "cell_type": "code",
   "execution_count": 26,
   "metadata": {},
   "outputs": [
    {
     "name": "stdout",
     "output_type": "stream",
     "text": [
      "       Unnamed: 0  Quote_date Expire_date     Price  Underlying_last  Strike  \\\n",
      "24524     1379437  2019-01-08  2019-01-09  1072.110          2574.26  1500.0   \n",
      "26837     1381750  2019-01-08  2019-02-01    28.850          2574.26  2610.0   \n",
      "26838     1381751  2019-01-08  2019-02-01    26.445          2574.26  2615.0   \n",
      "29127     1384040  2019-01-08  2019-04-18   170.810          2574.26  2470.0   \n",
      "29406     1384319  2019-01-08  2019-05-31   108.800          2574.26  2600.0   \n",
      "\n",
      "       Ttl  Volatility     R  Underlying_last-4  ...  Strike-1  Ttl-1  \\\n",
      "24524    1    0.215077  2.40            2509.98  ...    1500.0    2.0   \n",
      "26837   24    0.215077  2.40            2509.98  ...    2610.0   25.0   \n",
      "26838   24    0.215077  2.40            2509.98  ...    2615.0   25.0   \n",
      "29127  100    0.215077  2.46            2509.98  ...    2470.0  101.0   \n",
      "29406  143    0.215077  2.54            2509.98  ...    2600.0  144.0   \n",
      "\n",
      "       Volatility-1   R-1  Underlying_last-0  Strike-0  Ttl-0  Volatility-0  \\\n",
      "24524       0.21459  2.42            2574.26    1500.0      1      0.215077   \n",
      "26837       0.21459  2.42            2574.26    2610.0     24      0.215077   \n",
      "26838       0.21459  2.42            2574.26    2615.0     24      0.215077   \n",
      "29127       0.21459  2.45            2574.26    2470.0    100      0.215077   \n",
      "29406       0.21459  2.54            2574.26    2600.0    143      0.215077   \n",
      "\n",
      "        R-0  Price_last  \n",
      "24524  2.40    1072.110  \n",
      "26837  2.40      28.850  \n",
      "26838  2.40      26.445  \n",
      "29127  2.46     170.810  \n",
      "29406  2.54     108.800  \n",
      "\n",
      "[5 rows x 35 columns]\n"
     ]
    }
   ],
   "source": [
    "print(df_read_lags.head())"
   ]
  },
  {
   "cell_type": "code",
   "execution_count": 27,
   "metadata": {},
   "outputs": [],
   "source": [
    "df_post = df_read_lags[[\"Quote_date\", \"Underlying_last\", \"Strike\", \"Price\", \"Ttl\", \"Volatility\", \"R\"]]"
   ]
  },
  {
   "cell_type": "code",
   "execution_count": 28,
   "metadata": {},
   "outputs": [
    {
     "name": "stderr",
     "output_type": "stream",
     "text": [
      "<ipython-input-28-35c6848a1ef0>:1: SettingWithCopyWarning: \n",
      "A value is trying to be set on a copy of a slice from a DataFrame.\n",
      "Try using .loc[row_indexer,col_indexer] = value instead\n",
      "\n",
      "See the caveats in the documentation: https://pandas.pydata.org/pandas-docs/stable/user_guide/indexing.html#returning-a-view-versus-a-copy\n",
      "  df_post['Quote_date'] = pd.to_datetime(df_post.Quote_date, format='%Y-%m-%d')\n"
     ]
    }
   ],
   "source": [
    "df_post['Quote_date'] = pd.to_datetime(df_post.Quote_date, format='%Y-%m-%d')\n",
    "df_post = df_post.groupby(df_post.Quote_date.dt.year)"
   ]
  },
  {
   "cell_type": "code",
   "execution_count": 29,
   "metadata": {},
   "outputs": [],
   "source": [
    "summary = df_post.describe().round(decimals=2).transpose().astype(str)\n",
    "\n",
    "with open('post.tex', 'w') as tf:\n",
    "     tf.write(summary.to_latex())"
   ]
  },
  {
   "cell_type": "code",
   "execution_count": 30,
   "metadata": {},
   "outputs": [
    {
     "name": "stdout",
     "output_type": "stream",
     "text": [
      "Quote_date                  2019       2020       2021\n",
      "Underlying_last count  1252667.0  1532559.0  1845482.0\n",
      "                mean     2923.91     3201.9    4290.25\n",
      "                std       147.98     329.41     285.94\n",
      "                min      2574.26    2235.76    3701.38\n",
      "                25%      2826.37    3002.74    4116.13\n",
      "                50%      2924.46    3273.64    4343.44\n",
      "                75%       3006.7    3399.03     4511.6\n",
      "                max      3240.07    3756.31    4792.94\n",
      "Strike          count  1252667.0  1532559.0  1845482.0\n",
      "                mean     2586.98    2871.66    3777.87\n",
      "                std        565.2     773.79    1074.07\n",
      "                min        100.0      100.0      100.0\n",
      "                25%       2300.0     2450.0     3250.0\n",
      "                50%       2675.0     2955.0     3885.0\n",
      "                75%       2965.0     3360.0     4400.0\n",
      "                max       4800.0     6400.0     9200.0\n",
      "Price           count  1252667.0  1532559.0  1845482.0\n",
      "                mean      418.72     509.08      703.7\n",
      "                std       464.65     590.14     815.18\n",
      "                min         0.02       0.02       0.02\n",
      "                25%        48.35      51.15      77.74\n",
      "                50%        266.3     304.55      426.8\n",
      "                75%       616.74      750.1    1014.35\n",
      "                max      3104.95    3655.65     4641.8\n",
      "Ttl             count  1252667.0  1532559.0  1845482.0\n",
      "                mean      109.75     113.37     128.73\n",
      "                std       167.79     167.98     172.46\n",
      "                min          1.0        1.0        1.0\n",
      "                25%         17.0       17.0       18.0\n",
      "                50%         44.0       49.0       63.0\n",
      "                75%        121.0      136.0      162.0\n",
      "                max       1082.0     1087.0     1088.0\n",
      "Volatility      count  1252667.0  1532559.0  1845482.0\n",
      "                mean        0.15        0.3       0.13\n",
      "                std         0.04       0.16       0.02\n",
      "                min          0.1       0.09        0.1\n",
      "                25%         0.12       0.18       0.11\n",
      "                50%         0.14       0.21       0.13\n",
      "                75%         0.18        0.5       0.14\n",
      "                max         0.22       0.54       0.19\n",
      "R               count  1252667.0  1532559.0  1845482.0\n",
      "                mean        2.08       0.36       0.06\n",
      "                std         0.34       0.53       0.07\n",
      "                min         1.39        0.0        0.0\n",
      "                25%         1.74       0.09       0.03\n",
      "                50%         2.12       0.11       0.05\n",
      "                75%         2.42       0.17       0.06\n",
      "                max         2.62       1.61       0.99\n"
     ]
    }
   ],
   "source": [
    "print(summary)"
   ]
  }
 ],
 "metadata": {
  "kernelspec": {
   "display_name": "Python 3.8.1 64-bit",
   "language": "python",
   "name": "python3"
  },
  "language_info": {
   "codemirror_mode": {
    "name": "ipython",
    "version": 3
   },
   "file_extension": ".py",
   "mimetype": "text/x-python",
   "name": "python",
   "nbconvert_exporter": "python",
   "pygments_lexer": "ipython3",
   "version": "3.8.1"
  },
  "orig_nbformat": 4,
  "vscode": {
   "interpreter": {
    "hash": "0adcc2737ebf6a4a119f135174df96668767fca1ef1112612db5ecadf2b6d608"
   }
  }
 },
 "nbformat": 4,
 "nbformat_minor": 2
}
