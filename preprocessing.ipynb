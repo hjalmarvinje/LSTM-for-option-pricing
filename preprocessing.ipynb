{
 "cells": [
  {
   "cell_type": "code",
   "execution_count": 1,
   "metadata": {},
   "outputs": [],
   "source": [
    "import pandas as pd\n",
    "import matplotlib.pyplot as plt\n",
    "import numpy as np\n",
    "from sklearn.preprocessing import MinMaxScaler\n",
    "from preprocessing import read_files, process_options"
   ]
  },
  {
   "cell_type": "code",
   "execution_count": 2,
   "metadata": {},
   "outputs": [],
   "source": [
    "def process_rates(df_r):\n",
    "    \"\"\"Renames rate duration\"\"\"\n",
    "    df_r[\"Date\"] = pd.to_datetime(df_r[\"Date\"])\n",
    "    keys = {  \"Date\" : \"Quote_date\",\n",
    "                                    \"1 Mo\": 30,\n",
    "                                    \"3 Mo\": 90,\n",
    "                                    \"6 Mo\": 180,\n",
    "                                    \"1 Yr\": 365,\n",
    "                                    \"2 Yr\": 365*2,\n",
    "                                    \"3 Yr\": 365*3,\n",
    "                                    \"5 Yr\": 365*5,\n",
    "                                    \"7 Yr\": 365*7,\n",
    "                                    \"10 Yr\": 365*10}\n",
    "    df_r = df_r.rename(columns = keys)\n",
    "    return df_r[keys.values()]\n",
    "\n",
    "def combine_opt_rates(df_opt, df_r):\n",
    "    df_opt = pd.merge(df_opt, df_r, on =\"Quote_date\", how = \"left\")\n",
    "    rates = list(df_r.columns)\n",
    "    rates.remove(\"Quote_date\")\n",
    "    df_opt[\"Ttl_diff\"] = df_opt[\"Ttl\"].apply(lambda x: (np.abs(np.array(rates) - x)).argmin())\n",
    "    df_opt[\"R\"] = df_opt[[\"Ttl_diff\"] + rates].values.tolist()\n",
    "    df_opt[\"R\"] = df_opt[\"R\"].apply(lambda x: x[int(x[0]+1)])\n",
    "    df_opt = df_opt.drop(rates + [\"Ttl_diff\"], axis=1)\n",
    "    return df_opt.dropna()\n",
    "\n",
    "def get_model_dataset(path_opt, filenames_opt, path_r, filenames_r, call = True):\n",
    "    \"\"\"Wrapper function to extract option data and rates. Returns a combined dataframe\"\"\"\n",
    "    df_opt = read_files(path_opt, filenames_opt)\n",
    "    df_r = read_files(path_r, filenames_r)\n",
    "    df_opt = process_options(df_opt, call)\n",
    "    df_r = process_rates(df_r)\n",
    "    df = combine_opt_rates(df_opt, df_r)\n",
    "    return df #TODO: Fix handling of nan values"
   ]
  },
  {
   "cell_type": "code",
   "execution_count": 3,
   "metadata": {},
   "outputs": [],
   "source": [
    "path_opt = \"./data/options/\"\n",
    "filenames_opt = [\"spx_eod_\" + str(year) + (str(month) if month >= 10 else \"0\"+str(month)) + \".txt\" for year in range(2022, 2022) for month in range(1, 13)] + [\"spx_eod_2022\" + (str(month) if month >= 10 else \"0\" + str(month)) + \".txt\" for month in range(5, 10)]\n",
    "#filenames_opt = [\"spx_eod_202209.txt\"]\n",
    "path_r = \"./data/rates/\"\n",
    "filenames_r = [\"yield-curve-rates-2022.csv\", \"yield-curve-rates-1990-2021.csv\"]\n",
    "\n",
    "df_read = get_model_dataset(path_opt, filenames_opt, path_r, filenames_r, True)\n"
   ]
  },
  {
   "cell_type": "code",
   "execution_count": 4,
   "metadata": {},
   "outputs": [],
   "source": [
    "def lag_features(df, features, seq_length):\n",
    "    \"\"\"Transforms a raw 2D dataframe of option data into 2D dataframe ofsequence data.\n",
    "    Last 2 indexes per sequence are bid and ask price. The len(features)*seq_length\n",
    "    features before are sequences of features\"\"\"\n",
    "    df = df.sort_values([\"Expire_date\", \"Strike\", \"Ttl\"], ascending = [True, True, False])\n",
    "\n",
    "    for step in range(seq_length)[::-1]:\n",
    "        for feature in features:\n",
    "            df[feature + \"-\" + str(step)] = df[feature].shift(step)\n",
    "    \n",
    "    df[\"Check_strike\"] = df[\"Strike\"] == df[\"Strike\"].shift(seq_length-1)\n",
    "    df[\"Check_expire\"] = df[\"Expire_date\"] == df[\"Expire_date\"].shift(seq_length-1)\n",
    "    df = df[(df[\"Check_strike\"] == True) & (df[\"Check_expire\"] == True)]\n",
    "    df = df.drop([\"Check_strike\", \"Check_expire\"], axis=1)\n",
    "    df[[\"Bid_last\", \"Ask_last\"]] = df[[\"Bid\", \"Ask\"]]\n",
    "    return df\n",
    "\n",
    "def create_train_test(df, features, split_date, seq_length):\n",
    "    \"\"\"Splits data in training and test set, and transforms data to right 2D format\"\"\"\n",
    "    train = lag_features(df[df[\"Quote_date\"] < split_date], features, seq_length)\n",
    "    test = lag_features(df[df[\"Quote_date\"] >= split_date], features, seq_length)\n",
    "    return train, test\n",
    "\n",
    "def df_to_xy(df, num_features, seq_length):\n",
    "    array = df.to_numpy()\n",
    "    array_x, array_y = array[:, -num_features*seq_length - 2:-2].astype(np.float32), array[:,-2:].astype(np.float32)\n",
    "    return array_x, array_y\n",
    "\n",
    "def min_max_scale(train, test):\n",
    "    \"\"\"Scales a training and test set using MinMaxScaler. The scaler is calibrated on the training set\"\"\"\n",
    "    scaler = MinMaxScaler()\n",
    "    train = scaler.fit_transform(train)\n",
    "    test = scaler.transform(test)\n",
    "    return train, test\n",
    "\n"
   ]
  }
 ],
 "metadata": {
  "kernelspec": {
   "display_name": "Python 3.8.1 64-bit",
   "language": "python",
   "name": "python3"
  },
  "language_info": {
   "codemirror_mode": {
    "name": "ipython",
    "version": 3
   },
   "file_extension": ".py",
   "mimetype": "text/x-python",
   "name": "python",
   "nbconvert_exporter": "python",
   "pygments_lexer": "ipython3",
   "version": "3.8.1"
  },
  "orig_nbformat": 4,
  "vscode": {
   "interpreter": {
    "hash": "aee8b7b246df8f9039afb4144a1f6fd8d2ca17a180786b69acc140d282b71a49"
   }
  }
 },
 "nbformat": 4,
 "nbformat_minor": 2
}
