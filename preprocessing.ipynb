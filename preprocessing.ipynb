{
 "cells": [
  {
   "cell_type": "code",
   "execution_count": 170,
   "metadata": {},
   "outputs": [],
   "source": [
    "import pandas as pd\n",
    "import matplotlib.pyplot as plt\n",
    "import numpy as np\n",
    "from sklearn.preprocessing import MinMaxScaler"
   ]
  },
  {
   "cell_type": "code",
   "execution_count": 167,
   "metadata": {},
   "outputs": [],
   "source": [
    "def read_files(path, filenames):\n",
    "    \"\"\"\n",
    "    Reads all files and returns a dataframe with only the specificed columns\n",
    "    \"\"\"\n",
    "    return pd.concat((pd.read_csv(path + f, skipinitialspace=True) for f in filenames))\n",
    "\n",
    "def process_options(df_opt, call = True):\n",
    "    \"\"\"\n",
    "    Cleans up column names and add time to live (Ttl) column to the dataframe\n",
    "    \"\"\"\n",
    "\n",
    "    keys = {key: key[key.find(\"[\")+1:key.find(\"]\")][0] + key[key.find(\"[\")+1:key.find(\"]\")][1:].lower()  for key in df_opt.keys()}\n",
    "    df_opt = df_opt.rename(columns=keys)\n",
    "\n",
    "    if call:\n",
    "        keys = {\"C_ask\": \"Ask\", \"C_bid\": \"Bid\"}\n",
    "    else:\n",
    "        keys = {\"P_ask\": \"Ask\", \"P_bid\": \"Bid\"}\n",
    "    df_opt = df_opt.rename(columns=keys)\n",
    "\n",
    "    df_opt[\"Quote_date\"] = pd.to_datetime(df_opt[\"Quote_date\"])\n",
    "    df_opt[\"Expire_date\"] = pd.to_datetime(df_opt[\"Expire_date\"])\n",
    "    df_opt[\"Ttl\"] = df_opt.apply(lambda row: (row.Expire_date - row.Quote_date).days, axis = 1)\n",
    "\n",
    "    df_opt[\"Moneyness\"] = df_opt[\"Underlying_last\"] / df_opt[\"Strike\"]\n",
    "\n",
    "    columns = [\"Quote_date\", \"Expire_date\",  \"Underlying_last\", \"Moneyness\", \"Strike\", \"Ask\", \"Bid\", \"Ttl\"]\n",
    "    df_opt = df_opt[columns]\n",
    "    df_opt = df_opt[df_opt[\"Ttl\"] != 0]\n",
    "    return df_opt[columns]\n",
    "\n",
    "def process_rates(df_r):\n",
    "    \"\"\"\n",
    "    Rename rate duration\n",
    "    \"\"\"\n",
    "    df_r[\"Date\"] = pd.to_datetime(df_r[\"Date\"])\n",
    "    df_r = df_r.rename(columns = {\"Date\" : \"Quote_date\", \"3 Mo\": \"R\"})\n",
    "    #rate_keys = {key: key if key == \"Date\" else int(key.split(\" \")[0])*30 if key.split(\" \")[1] == \"Mo\" else int(key.split(\" \")[0])*365  for key in df_r.keys()}\n",
    "    #df_r = df_r.rename(columns=rate_keys)\n",
    "    columns = [\"Quote_date\", \"R\"]\n",
    "    return df_r[columns]\n",
    "\n",
    "def combine_opt_r(df_opt, df_r):\n",
    "    \"\"\"\n",
    "    Combines the dataset for options and rates\n",
    "    \"\"\"\n",
    "    #df_opt[\"R\"] = df_opt.apply(lambda row : df_rates[str(min(df_r.drop([\"Date\"], axis = 1).keys(), key = lambda x:abs(int(x)-row.Ttl)))][row.Quote_date], axis = 1)\n",
    "    df_opt = pd.merge(df_opt, df_r, on =\"Quote_date\", how = \"left\")\n",
    "    return df_opt\n",
    "\n",
    "def get_model_dataset(path_opt, filenames_opt, path_r, filenames_r, call = True):\n",
    "    \"\"\"\n",
    "    Wrapper function to extract option data and rates. Returns a combined dataframe\n",
    "    \"\"\"\n",
    "    df_opt = read_files(path_opt, filenames_opt)\n",
    "    df_r = read_files(path_r, filenames_r)\n",
    "    df_opt = process_options(df_opt, call)\n",
    "    df_r = process_rates(df_r)\n",
    "    df = combine_opt_r(df_opt, df_r)\n",
    "    return df.dropna() #TODO: Fix handling of nan values"
   ]
  },
  {
   "cell_type": "code",
   "execution_count": 168,
   "metadata": {},
   "outputs": [
    {
     "name": "stdout",
     "output_type": "stream",
     "text": [
      "       Quote_date Expire_date  Underlying_last  Moneyness   Strike     Ask  \\\n",
      "0      2022-09-01  2022-09-02          3968.05   3.968050   1000.0  2972.1   \n",
      "1      2022-09-01  2022-09-02          3968.05   3.306708   1200.0  2771.9   \n",
      "2      2022-09-01  2022-09-02          3968.05   2.834321   1400.0  2572.1   \n",
      "3      2022-09-01  2022-09-02          3968.05   2.480031   1600.0  2368.2   \n",
      "4      2022-09-01  2022-09-02          3968.05   2.204472   1800.0  2165.9   \n",
      "...           ...         ...              ...        ...      ...     ...   \n",
      "177070 2022-09-30  2026-12-18          3589.70   0.407920   8800.0    31.4   \n",
      "177071 2022-09-30  2026-12-18          3589.70   0.398856   9000.0    29.5   \n",
      "177072 2022-09-30  2026-12-18          3589.70   0.390185   9200.0    16.2   \n",
      "177073 2022-09-30  2026-12-18          3589.70   0.373927   9600.0    24.5   \n",
      "177074 2022-09-30  2026-12-18          3589.70   0.358970  10000.0    21.8   \n",
      "\n",
      "           Bid   Ttl     R  \n",
      "0       2961.6     1  2.97  \n",
      "1       2761.7     1  2.97  \n",
      "2       2561.7     1  2.97  \n",
      "3       2357.8     1  2.97  \n",
      "4       2158.1     1  2.97  \n",
      "...        ...   ...   ...  \n",
      "177070    10.0  1540  3.33  \n",
      "177071     6.1  1540  3.33  \n",
      "177072    11.2  1540  3.33  \n",
      "177073     3.3  1540  3.33  \n",
      "177074     7.3  1540  3.33  \n",
      "\n",
      "[169339 rows x 9 columns]\n",
      "<class 'pandas.core.frame.DataFrame'>\n",
      "Int64Index: 169339 entries, 0 to 177074\n",
      "Data columns (total 9 columns):\n",
      " #   Column           Non-Null Count   Dtype         \n",
      "---  ------           --------------   -----         \n",
      " 0   Quote_date       169339 non-null  datetime64[ns]\n",
      " 1   Expire_date      169339 non-null  datetime64[ns]\n",
      " 2   Underlying_last  169339 non-null  float64       \n",
      " 3   Moneyness        169339 non-null  float64       \n",
      " 4   Strike           169339 non-null  float64       \n",
      " 5   Ask              169339 non-null  float64       \n",
      " 6   Bid              169339 non-null  float64       \n",
      " 7   Ttl              169339 non-null  int64         \n",
      " 8   R                169339 non-null  float64       \n",
      "dtypes: datetime64[ns](2), float64(6), int64(1)\n",
      "memory usage: 12.9 MB\n"
     ]
    }
   ],
   "source": [
    "path_opt = \"./data/options/\"\n",
    "#filenames = [\"spx_eod_\" + str(year) + (str(month) if month >= 10 else \"0\"+str(month)) +\".txt\" for year in range(2010, 2022) for month in range(1, 13)] + [\"spx_eod_2022\" + (str(month) if month >= 10 else \"0\"+str(month)) +\".txt\" for month in range(1, 10)]\n",
    "filenames_opt = [\"spx_eod_202209.txt\"]\n",
    "path_r = \"./data/rates/\"\n",
    "filenames_r = [\"yield-curve-rates-2022.csv\", \"yield-curve-rates-1990-2021.csv\"]\n",
    "\n",
    "df_read = get_model_dataset(path_opt, filenames_opt, path_r, filenames_r, True)\n",
    "print(df_read)\n",
    "df_read.info()"
   ]
  },
  {
   "cell_type": "code",
   "execution_count": 192,
   "metadata": {},
   "outputs": [
    {
     "name": "stdout",
     "output_type": "stream",
     "text": [
      "[[0. 0.]\n",
      " [1. 1.]]\n",
      "[[0.1  0.1 ]\n",
      " [0.5  0.25]]\n",
      "[[0.1  0.1 ]\n",
      " [0.5  0.25]]\n"
     ]
    },
    {
     "data": {
      "text/plain": [
       "'\\nprint(train_x.shape)\\nprint(train_y.shape)\\nprint(train_x)\\nprint(train_y)\\nprint(test_x.shape)\\nprint(test_y.shape)\\nprint(train_x)\\nprint(train_y)\\n'"
      ]
     },
     "execution_count": 192,
     "metadata": {},
     "output_type": "execute_result"
    }
   ],
   "source": [
    "def lstm_format(df, features, seq_length):\n",
    "    \"\"\"\n",
    "    Transforms a raw 2D list of option data into a explanatory variable x and explained y\n",
    "    x: 3D matrix of lagged features per sequence\n",
    "    y: 2D array of bid-ask prices per sequence\n",
    "    \"\"\"\n",
    "    df = df.sort_values([\"Expire_date\", \"Strike\", \"Ttl\"], ascending = [True, True, False])\n",
    "\n",
    "    for step in range(seq_length):\n",
    "        for feature in features:\n",
    "            df[feature + \" - \" + str(step)] = df[feature].shift(step)\n",
    "    \n",
    "    df[\"Check_strike\"] = df[\"Strike\"] == df[\"Strike\"].shift(seq_length-1)\n",
    "    df[\"Check_expire\"] = df[\"Expire_date\"] == df[\"Expire_date\"].shift(seq_length-1)\n",
    "    df = df[(df[\"Check_strike\"] == True) & (df[\"Check_expire\"] == True)]\n",
    "\n",
    "    x = df[[feature + \" - \" + str(step) for step in range(seq_length)[::-1] for feature in features]].to_numpy()\n",
    "    y = df[[\"Bid\", \"Ask\"]].to_numpy()\n",
    "    return x, y\n",
    "\n",
    "def create_train_test(df, features, split_date, seq_length):\n",
    "    train_x, train_y = lstm_format(df[df[\"Quote_date\"] < split_date], features, seq_length)\n",
    "    test_x, test_y = lstm_format(df[df[\"Quote_date\"] >= split_date], features, seq_length)\n",
    "    train_x, test_x = min_max_scale(train_x, test_x)\n",
    "    train_y, test_y = min_max_scale(train_y, test_y)\n",
    "    return np.reshape(train_x, (len(train_x), seq_length, len(features))), train_y, np.reshape(test_x, (len(test_x), seq_length, len(features))), test_y\n",
    "\n",
    "def min_max_scale(train, test):\n",
    "    scaler = MinMaxScaler()\n",
    "    train = scaler.fit_transform(train)\n",
    "    test = scaler.transform(test)\n",
    "    return train, test\n",
    "\n",
    "features = [\"Underlying_last\", \"Moneyness\", \"Ttl\", \"R\"]\n",
    "train_x, train_y, test_x, test_y = create_train_test(df_read, features,  \"2022-09-18\", 5)\n",
    "\n",
    "\n",
    "\"\"\"\n",
    "print(train_x.shape)\n",
    "print(train_y.shape)\n",
    "print(train_x)\n",
    "print(train_y)\n",
    "print(test_x.shape)\n",
    "print(test_y.shape)\n",
    "print(train_x)\n",
    "print(train_y)\n",
    "\"\"\"\n"
   ]
  }
 ],
 "metadata": {
  "kernelspec": {
   "display_name": "Python 3.9.4 64-bit",
   "language": "python",
   "name": "python3"
  },
  "language_info": {
   "codemirror_mode": {
    "name": "ipython",
    "version": 3
   },
   "file_extension": ".py",
   "mimetype": "text/x-python",
   "name": "python",
   "nbconvert_exporter": "python",
   "pygments_lexer": "ipython3",
   "version": "3.9.4"
  },
  "orig_nbformat": 4,
  "vscode": {
   "interpreter": {
    "hash": "6d22c5043c0ee61c8547bd88adb0f85d3d6a0a630c1da4282026f99271dac814"
   }
  }
 },
 "nbformat": 4,
 "nbformat_minor": 2
}
